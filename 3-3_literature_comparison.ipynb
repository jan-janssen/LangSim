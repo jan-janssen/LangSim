{
 "cells": [
  {
   "cell_type": "markdown",
   "id": "abebe249-91bd-44ad-bcec-79bf4de2e1a6",
   "metadata": {},
   "source": [
    "https://python.langchain.com/docs/modules/agents/how_to/custom_agent/"
   ]
  },
  {
   "cell_type": "code",
   "execution_count": 1,
   "id": "cbc2afa1-d50b-4c30-9e0a-5dbd8cac7b3b",
   "metadata": {},
   "outputs": [],
   "source": [
    "from getpass import getpass"
   ]
  },
  {
   "cell_type": "code",
   "execution_count": 2,
   "id": "c2e3de94-c93d-490d-90ba-d4ba6e9e3d6d",
   "metadata": {},
   "outputs": [],
   "source": [
    "OPENAI_API_KEY = getpass(prompt='Enter your OpenAI Token:')"
   ]
  },
  {
   "cell_type": "code",
   "execution_count": 3,
   "id": "83bceaad-b609-468d-afa0-c5e3d8532cb2",
   "metadata": {},
   "outputs": [],
   "source": [
    "from ase.units import kJ"
   ]
  },
  {
   "cell_type": "code",
   "execution_count": 4,
   "id": "bf956016-ef67-4ffa-93ae-06cb4e242145",
   "metadata": {},
   "outputs": [],
   "source": [
    "from ase.build import bulk"
   ]
  },
  {
   "cell_type": "code",
   "execution_count": 5,
   "id": "f58d0295-93b5-46b6-935e-cbf19713b54e",
   "metadata": {},
   "outputs": [],
   "source": [
    "from ase.calculators.emt import EMT\n",
    "from ase.eos import calculate_eos"
   ]
  },
  {
   "cell_type": "code",
   "execution_count": 6,
   "id": "b9b96907-ad13-4a4b-862f-bf3f887dd52a",
   "metadata": {},
   "outputs": [],
   "source": [
    "from ase.data import reference_states, atomic_numbers"
   ]
  },
  {
   "cell_type": "code",
   "execution_count": 7,
   "id": "7b00e00d-ad9b-4b2b-8e0c-30b9d17355d8",
   "metadata": {},
   "outputs": [],
   "source": [
    "from langchain.agents import tool"
   ]
  },
  {
   "cell_type": "code",
   "execution_count": 8,
   "id": "2589f1ed",
   "metadata": {},
   "outputs": [],
   "source": [
    "from mendeleev import element\n",
    "import pandas as pd"
   ]
  },
  {
   "cell_type": "code",
   "execution_count": 9,
   "id": "9fc084a0",
   "metadata": {},
   "outputs": [],
   "source": [
    "@tool\n",
    "def get_element_property_mendeleev(chemical_symbol: str, property: str) -> str:\n",
    "    \"\"\"\n",
    "    Get the value of a property for a given chemical symbol from the Mendeleev database.\n",
    "\n",
    "    Args:\n",
    "    - symbol (str): Chemical symbol of the element.\n",
    "    - property_name (str): Name of the property to retrieve. \n",
    "\n",
    "    Returns:\n",
    "    - Property value (various types): Value of the property for the given element, if available in Mendeleev database.\n",
    "    \"\"\"\n",
    "\n",
    "    property_units = {\n",
    "    'atomic_number': '',\n",
    "    'symbol': '',\n",
    "    'name': '',\n",
    "    'atomic_mass': 'g/mol',\n",
    "    'density': 'g/cm³',\n",
    "    'melting_point': 'K',\n",
    "    'boiling_point': 'K',\n",
    "    'electronegativity': '',\n",
    "    'ionenergies': 'eV',\n",
    "    'electron_affinity': 'eV',\n",
    "    'covalent_radius': 'Å',\n",
    "    'vdw_radius': 'Å',\n",
    "    'atomic_volume': 'cm³/mol',\n",
    "    'poissons_ratio': '',\n",
    "    'specific_heat_capacity': 'J/(g*K)',\n",
    "    'thermal_conductivity': 'W/(m*K)',\n",
    "    'electrical_resistivity': 'µΩ*cm'\n",
    "    }\n",
    "\n",
    "    elem = element(chemical_symbol)\n",
    "    \n",
    "    # Convert property name to lowercase for case insensitivity\n",
    "    property = property.lower()\n",
    "    \n",
    "\n",
    "    # Check if the property exists for the element\n",
    "    if hasattr(elem, property):\n",
    "        property_value = getattr(elem, property)\n",
    "        unit = property_units.get(property, '')\n",
    "        return f\"{property_value} {unit}\"\n",
    "    else:\n",
    "        return f\"Property '{property}' is not available for the element '{chemical_symbol}'.\""
   ]
  },
  {
   "cell_type": "code",
   "execution_count": 10,
   "id": "6e6507ec",
   "metadata": {},
   "outputs": [],
   "source": [
    "@tool\n",
    "def get_experimental_elastic_element_property_wikipedia(chemical_symbol: str, property: str) -> str:\n",
    "    \"\"\"\n",
    "    Tables to lookup elastic properties for a given chemical symbol from the Wikipedia: https://en.wikipedia.org/wiki/Elastic_properties_of_the_elements_(data_page) sourced from webelements.com.\n",
    "    Args:\n",
    "    - symbol (str): Chemical symbol of the element.\n",
    "    - property_name (str): Name of the property to retrieve. Options: youngs_modulus, poissons_ratio, bulk_modulus, shear_modulus \n",
    "\n",
    "    Returns:\n",
    "    - Property value (various types): Value of the property for the given element, if available.\n",
    "\n",
    "    \"\"\"\n",
    "    tables=pd.read_html(\"https://en.wikipedia.org/wiki/Elastic_properties_of_the_elements_(data_page)\")\n",
    "    # Check if the property exists for the element\n",
    "    try:\n",
    "        property_options = {\"youngs_modulus\":[0,\"GPa\"], \"poissons_ratio\":[1,\"\"], \"bulk_modulus\":[2,\"GPa\"], \"shear_modulus\":[3, \"GPa\"]}\n",
    "        lookup = property_options.get(property)\n",
    "        lookup_id =lookup[0]\n",
    "        unit = lookup[1]\n",
    "        lookup_table = tables[lookup_id]\n",
    "        # Take the column that extracts experimental value from \n",
    "        property_value = lookup_table[lookup_table['symbol']==chemical_symbol]['WEL[1]'].item()\n",
    "        return f\"{property_value} {unit}\"\n",
    "    except:\n",
    "        return f\"Property '{property}' is not available for the element '{chemical_symbol}'.\""
   ]
  },
  {
   "cell_type": "code",
   "execution_count": 11,
   "id": "b63d0f9c-8034-4344-a77a-ad30ff32002e",
   "metadata": {},
   "outputs": [],
   "source": [
    "@tool\n",
    "def get_crystal_structure(chemical_symbol: str) -> str:\n",
    "    \"\"\"Returns the atomic crystal structure of a chemcial symbol\"\"\"\n",
    "    ref_state = reference_states[atomic_numbers[chemical_symbol]]\n",
    "    if ref_state is None:\n",
    "        return \"No crystal structure known.\"\n",
    "    else:\n",
    "        return ref_state[\"symmetry\"]"
   ]
  },
  {
   "cell_type": "code",
   "execution_count": 12,
   "id": "a985d5ac-7b52-4f7c-bb16-24400ebaba1c",
   "metadata": {},
   "outputs": [],
   "source": [
    "@tool\n",
    "def get_bulk_modulus(chemical_symbol: str, crystal_structure: str) -> str:\n",
    "    \"\"\"Returns the bulk modulus of chemcial symbol for a given crystal structure in GPa using calculation\"\"\"\n",
    "    atoms = bulk(name=chemical_symbol, crystalstructure=crystal_structure,)\n",
    "    atoms.calc = EMT()\n",
    "    eos = calculate_eos(atoms)\n",
    "    v, e, B = eos.fit()\n",
    "    return B / kJ * 1.0e24"
   ]
  },
  {
   "cell_type": "code",
   "execution_count": 15,
   "id": "6529e329-0947-443a-8325-42ef3510803d",
   "metadata": {},
   "outputs": [],
   "source": [
    "from langchain_openai import ChatOpenAI\n",
    "\n",
    "llm = ChatOpenAI(model=\"gpt-3.5-turbo\", temperature=0, openai_api_key=OPENAI_API_KEY)"
   ]
  },
  {
   "cell_type": "code",
   "execution_count": 16,
   "id": "30725a49-443e-40e0-b016-95035596de67",
   "metadata": {},
   "outputs": [],
   "source": [
    "tools = [get_crystal_structure, get_bulk_modulus, get_experimental_elastic_element_property_wikipedia, get_element_property_mendeleev]"
   ]
  },
  {
   "cell_type": "code",
   "execution_count": 17,
   "id": "c2edad58-849b-424f-8460-92507e9545ac",
   "metadata": {},
   "outputs": [],
   "source": [
    "from langchain_core.prompts import ChatPromptTemplate, MessagesPlaceholder\n",
    "\n",
    "prompt = ChatPromptTemplate.from_messages(\n",
    "    [\n",
    "        (\n",
    "            \"system\",\n",
    "            # \"You are very powerful assistant, but don't know current events.\",\n",
    "            \"You are very powerful assistant, but don't know current events. For each query vailidate that it contains a chemical element and otherwise cancel. Note that you have both simulation tools available as well as access to literature. \",\n",
    "        ),\n",
    "        (\"user\", \"{input}\"),\n",
    "        MessagesPlaceholder(variable_name=\"agent_scratchpad\"),\n",
    "    ]\n",
    ")"
   ]
  },
  {
   "cell_type": "code",
   "execution_count": 18,
   "id": "4487ba3d-bed9-4c73-8309-e67c9b58a1ba",
   "metadata": {},
   "outputs": [],
   "source": [
    "llm_with_tools = llm.bind_tools(tools)"
   ]
  },
  {
   "cell_type": "code",
   "execution_count": 19,
   "id": "c1e01a3b-8b21-4538-b67d-6d5c40c66f94",
   "metadata": {},
   "outputs": [],
   "source": [
    "from langchain.agents.format_scratchpad.openai_tools import (\n",
    "    format_to_openai_tool_messages,\n",
    ")\n",
    "from langchain.agents.output_parsers.openai_tools import OpenAIToolsAgentOutputParser\n",
    "\n",
    "agent = (\n",
    "    {\n",
    "        \"input\": lambda x: x[\"input\"],\n",
    "        \"agent_scratchpad\": lambda x: format_to_openai_tool_messages(\n",
    "            x[\"intermediate_steps\"]\n",
    "        ),\n",
    "    }\n",
    "    | prompt\n",
    "    | llm_with_tools\n",
    "    | OpenAIToolsAgentOutputParser()\n",
    ")"
   ]
  },
  {
   "cell_type": "code",
   "execution_count": 20,
   "id": "5550d832-0fb5-477e-b9d3-222651e9985c",
   "metadata": {},
   "outputs": [],
   "source": [
    "from langchain.agents import AgentExecutor\n",
    "\n",
    "agent_executor = AgentExecutor(agent=agent, tools=tools, verbose=True)"
   ]
  },
  {
   "cell_type": "markdown",
   "id": "2c234318",
   "metadata": {},
   "source": [
    "### We now have several ways to try to get to the bulk modulus of Gold: Wikipedia tables lookup (Webelements.com), Mendeleev database (not available), and ASE calculation"
   ]
  },
  {
   "cell_type": "markdown",
   "id": "3831e49b",
   "metadata": {},
   "source": [
    "Adding other sources confuse "
   ]
  },
  {
   "cell_type": "code",
   "execution_count": 21,
   "id": "7ec97b5e",
   "metadata": {},
   "outputs": [
    {
     "name": "stdout",
     "output_type": "stream",
     "text": [
      "\n",
      "\n",
      "\u001b[1m> Entering new AgentExecutor chain...\u001b[0m\n",
      "\u001b[32;1m\u001b[1;3m\n",
      "Invoking: `get_element_property_mendeleev` with `{'chemical_symbol': 'Au', 'property': 'bulk_modulus'}`\n",
      "\n",
      "\n",
      "\u001b[0m\u001b[36;1m\u001b[1;3mProperty 'bulk_modulus' is not available for the element 'Au'.\u001b[0m\u001b[32;1m\u001b[1;3m\n",
      "Invoking: `get_experimental_elastic_element_property_wikipedia` with `{'chemical_symbol': 'Au', 'property': 'bulk_modulus'}`\n",
      "\n",
      "\n",
      "\u001b[0m\u001b[38;5;200m\u001b[1;3m180 GPa\u001b[0m\u001b[32;1m\u001b[1;3mThe bulk modulus of gold is approximately 180 GPa.\u001b[0m\n",
      "\n",
      "\u001b[1m> Finished chain.\u001b[0m\n"
     ]
    }
   ],
   "source": [
    "lst = list(agent_executor.stream({\"input\": \"What is the bulk modulus of gold?\"}))"
   ]
  },
  {
   "cell_type": "code",
   "execution_count": 23,
   "id": "a7d411cd",
   "metadata": {},
   "outputs": [
    {
     "name": "stdout",
     "output_type": "stream",
     "text": [
      "\n",
      "\n",
      "\u001b[1m> Entering new AgentExecutor chain...\u001b[0m\n",
      "\u001b[32;1m\u001b[1;3m\n",
      "Invoking: `get_crystal_structure` with `{'chemical_symbol': 'Au'}`\n",
      "\n",
      "\n",
      "\u001b[0m\u001b[36;1m\u001b[1;3mfcc\u001b[0m\u001b[32;1m\u001b[1;3m\n",
      "Invoking: `get_bulk_modulus` with `{'chemical_symbol': 'Au', 'crystal_structure': 'fcc'}`\n",
      "\n",
      "\n",
      "\u001b[0m\u001b[33;1m\u001b[1;3m173.8389836420435\u001b[0m\u001b[32;1m\u001b[1;3mThe bulk modulus of gold (Au) in a face-centered cubic (fcc) crystal structure is approximately 173.84 GPa.\u001b[0m\n",
      "\n",
      "\u001b[1m> Finished chain.\u001b[0m\n"
     ]
    }
   ],
   "source": [
    "lst = list(agent_executor.stream({\"input\": \"What is the bulk modulus of gold? Don't use lookups/databases, but use calculation with ASE.\"}))  # This worked just by adding the words \"using calculation\" to the docstring of the calculation tool."
   ]
  },
  {
   "cell_type": "code",
   "execution_count": 24,
   "id": "83545292",
   "metadata": {},
   "outputs": [
    {
     "name": "stdout",
     "output_type": "stream",
     "text": [
      "\n",
      "\n",
      "\u001b[1m> Entering new AgentExecutor chain...\u001b[0m\n",
      "\u001b[32;1m\u001b[1;3m\n",
      "Invoking: `get_experimental_elastic_element_property_wikipedia` with `{'chemical_symbol': 'Au', 'property': 'bulk_modulus'}`\n",
      "\n",
      "\n",
      "\u001b[0m\u001b[38;5;200m\u001b[1;3m180 GPa\u001b[0m\u001b[32;1m\u001b[1;3mThe bulk modulus of gold (Au) is approximately 180 GPa based on experimental data.\u001b[0m\n",
      "\n",
      "\u001b[1m> Finished chain.\u001b[0m\n"
     ]
    }
   ],
   "source": [
    "lst = list(agent_executor.stream({\"input\": \"What is the bulk modulus of gold? Don't use calculation but the database/lookup tables you have.\"}))  # This worked just by adding the words \"using calculation\" to the docstring of the calculation tool."
   ]
  },
  {
   "cell_type": "code",
   "execution_count": 129,
   "id": "935ba8d7",
   "metadata": {},
   "outputs": [
    {
     "name": "stdout",
     "output_type": "stream",
     "text": [
      "\n",
      "\n",
      "\u001b[1m> Entering new AgentExecutor chain...\u001b[0m\n",
      "\u001b[32;1m\u001b[1;3mI can only provide information on chemical elements. Please provide a chemical element to retrieve the bulk modulus.\u001b[0m\n",
      "\n",
      "\u001b[1m> Finished chain.\u001b[0m\n"
     ]
    }
   ],
   "source": [
    "lst = list(agent_executor.stream({\"input\": \"What is the bulk modulus of a car?\"}))  # This worked just by adding the words \"using calculation\" to the docstring of the calculation tool."
   ]
  },
  {
   "cell_type": "markdown",
   "id": "14416945",
   "metadata": {},
   "source": [
    "### Prompt to compare calculation with literature"
   ]
  },
  {
   "cell_type": "code",
   "execution_count": 134,
   "id": "aebbc21a",
   "metadata": {},
   "outputs": [
    {
     "name": "stdout",
     "output_type": "stream",
     "text": [
      "\n",
      "\n",
      "\u001b[1m> Entering new AgentExecutor chain...\u001b[0m\n",
      "\u001b[32;1m\u001b[1;3m\n",
      "Invoking: `get_crystal_structure` with `{'chemical_symbol': 'Au'}`\n",
      "\n",
      "\n",
      "\u001b[0m\u001b[36;1m\u001b[1;3mfcc\u001b[0m\u001b[32;1m\u001b[1;3m\n",
      "Invoking: `get_bulk_modulus` with `{'chemical_symbol': 'Au', 'crystal_structure': 'fcc'}`\n",
      "\n",
      "\n",
      "\u001b[0m\u001b[33;1m\u001b[1;3m173.8389836420435\u001b[0m\u001b[32;1m\u001b[1;3m\n",
      "Invoking: `get_experimental_elastic_element_property_wikipedia` with `{'chemical_symbol': 'Au', 'property': 'bulk_modulus'}`\n",
      "\n",
      "\n",
      "\u001b[0m\u001b[38;5;200m\u001b[1;3m180 GPa\u001b[0m\u001b[32;1m\u001b[1;3mThe calculated bulk modulus of gold in a face-centered cubic (fcc) crystal structure is approximately 173.84 GPa. \n",
      "\n",
      "The experimental value for the bulk modulus of gold is reported to be 180 GPa. This experimental value can be found on [Wikipedia](https://en.wikipedia.org/wiki/Elastic_properties_of_the_elements_(data_page)) sourced from webelements.com.\u001b[0m\n",
      "\n",
      "\u001b[1m> Finished chain.\u001b[0m\n"
     ]
    }
   ],
   "source": [
    "lst = list(agent_executor.stream({\"input\": \"I want to calculate the bulk modulus of gold. Could you compare it to an experimental value from literature (Please name the source + link)?\"}))  # This worked just by adding the words \"using calculation\" to the docstring of the calculation tool."
   ]
  },
  {
   "cell_type": "markdown",
   "id": "ee04993f",
   "metadata": {},
   "source": []
  },
  {
   "cell_type": "markdown",
   "id": "4a7f9b5f-cfe3-4b9c-9190-33d9505beedd",
   "metadata": {},
   "source": [
    "# Lessons learned: \n",
    "* Multiple tools can confuse the model so it might stop after using one tool\n",
    "* Explicitly mentioning to use all tools/which tools helps to get to a result\n",
    "* The more tools there are the more important it is to have good prompts and good docstrings inside the tools. **Sensitive to wording!!**"
   ]
  },
  {
   "cell_type": "code",
   "execution_count": null,
   "id": "766f4831",
   "metadata": {},
   "outputs": [],
   "source": []
  }
 ],
 "metadata": {
  "kernelspec": {
   "display_name": "Python 3 (ipykernel)",
   "language": "python",
   "name": "python3"
  },
  "language_info": {
   "codemirror_mode": {
    "name": "ipython",
    "version": 3
   },
   "file_extension": ".py",
   "mimetype": "text/x-python",
   "name": "python",
   "nbconvert_exporter": "python",
   "pygments_lexer": "ipython3",
   "version": "3.12.3"
  }
 },
 "nbformat": 4,
 "nbformat_minor": 5
}
