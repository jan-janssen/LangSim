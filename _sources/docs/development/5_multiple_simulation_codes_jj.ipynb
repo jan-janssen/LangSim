{
 "cells": [
  {
   "cell_type": "markdown",
   "id": "abebe249-91bd-44ad-bcec-79bf4de2e1a6",
   "metadata": {},
   "source": [
    "https://python.langchain.com/docs/modules/agents/how_to/custom_agent/"
   ]
  },
  {
   "cell_type": "code",
   "execution_count": null,
   "id": "cbc2afa1-d50b-4c30-9e0a-5dbd8cac7b3b",
   "metadata": {},
   "outputs": [],
   "source": [
    "from getpass import getpass"
   ]
  },
  {
   "cell_type": "code",
   "execution_count": null,
   "id": "c2e3de94-c93d-490d-90ba-d4ba6e9e3d6d",
   "metadata": {},
   "outputs": [],
   "source": [
    "OPENAI_API_KEY = getpass(prompt='Enter your OpenAI Token:')"
   ]
  },
  {
   "cell_type": "code",
   "execution_count": null,
   "id": "b9b96907-ad13-4a4b-862f-bf3f887dd52a",
   "metadata": {},
   "outputs": [],
   "source": [
    "from ase.atoms import Atoms\n",
    "from ase.build import bulk\n",
    "from ase.calculators.emt import EMT\n",
    "from ase.constraints import UnitCellFilter\n",
    "from ase.eos import calculate_eos, plot\n",
    "from ase.data import reference_states, atomic_numbers\n",
    "from ase.optimize import LBFGS\n",
    "from ase.units import kJ"
   ]
  },
  {
   "cell_type": "code",
   "execution_count": null,
   "id": "419d1df1-357c-4e06-917c-79f009c7cd36",
   "metadata": {},
   "outputs": [],
   "source": [
    "from mace.calculators import mace_mp"
   ]
  },
  {
   "cell_type": "code",
   "execution_count": null,
   "id": "7b00e00d-ad9b-4b2b-8e0c-30b9d17355d8",
   "metadata": {},
   "outputs": [],
   "source": [
    "from langchain.agents import tool"
   ]
  },
  {
   "cell_type": "code",
   "execution_count": null,
   "id": "25f967bd-f431-4780-ab45-21495f40bce3",
   "metadata": {},
   "outputs": [],
   "source": [
    "import matplotlib.pyplot as plt"
   ]
  },
  {
   "cell_type": "code",
   "execution_count": null,
   "id": "d244a7a4-d564-4611-aea4-10ff733315ef",
   "metadata": {},
   "outputs": [],
   "source": [
    "from langchain_core.pydantic_v1 import BaseModel"
   ]
  },
  {
   "cell_type": "code",
   "execution_count": null,
   "id": "33454233-8bff-4578-a0dc-99bf001a3fb3",
   "metadata": {},
   "outputs": [],
   "source": [
    "import numpy as np"
   ]
  },
  {
   "cell_type": "code",
   "execution_count": null,
   "id": "cf1a636e-3507-42db-b9e0-761053dfeff4",
   "metadata": {},
   "outputs": [],
   "source": [
    "from typing import List"
   ]
  },
  {
   "cell_type": "code",
   "execution_count": null,
   "id": "be7e3425-be69-43a2-8bb4-865dae00e16d",
   "metadata": {},
   "outputs": [],
   "source": [
    "class AtomsDict(BaseModel):\n",
    "    numbers: List[int]\n",
    "    positions: List[List[float]]\n",
    "    cell: List[List[float]]\n",
    "    pbc: List[bool]"
   ]
  },
  {
   "cell_type": "code",
   "execution_count": null,
   "id": "07c0f551-d758-4621-a29d-eae39480e208",
   "metadata": {},
   "outputs": [],
   "source": [
    "AtomsDict.schema()"
   ]
  },
  {
   "cell_type": "code",
   "execution_count": null,
   "id": "c639be11-4389-4e17-938c-81f66f4092ca",
   "metadata": {},
   "outputs": [],
   "source": [
    "def get_calculator(calculator_str: str = \"emt\"):\n",
    "    if calculator_str == \"emt\":\n",
    "        return EMT()\n",
    "    elif calculator_str == \"mace\":\n",
    "        return mace_mp(\n",
    "            model=\"medium\",\n",
    "            dispersion=False,\n",
    "            default_dtype=\"float32\",\n",
    "            device='cpu'\n",
    "        )"
   ]
  },
  {
   "cell_type": "code",
   "execution_count": null,
   "id": "77b80d14-44c4-4793-b3bf-be461b637e2b",
   "metadata": {},
   "outputs": [],
   "source": [
    "@tool \n",
    "def get_equilibirum_lattice(chemical_symbol: str, calculator_str: str) -> AtomsDict:\n",
    "    \"\"\"Returns equilibrium atoms dictionary for a given chemical symbol and a selected model specified by the calculator string\"\"\"\n",
    "    atoms = bulk(name=chemical_symbol)\n",
    "    atoms.calc = get_calculator(calculator_str=calculator_str)\n",
    "    ase_optimizer_obj = LBFGS(UnitCellFilter(atoms))\n",
    "    ase_optimizer_obj.run(fmax=0.000001)\n",
    "    return AtomsDict(**{k: v.tolist() for k, v in atoms.todict().items()})"
   ]
  },
  {
   "cell_type": "code",
   "execution_count": null,
   "id": "a985d5ac-7b52-4f7c-bb16-24400ebaba1c",
   "metadata": {},
   "outputs": [],
   "source": [
    "@tool\n",
    "def plot_equation_of_state(atom_dict: AtomsDict, calculator_str: str) -> str:\n",
    "    \"\"\"Returns plot of equation of state of chemical symbol for a given atoms dictionary and a selected model specified by the calculator string\"\"\"\n",
    "    atoms = Atoms(**atom_dict.dict())\n",
    "    atoms.calc = get_calculator(calculator_str=calculator_str)\n",
    "    eos = calculate_eos(atoms)\n",
    "    plotdata = eos.getplotdata()\n",
    "    print(*plotdata)\n",
    "    return plot(*plotdata)"
   ]
  },
  {
   "cell_type": "code",
   "execution_count": null,
   "id": "fc63c8c2-c94c-4989-aaa8-0c90a65cb8b1",
   "metadata": {},
   "outputs": [],
   "source": [
    "el = \"Al\"\n",
    "structure_dict = get_equilibirum_lattice.invoke({\"chemical_symbol\": el, \"calculator_str\": \"emt\"})\n",
    "plot_equation_of_state.invoke({\"atom_dict\": structure_dict, \"calculator_str\": \"emt\"})"
   ]
  },
  {
   "cell_type": "code",
   "execution_count": null,
   "id": "6529e329-0947-443a-8325-42ef3510803d",
   "metadata": {},
   "outputs": [],
   "source": [
    "from langchain_openai import ChatOpenAI\n",
    "\n",
    "llm = ChatOpenAI(model=\"gpt-3.5-turbo\", temperature=0, openai_api_key=OPENAI_API_KEY)"
   ]
  },
  {
   "cell_type": "code",
   "execution_count": null,
   "id": "30725a49-443e-40e0-b016-95035596de67",
   "metadata": {},
   "outputs": [],
   "source": [
    "tools = [get_equilibirum_lattice, plot_equation_of_state]"
   ]
  },
  {
   "cell_type": "code",
   "execution_count": null,
   "id": "c2edad58-849b-424f-8460-92507e9545ac",
   "metadata": {},
   "outputs": [],
   "source": [
    "from langchain_core.prompts import ChatPromptTemplate, MessagesPlaceholder\n",
    "\n",
    "prompt = ChatPromptTemplate.from_messages(\n",
    "    [\n",
    "        (\n",
    "            \"system\",\n",
    "            # \"You are very powerful assistant, but don't know current events.\",\n",
    "            # \"You are very powerful assistant, but don't know current events. For each query vailidate that it contains a chemical element and otherwise cancel.\",\n",
    "            \"You are very powerful assistant, but don't know current events. To calculate with emt use the calculator string emt and to calculate with mace use the calculator string mace. For each query vailidate that it contains a chemical element and a calculator string and otherwise use Alumninum as the default chemical element and emt as the default calculator string.\",\n",
    "        ),\n",
    "        (\"user\", \"{input}\"),\n",
    "        MessagesPlaceholder(variable_name=\"agent_scratchpad\"),\n",
    "    ]\n",
    ")"
   ]
  },
  {
   "cell_type": "code",
   "execution_count": null,
   "id": "4487ba3d-bed9-4c73-8309-e67c9b58a1ba",
   "metadata": {},
   "outputs": [],
   "source": [
    "llm_with_tools = llm.bind_tools(tools)"
   ]
  },
  {
   "cell_type": "code",
   "execution_count": null,
   "id": "c1e01a3b-8b21-4538-b67d-6d5c40c66f94",
   "metadata": {},
   "outputs": [],
   "source": [
    "from langchain.agents.format_scratchpad.openai_tools import (\n",
    "    format_to_openai_tool_messages,\n",
    ")\n",
    "from langchain.agents.output_parsers.openai_tools import OpenAIToolsAgentOutputParser\n",
    "\n",
    "agent = (\n",
    "    {\n",
    "        \"input\": lambda x: x[\"input\"],\n",
    "        \"agent_scratchpad\": lambda x: format_to_openai_tool_messages(\n",
    "            x[\"intermediate_steps\"]\n",
    "        ),\n",
    "    }\n",
    "    | prompt\n",
    "    | llm_with_tools\n",
    "    | OpenAIToolsAgentOutputParser()\n",
    ")"
   ]
  },
  {
   "cell_type": "code",
   "execution_count": null,
   "id": "5550d832-0fb5-477e-b9d3-222651e9985c",
   "metadata": {},
   "outputs": [],
   "source": [
    "from langchain.agents import AgentExecutor\n",
    "\n",
    "agent_executor = AgentExecutor(agent=agent, tools=tools, verbose=True)"
   ]
  },
  {
   "cell_type": "code",
   "execution_count": null,
   "id": "ac9edf53-8963-4b58-bcb6-742106424757",
   "metadata": {},
   "outputs": [],
   "source": [
    "lst = list(agent_executor.stream({\"input\": \"Plot the equation of state of gold\"}))  # Yeah this worked !!"
   ]
  },
  {
   "cell_type": "code",
   "execution_count": null,
   "id": "73c223f6-a180-4fad-9fb5-e3a44bde53ff",
   "metadata": {},
   "outputs": [],
   "source": [
    "lst[0]"
   ]
  },
  {
   "cell_type": "code",
   "execution_count": null,
   "id": "e4c068f9-d85d-4720-affb-f0619ec904fd",
   "metadata": {},
   "outputs": [],
   "source": [
    "lst[1]"
   ]
  },
  {
   "cell_type": "code",
   "execution_count": null,
   "id": "4a8c792b-a5c6-44b7-9200-7782572b14de",
   "metadata": {},
   "outputs": [],
   "source": [
    "lst[2]"
   ]
  },
  {
   "cell_type": "code",
   "execution_count": null,
   "id": "ef5429b2-2513-4727-9572-1937028f019b",
   "metadata": {},
   "outputs": [],
   "source": [
    "lst[3]"
   ]
  },
  {
   "cell_type": "code",
   "execution_count": null,
   "id": "1e28a927-aea2-4be9-be56-84c2ef1eee19",
   "metadata": {},
   "outputs": [],
   "source": [
    "lst[4]"
   ]
  },
  {
   "cell_type": "code",
   "execution_count": null,
   "id": "439897ee-7d55-4257-8de9-8610a343536c",
   "metadata": {},
   "outputs": [],
   "source": [
    "lst = list(agent_executor.stream({\"input\": \"Plot the equation of state of gold calculated with the mace model\"}))  # Yeah this worked !!"
   ]
  },
  {
   "cell_type": "code",
   "execution_count": null,
   "id": "d51e40af-8705-44ac-b5d5-53eeb09df089",
   "metadata": {},
   "outputs": [],
   "source": [
    "lst = list(agent_executor.stream({\"input\": \"Plot the equation of state\"}))  # This worked before but does not work now !!"
   ]
  },
  {
   "cell_type": "markdown",
   "id": "4a7f9b5f-cfe3-4b9c-9190-33d9505beedd",
   "metadata": {},
   "source": [
    "# Lessons learned: \n",
    "* Handling types between python functions is still ugly, it is not possible to transfer ASE atoms objects. Rather we use pydantic classes, still even for those tuples are not allowed. "
   ]
  },
  {
   "cell_type": "code",
   "execution_count": null,
   "id": "85e7b8dd-8584-4789-932d-20bc70101eba",
   "metadata": {},
   "outputs": [],
   "source": []
  }
 ],
 "metadata": {
  "kernelspec": {
   "display_name": "Python 3 (ipykernel)",
   "language": "python",
   "name": "python3"
  },
  "language_info": {
   "codemirror_mode": {
    "name": "ipython",
    "version": 3
   },
   "file_extension": ".py",
   "mimetype": "text/x-python",
   "name": "python",
   "nbconvert_exporter": "python",
   "pygments_lexer": "ipython3",
   "version": "3.12.3"
  }
 },
 "nbformat": 4,
 "nbformat_minor": 5
}
