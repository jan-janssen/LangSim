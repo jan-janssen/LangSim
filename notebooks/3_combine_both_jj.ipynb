{
 "cells": [
  {
   "cell_type": "markdown",
   "id": "abebe249-91bd-44ad-bcec-79bf4de2e1a6",
   "metadata": {},
   "source": [
    "https://python.langchain.com/docs/modules/agents/how_to/custom_agent/"
   ]
  },
  {
   "cell_type": "code",
   "execution_count": 1,
   "id": "cbc2afa1-d50b-4c30-9e0a-5dbd8cac7b3b",
   "metadata": {},
   "outputs": [],
   "source": [
    "from getpass import getpass"
   ]
  },
  {
   "cell_type": "code",
   "execution_count": 2,
   "id": "c2e3de94-c93d-490d-90ba-d4ba6e9e3d6d",
   "metadata": {},
   "outputs": [
    {
     "name": "stdin",
     "output_type": "stream",
     "text": [
      "Enter your OpenAI Token: ········\n"
     ]
    }
   ],
   "source": [
    "OPENAI_API_KEY = getpass(prompt='Enter your OpenAI Token:')"
   ]
  },
  {
   "cell_type": "code",
   "execution_count": 3,
   "id": "83bceaad-b609-468d-afa0-c5e3d8532cb2",
   "metadata": {},
   "outputs": [],
   "source": [
    "from ase.units import kJ"
   ]
  },
  {
   "cell_type": "code",
   "execution_count": 4,
   "id": "bf956016-ef67-4ffa-93ae-06cb4e242145",
   "metadata": {},
   "outputs": [],
   "source": [
    "from ase.build import bulk"
   ]
  },
  {
   "cell_type": "code",
   "execution_count": 5,
   "id": "f58d0295-93b5-46b6-935e-cbf19713b54e",
   "metadata": {},
   "outputs": [],
   "source": [
    "from ase.calculators.emt import EMT\n",
    "from ase.eos import calculate_eos"
   ]
  },
  {
   "cell_type": "code",
   "execution_count": 6,
   "id": "b9b96907-ad13-4a4b-862f-bf3f887dd52a",
   "metadata": {},
   "outputs": [],
   "source": [
    "from ase.data import reference_states, atomic_numbers"
   ]
  },
  {
   "cell_type": "code",
   "execution_count": 7,
   "id": "7b00e00d-ad9b-4b2b-8e0c-30b9d17355d8",
   "metadata": {},
   "outputs": [],
   "source": [
    "from langchain.agents import tool"
   ]
  },
  {
   "cell_type": "code",
   "execution_count": 8,
   "id": "b63d0f9c-8034-4344-a77a-ad30ff32002e",
   "metadata": {},
   "outputs": [],
   "source": [
    "@tool\n",
    "def get_crystal_structure(chemical_symbol: str) -> str:\n",
    "    \"\"\"Returns the atomic crystal structure of a chemcial symbol\"\"\"\n",
    "    ref_state = reference_states[atomic_numbers[chemical_symbol]]\n",
    "    if ref_state is None:\n",
    "        return \"No crystal structure known.\"\n",
    "    else:\n",
    "        return ref_state[\"symmetry\"]"
   ]
  },
  {
   "cell_type": "code",
   "execution_count": 9,
   "id": "a985d5ac-7b52-4f7c-bb16-24400ebaba1c",
   "metadata": {},
   "outputs": [],
   "source": [
    "@tool\n",
    "def get_bulk_modulus(chemical_symbol: str, crystal_structure: str) -> str:\n",
    "    \"\"\"Returns the bulk modulus of chemcial symbol for a given crystal structure in GPa\"\"\"\n",
    "    atoms = bulk(name=chemical_symbol, crystalstructure=crystal_structure,)\n",
    "    atoms.calc = EMT()\n",
    "    eos = calculate_eos(atoms)\n",
    "    v, e, B = eos.fit()\n",
    "    return B / kJ * 1.0e24"
   ]
  },
  {
   "cell_type": "code",
   "execution_count": 10,
   "id": "6d939068-506e-4fbe-aac9-97ca482d2b6e",
   "metadata": {},
   "outputs": [
    {
     "data": {
      "text/plain": [
       "39.91626202227382"
      ]
     },
     "execution_count": 10,
     "metadata": {},
     "output_type": "execute_result"
    }
   ],
   "source": [
    "el = \"Al\"\n",
    "crystal_structure = get_crystal_structure.invoke(\"Al\")\n",
    "get_bulk_modulus.invoke({\"chemical_symbol\": \"Al\", \"crystal_structure\": crystal_structure})"
   ]
  },
  {
   "cell_type": "code",
   "execution_count": 11,
   "id": "6529e329-0947-443a-8325-42ef3510803d",
   "metadata": {},
   "outputs": [],
   "source": [
    "from langchain_openai import ChatOpenAI\n",
    "\n",
    "llm = ChatOpenAI(model=\"gpt-3.5-turbo\", temperature=0, openai_api_key=OPENAI_API_KEY)"
   ]
  },
  {
   "cell_type": "code",
   "execution_count": 12,
   "id": "30725a49-443e-40e0-b016-95035596de67",
   "metadata": {},
   "outputs": [],
   "source": [
    "tools = [get_crystal_structure, get_bulk_modulus]"
   ]
  },
  {
   "cell_type": "code",
   "execution_count": 13,
   "id": "c2edad58-849b-424f-8460-92507e9545ac",
   "metadata": {},
   "outputs": [],
   "source": [
    "from langchain_core.prompts import ChatPromptTemplate, MessagesPlaceholder\n",
    "\n",
    "prompt = ChatPromptTemplate.from_messages(\n",
    "    [\n",
    "        (\n",
    "            \"system\",\n",
    "            # \"You are very powerful assistant, but don't know current events.\",\n",
    "            \"You are very powerful assistant, but don't know current events. For each query vailidate that it contains a chemical element and otherwise cancel.\",\n",
    "        ),\n",
    "        (\"user\", \"{input}\"),\n",
    "        MessagesPlaceholder(variable_name=\"agent_scratchpad\"),\n",
    "    ]\n",
    ")"
   ]
  },
  {
   "cell_type": "code",
   "execution_count": 14,
   "id": "4487ba3d-bed9-4c73-8309-e67c9b58a1ba",
   "metadata": {},
   "outputs": [],
   "source": [
    "llm_with_tools = llm.bind_tools(tools)"
   ]
  },
  {
   "cell_type": "code",
   "execution_count": 15,
   "id": "c1e01a3b-8b21-4538-b67d-6d5c40c66f94",
   "metadata": {},
   "outputs": [],
   "source": [
    "from langchain.agents.format_scratchpad.openai_tools import (\n",
    "    format_to_openai_tool_messages,\n",
    ")\n",
    "from langchain.agents.output_parsers.openai_tools import OpenAIToolsAgentOutputParser\n",
    "\n",
    "agent = (\n",
    "    {\n",
    "        \"input\": lambda x: x[\"input\"],\n",
    "        \"agent_scratchpad\": lambda x: format_to_openai_tool_messages(\n",
    "            x[\"intermediate_steps\"]\n",
    "        ),\n",
    "    }\n",
    "    | prompt\n",
    "    | llm_with_tools\n",
    "    | OpenAIToolsAgentOutputParser()\n",
    ")"
   ]
  },
  {
   "cell_type": "code",
   "execution_count": 16,
   "id": "5550d832-0fb5-477e-b9d3-222651e9985c",
   "metadata": {},
   "outputs": [],
   "source": [
    "from langchain.agents import AgentExecutor\n",
    "\n",
    "agent_executor = AgentExecutor(agent=agent, tools=tools, verbose=True)"
   ]
  },
  {
   "cell_type": "code",
   "execution_count": 17,
   "id": "ac9edf53-8963-4b58-bcb6-742106424757",
   "metadata": {},
   "outputs": [
    {
     "name": "stdout",
     "output_type": "stream",
     "text": [
      "\n",
      "\n",
      "\u001b[1m> Entering new AgentExecutor chain...\u001b[0m\n",
      "\u001b[32;1m\u001b[1;3m\n",
      "Invoking: `get_crystal_structure` with `{'chemical_symbol': 'Au'}`\n",
      "responded: I can help you with that. Let me check the bulk modulus of gold for you.\n",
      "\n",
      "\u001b[0m\u001b[36;1m\u001b[1;3mfcc\u001b[0m\u001b[32;1m\u001b[1;3m\n",
      "Invoking: `get_bulk_modulus` with `{'chemical_symbol': 'Au', 'crystal_structure': 'fcc'}`\n",
      "\n",
      "\n",
      "\u001b[0m\u001b[33;1m\u001b[1;3m173.83898364629107\u001b[0m\u001b[32;1m\u001b[1;3mThe bulk modulus of gold in the face-centered cubic (fcc) crystal structure is approximately 173.84 GPa.\u001b[0m\n",
      "\n",
      "\u001b[1m> Finished chain.\u001b[0m\n"
     ]
    }
   ],
   "source": [
    "lst = list(agent_executor.stream({\"input\": \"What is the bulk modulus of gold\"}))  # Yeah this worked !!"
   ]
  },
  {
   "cell_type": "code",
   "execution_count": 18,
   "id": "73c223f6-a180-4fad-9fb5-e3a44bde53ff",
   "metadata": {},
   "outputs": [
    {
     "data": {
      "text/plain": [
       "{'actions': [ToolAgentAction(tool='get_crystal_structure', tool_input={'chemical_symbol': 'Au'}, log=\"\\nInvoking: `get_crystal_structure` with `{'chemical_symbol': 'Au'}`\\nresponded: I can help you with that. Let me check the bulk modulus of gold for you.\\n\\n\", message_log=[AIMessageChunk(content='I can help you with that. Let me check the bulk modulus of gold for you.', additional_kwargs={'tool_calls': [{'index': 0, 'id': 'call_wEmppnlhVEDrNxR24oDQVnuP', 'function': {'arguments': '{\"chemical_symbol\":\"Au\"}', 'name': 'get_crystal_structure'}, 'type': 'function'}]}, response_metadata={'finish_reason': 'tool_calls'}, id='run-52bbe691-14aa-4c16-ab64-fdcb19e10aeb', tool_calls=[{'name': 'get_crystal_structure', 'args': {'chemical_symbol': 'Au'}, 'id': 'call_wEmppnlhVEDrNxR24oDQVnuP'}], tool_call_chunks=[{'name': 'get_crystal_structure', 'args': '{\"chemical_symbol\":\"Au\"}', 'id': 'call_wEmppnlhVEDrNxR24oDQVnuP', 'index': 0}])], tool_call_id='call_wEmppnlhVEDrNxR24oDQVnuP')],\n",
       " 'messages': [AIMessageChunk(content='I can help you with that. Let me check the bulk modulus of gold for you.', additional_kwargs={'tool_calls': [{'index': 0, 'id': 'call_wEmppnlhVEDrNxR24oDQVnuP', 'function': {'arguments': '{\"chemical_symbol\":\"Au\"}', 'name': 'get_crystal_structure'}, 'type': 'function'}]}, response_metadata={'finish_reason': 'tool_calls'}, id='run-52bbe691-14aa-4c16-ab64-fdcb19e10aeb', tool_calls=[{'name': 'get_crystal_structure', 'args': {'chemical_symbol': 'Au'}, 'id': 'call_wEmppnlhVEDrNxR24oDQVnuP'}], tool_call_chunks=[{'name': 'get_crystal_structure', 'args': '{\"chemical_symbol\":\"Au\"}', 'id': 'call_wEmppnlhVEDrNxR24oDQVnuP', 'index': 0}])]}"
      ]
     },
     "execution_count": 18,
     "metadata": {},
     "output_type": "execute_result"
    }
   ],
   "source": [
    "lst[0]"
   ]
  },
  {
   "cell_type": "code",
   "execution_count": 19,
   "id": "e4c068f9-d85d-4720-affb-f0619ec904fd",
   "metadata": {},
   "outputs": [
    {
     "data": {
      "text/plain": [
       "{'steps': [AgentStep(action=ToolAgentAction(tool='get_crystal_structure', tool_input={'chemical_symbol': 'Au'}, log=\"\\nInvoking: `get_crystal_structure` with `{'chemical_symbol': 'Au'}`\\nresponded: I can help you with that. Let me check the bulk modulus of gold for you.\\n\\n\", message_log=[AIMessageChunk(content='I can help you with that. Let me check the bulk modulus of gold for you.', additional_kwargs={'tool_calls': [{'index': 0, 'id': 'call_wEmppnlhVEDrNxR24oDQVnuP', 'function': {'arguments': '{\"chemical_symbol\":\"Au\"}', 'name': 'get_crystal_structure'}, 'type': 'function'}]}, response_metadata={'finish_reason': 'tool_calls'}, id='run-52bbe691-14aa-4c16-ab64-fdcb19e10aeb', tool_calls=[{'name': 'get_crystal_structure', 'args': {'chemical_symbol': 'Au'}, 'id': 'call_wEmppnlhVEDrNxR24oDQVnuP'}], tool_call_chunks=[{'name': 'get_crystal_structure', 'args': '{\"chemical_symbol\":\"Au\"}', 'id': 'call_wEmppnlhVEDrNxR24oDQVnuP', 'index': 0}])], tool_call_id='call_wEmppnlhVEDrNxR24oDQVnuP'), observation='fcc')],\n",
       " 'messages': [FunctionMessage(content='fcc', name='get_crystal_structure')]}"
      ]
     },
     "execution_count": 19,
     "metadata": {},
     "output_type": "execute_result"
    }
   ],
   "source": [
    "lst[1]"
   ]
  },
  {
   "cell_type": "code",
   "execution_count": 20,
   "id": "4a8c792b-a5c6-44b7-9200-7782572b14de",
   "metadata": {},
   "outputs": [
    {
     "data": {
      "text/plain": [
       "{'actions': [ToolAgentAction(tool='get_bulk_modulus', tool_input={'chemical_symbol': 'Au', 'crystal_structure': 'fcc'}, log=\"\\nInvoking: `get_bulk_modulus` with `{'chemical_symbol': 'Au', 'crystal_structure': 'fcc'}`\\n\\n\\n\", message_log=[AIMessageChunk(content='', additional_kwargs={'tool_calls': [{'index': 0, 'id': 'call_f0oXjeOQGlMMlhKQYQQEj5sA', 'function': {'arguments': '{\"chemical_symbol\":\"Au\",\"crystal_structure\":\"fcc\"}', 'name': 'get_bulk_modulus'}, 'type': 'function'}]}, response_metadata={'finish_reason': 'tool_calls'}, id='run-05a2099e-37a8-4b2c-af50-843b6a1511d6', tool_calls=[{'name': 'get_bulk_modulus', 'args': {'chemical_symbol': 'Au', 'crystal_structure': 'fcc'}, 'id': 'call_f0oXjeOQGlMMlhKQYQQEj5sA'}], tool_call_chunks=[{'name': 'get_bulk_modulus', 'args': '{\"chemical_symbol\":\"Au\",\"crystal_structure\":\"fcc\"}', 'id': 'call_f0oXjeOQGlMMlhKQYQQEj5sA', 'index': 0}])], tool_call_id='call_f0oXjeOQGlMMlhKQYQQEj5sA')],\n",
       " 'messages': [AIMessageChunk(content='', additional_kwargs={'tool_calls': [{'index': 0, 'id': 'call_f0oXjeOQGlMMlhKQYQQEj5sA', 'function': {'arguments': '{\"chemical_symbol\":\"Au\",\"crystal_structure\":\"fcc\"}', 'name': 'get_bulk_modulus'}, 'type': 'function'}]}, response_metadata={'finish_reason': 'tool_calls'}, id='run-05a2099e-37a8-4b2c-af50-843b6a1511d6', tool_calls=[{'name': 'get_bulk_modulus', 'args': {'chemical_symbol': 'Au', 'crystal_structure': 'fcc'}, 'id': 'call_f0oXjeOQGlMMlhKQYQQEj5sA'}], tool_call_chunks=[{'name': 'get_bulk_modulus', 'args': '{\"chemical_symbol\":\"Au\",\"crystal_structure\":\"fcc\"}', 'id': 'call_f0oXjeOQGlMMlhKQYQQEj5sA', 'index': 0}])]}"
      ]
     },
     "execution_count": 20,
     "metadata": {},
     "output_type": "execute_result"
    }
   ],
   "source": [
    "lst[2]"
   ]
  },
  {
   "cell_type": "code",
   "execution_count": 21,
   "id": "ef5429b2-2513-4727-9572-1937028f019b",
   "metadata": {},
   "outputs": [
    {
     "data": {
      "text/plain": [
       "{'steps': [AgentStep(action=ToolAgentAction(tool='get_bulk_modulus', tool_input={'chemical_symbol': 'Au', 'crystal_structure': 'fcc'}, log=\"\\nInvoking: `get_bulk_modulus` with `{'chemical_symbol': 'Au', 'crystal_structure': 'fcc'}`\\n\\n\\n\", message_log=[AIMessageChunk(content='', additional_kwargs={'tool_calls': [{'index': 0, 'id': 'call_f0oXjeOQGlMMlhKQYQQEj5sA', 'function': {'arguments': '{\"chemical_symbol\":\"Au\",\"crystal_structure\":\"fcc\"}', 'name': 'get_bulk_modulus'}, 'type': 'function'}]}, response_metadata={'finish_reason': 'tool_calls'}, id='run-05a2099e-37a8-4b2c-af50-843b6a1511d6', tool_calls=[{'name': 'get_bulk_modulus', 'args': {'chemical_symbol': 'Au', 'crystal_structure': 'fcc'}, 'id': 'call_f0oXjeOQGlMMlhKQYQQEj5sA'}], tool_call_chunks=[{'name': 'get_bulk_modulus', 'args': '{\"chemical_symbol\":\"Au\",\"crystal_structure\":\"fcc\"}', 'id': 'call_f0oXjeOQGlMMlhKQYQQEj5sA', 'index': 0}])], tool_call_id='call_f0oXjeOQGlMMlhKQYQQEj5sA'), observation=173.83898364629107)],\n",
       " 'messages': [FunctionMessage(content='173.83898364629107', name='get_bulk_modulus')]}"
      ]
     },
     "execution_count": 21,
     "metadata": {},
     "output_type": "execute_result"
    }
   ],
   "source": [
    "lst[3]"
   ]
  },
  {
   "cell_type": "code",
   "execution_count": 22,
   "id": "1e28a927-aea2-4be9-be56-84c2ef1eee19",
   "metadata": {},
   "outputs": [
    {
     "data": {
      "text/plain": [
       "{'output': 'The bulk modulus of gold in the face-centered cubic (fcc) crystal structure is approximately 173.84 GPa.',\n",
       " 'messages': [AIMessage(content='The bulk modulus of gold in the face-centered cubic (fcc) crystal structure is approximately 173.84 GPa.')]}"
      ]
     },
     "execution_count": 22,
     "metadata": {},
     "output_type": "execute_result"
    }
   ],
   "source": [
    "lst[4]"
   ]
  },
  {
   "cell_type": "markdown",
   "id": "4a7f9b5f-cfe3-4b9c-9190-33d9505beedd",
   "metadata": {},
   "source": [
    "# Lessons learned: \n",
    "* It works surprisingly well"
   ]
  },
  {
   "cell_type": "code",
   "execution_count": null,
   "id": "d3963c0d-4deb-4fae-bc5c-f1fca6827933",
   "metadata": {},
   "outputs": [],
   "source": []
  }
 ],
 "metadata": {
  "kernelspec": {
   "display_name": "Python 3 (ipykernel)",
   "language": "python",
   "name": "python3"
  },
  "language_info": {
   "codemirror_mode": {
    "name": "ipython",
    "version": 3
   },
   "file_extension": ".py",
   "mimetype": "text/x-python",
   "name": "python",
   "nbconvert_exporter": "python",
   "pygments_lexer": "ipython3",
   "version": "3.10.14"
  }
 },
 "nbformat": 4,
 "nbformat_minor": 5
}
