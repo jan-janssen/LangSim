{
 "cells": [
  {
   "cell_type": "markdown",
   "id": "abebe249-91bd-44ad-bcec-79bf4de2e1a6",
   "metadata": {},
   "source": [
    "https://python.langchain.com/docs/modules/agents/how_to/custom_agent/"
   ]
  },
  {
   "cell_type": "code",
   "execution_count": 2,
   "id": "cbc2afa1-d50b-4c30-9e0a-5dbd8cac7b3b",
   "metadata": {},
   "outputs": [],
   "source": [
    "from getpass import getpass"
   ]
  },
  {
   "cell_type": "code",
   "execution_count": 3,
   "id": "c2e3de94-c93d-490d-90ba-d4ba6e9e3d6d",
   "metadata": {},
   "outputs": [],
   "source": [
    "OPENAI_API_KEY = getpass(prompt='Enter your OpenAI Token:')"
   ]
  },
  {
   "cell_type": "code",
   "execution_count": 4,
   "id": "83bceaad-b609-468d-afa0-c5e3d8532cb2",
   "metadata": {},
   "outputs": [],
   "source": [
    "from ase.units import kJ"
   ]
  },
  {
   "cell_type": "code",
   "execution_count": 5,
   "id": "bf956016-ef67-4ffa-93ae-06cb4e242145",
   "metadata": {},
   "outputs": [],
   "source": [
    "from ase.build import bulk"
   ]
  },
  {
   "cell_type": "code",
   "execution_count": 6,
   "id": "f58d0295-93b5-46b6-935e-cbf19713b54e",
   "metadata": {},
   "outputs": [],
   "source": [
    "from ase.calculators.emt import EMT\n",
    "from ase.eos import calculate_eos"
   ]
  },
  {
   "cell_type": "code",
   "execution_count": 7,
   "id": "b9b96907-ad13-4a4b-862f-bf3f887dd52a",
   "metadata": {},
   "outputs": [],
   "source": [
    "from ase.data import reference_states, atomic_numbers"
   ]
  },
  {
   "cell_type": "code",
   "execution_count": 8,
   "id": "7b00e00d-ad9b-4b2b-8e0c-30b9d17355d8",
   "metadata": {},
   "outputs": [],
   "source": [
    "from langchain.agents import tool"
   ]
  },
  {
   "cell_type": "code",
   "execution_count": 9,
   "id": "b63d0f9c-8034-4344-a77a-ad30ff32002e",
   "metadata": {},
   "outputs": [],
   "source": [
    "@tool\n",
    "def get_crystal_structure(chemical_symbol: str) -> str:\n",
    "    \"\"\"Returns the atomic crystal structure of a chemcial symbol\"\"\"\n",
    "    ref_state = reference_states[atomic_numbers[chemical_symbol]]\n",
    "    if ref_state is None:\n",
    "        return \"No crystal structure known.\"\n",
    "    else:\n",
    "        return ref_state[\"symmetry\"]"
   ]
  },
  {
   "cell_type": "code",
   "execution_count": 10,
   "id": "a985d5ac-7b52-4f7c-bb16-24400ebaba1c",
   "metadata": {},
   "outputs": [],
   "source": [
    "# Includes a try except workflow, that returns an error message to the LLM agent, but it can continue \n",
    "\n",
    "@tool\n",
    "def get_bulk_modulus(chemical_symbol: str, crystal_structure: str) -> str:\n",
    "    \"\"\"Returns the bulk modulus of chemcial symbol for a given crystal structure in GPa\"\"\"\n",
    "    try:\n",
    "        atoms = bulk(name=chemical_symbol, crystalstructure=crystal_structure,)\n",
    "        atoms.calc = EMT()\n",
    "        eos = calculate_eos(atoms)\n",
    "        v, e, B = eos.fit()\n",
    "        return B / kJ * 1.0e24\n",
    "    except Exception as error:\n",
    "        # handle the exception\n",
    "        print(\"An exception occurred:\", error)"
   ]
  },
  {
   "cell_type": "code",
   "execution_count": 11,
   "id": "6d939068-506e-4fbe-aac9-97ca482d2b6e",
   "metadata": {},
   "outputs": [
    {
     "data": {
      "text/plain": [
       "39.91626202223279"
      ]
     },
     "execution_count": 11,
     "metadata": {},
     "output_type": "execute_result"
    }
   ],
   "source": [
    "el = \"Al\"\n",
    "crystal_structure = get_crystal_structure.invoke(\"Al\")\n",
    "get_bulk_modulus.invoke({\"chemical_symbol\": \"Al\", \"crystal_structure\": crystal_structure})"
   ]
  },
  {
   "cell_type": "code",
   "execution_count": 12,
   "id": "6529e329-0947-443a-8325-42ef3510803d",
   "metadata": {},
   "outputs": [],
   "source": [
    "from langchain_openai import ChatOpenAI\n",
    "\n",
    "llm = ChatOpenAI(model=\"gpt-3.5-turbo\", temperature=0, openai_api_key=OPENAI_API_KEY)"
   ]
  },
  {
   "cell_type": "code",
   "execution_count": 13,
   "id": "30725a49-443e-40e0-b016-95035596de67",
   "metadata": {},
   "outputs": [],
   "source": [
    "tools = [get_crystal_structure, get_bulk_modulus]"
   ]
  },
  {
   "cell_type": "code",
   "execution_count": 14,
   "id": "c2edad58-849b-424f-8460-92507e9545ac",
   "metadata": {},
   "outputs": [],
   "source": [
    "from langchain_core.prompts import ChatPromptTemplate, MessagesPlaceholder\n",
    "\n",
    "prompt = ChatPromptTemplate.from_messages(\n",
    "    [\n",
    "        (\n",
    "            \"system\",\n",
    "            # \"You are very powerful assistant, but don't know current events.\",\n",
    "            \"You are very powerful assistant, but don't know current events. For each query vailidate that it contains a chemical element and otherwise cancel.\",\n",
    "        ),\n",
    "        (\"user\", \"{input}\"),\n",
    "        MessagesPlaceholder(variable_name=\"agent_scratchpad\"),\n",
    "    ]\n",
    ")"
   ]
  },
  {
   "cell_type": "code",
   "execution_count": 15,
   "id": "4487ba3d-bed9-4c73-8309-e67c9b58a1ba",
   "metadata": {},
   "outputs": [],
   "source": [
    "llm_with_tools = llm.bind_tools(tools)"
   ]
  },
  {
   "cell_type": "code",
   "execution_count": 16,
   "id": "c1e01a3b-8b21-4538-b67d-6d5c40c66f94",
   "metadata": {},
   "outputs": [],
   "source": [
    "from langchain.agents.format_scratchpad.openai_tools import (\n",
    "    format_to_openai_tool_messages,\n",
    ")\n",
    "from langchain.agents.output_parsers.openai_tools import OpenAIToolsAgentOutputParser\n",
    "\n",
    "agent = (\n",
    "    {\n",
    "        \"input\": lambda x: x[\"input\"],\n",
    "        \"agent_scratchpad\": lambda x: format_to_openai_tool_messages(\n",
    "            x[\"intermediate_steps\"]\n",
    "        ),\n",
    "    }\n",
    "    | prompt\n",
    "    | llm_with_tools\n",
    "    | OpenAIToolsAgentOutputParser()\n",
    ")"
   ]
  },
  {
   "cell_type": "code",
   "execution_count": 17,
   "id": "5550d832-0fb5-477e-b9d3-222651e9985c",
   "metadata": {},
   "outputs": [],
   "source": [
    "from langchain.agents import AgentExecutor\n",
    "\n",
    "agent_executor = AgentExecutor(agent=agent, tools=tools, verbose=True)"
   ]
  },
  {
   "cell_type": "markdown",
   "id": "e86d19da",
   "metadata": {},
   "source": [
    "## We can also ask inverse questions"
   ]
  },
  {
   "cell_type": "markdown",
   "id": "b0430329",
   "metadata": {},
   "source": [
    "### Specify a set of elements "
   ]
  },
  {
   "cell_type": "code",
   "execution_count": 18,
   "id": "83e33b48",
   "metadata": {},
   "outputs": [
    {
     "name": "stdout",
     "output_type": "stream",
     "text": [
      "\n",
      "\n",
      "\u001b[1m> Entering new AgentExecutor chain...\u001b[0m\n",
      "\u001b[32;1m\u001b[1;3m\n",
      "Invoking: `get_bulk_modulus` with `{'chemical_symbol': 'Al', 'crystal_structure': 'fcc'}`\n",
      "\n",
      "\n",
      "\u001b[0m\u001b[33;1m\u001b[1;3m39.91626202223279\u001b[0m\u001b[32;1m\u001b[1;3m\n",
      "Invoking: `get_bulk_modulus` with `{'chemical_symbol': 'Ag', 'crystal_structure': 'fcc'}`\n",
      "\n",
      "\n",
      "\u001b[0m\u001b[33;1m\u001b[1;3m100.15712339997654\u001b[0m\u001b[32;1m\u001b[1;3m\n",
      "Invoking: `get_bulk_modulus` with `{'chemical_symbol': 'Au', 'crystal_structure': 'fcc'}`\n",
      "\n",
      "\n",
      "\u001b[0m\u001b[33;1m\u001b[1;3m173.8389836420435\u001b[0m\u001b[32;1m\u001b[1;3mThe bulk modulus for Aluminum (Al) is approximately 39.92 GPa, for Silver (Ag) is approximately 100.16 GPa, and for Gold (Au) is approximately 173.84 GPa. \n",
      "\n",
      "Based on the bulk modulus requirement of around 170 GPa, Gold (Au) would be the best choice as it has a bulk modulus closest to the desired value.\u001b[0m\n",
      "\n",
      "\u001b[1m> Finished chain.\u001b[0m\n"
     ]
    }
   ],
   "source": [
    "\n",
    "lst = list(agent_executor.stream({\"input\": \"I would like to have a material with a bulk modulus of around 170GPa. Is Aluminium, Silver or Gold better? \"})) # This works well"
   ]
  },
  {
   "cell_type": "markdown",
   "id": "967e54dc",
   "metadata": {},
   "source": [
    "### Specify maximum number of simulations to answer the question (n=10)\n",
    "Since LLMs are probabilistic, the results (elements selected) will vary with repeated execution"
   ]
  },
  {
   "cell_type": "code",
   "execution_count": 25,
   "id": "f8cecab1",
   "metadata": {},
   "outputs": [
    {
     "name": "stdout",
     "output_type": "stream",
     "text": [
      "\n",
      "\n",
      "\u001b[1m> Entering new AgentExecutor chain...\u001b[0m\n",
      "\u001b[32;1m\u001b[1;3m\n",
      "Invoking: `get_crystal_structure` with `{'chemical_symbol': 'V'}`\n",
      "\n",
      "\n",
      "\u001b[0m\u001b[36;1m\u001b[1;3mbcc\u001b[0m\u001b[32;1m\u001b[1;3m\n",
      "Invoking: `get_crystal_structure` with `{'chemical_symbol': 'Nb'}`\n",
      "\n",
      "\n",
      "\u001b[0m\u001b[36;1m\u001b[1;3mbcc\u001b[0m\u001b[32;1m\u001b[1;3m\n",
      "Invoking: `get_crystal_structure` with `{'chemical_symbol': 'Ta'}`\n",
      "\n",
      "\n",
      "\u001b[0m\u001b[36;1m\u001b[1;3mbcc\u001b[0m\u001b[32;1m\u001b[1;3m\n",
      "Invoking: `get_crystal_structure` with `{'chemical_symbol': 'Mo'}`\n",
      "\n",
      "\n",
      "\u001b[0m\u001b[36;1m\u001b[1;3mbcc\u001b[0m\u001b[32;1m\u001b[1;3m\n",
      "Invoking: `get_crystal_structure` with `{'chemical_symbol': 'W'}`\n",
      "\n",
      "\n",
      "\u001b[0m\u001b[36;1m\u001b[1;3mbcc\u001b[0m\u001b[32;1m\u001b[1;3m\n",
      "Invoking: `get_crystal_structure` with `{'chemical_symbol': 'Tc'}`\n",
      "\n",
      "\n",
      "\u001b[0m\u001b[36;1m\u001b[1;3mhcp\u001b[0m\u001b[32;1m\u001b[1;3m\n",
      "Invoking: `get_crystal_structure` with `{'chemical_symbol': 'Re'}`\n",
      "\n",
      "\n",
      "\u001b[0m\u001b[36;1m\u001b[1;3mhcp\u001b[0m\u001b[32;1m\u001b[1;3m\n",
      "Invoking: `get_crystal_structure` with `{'chemical_symbol': 'Ru'}`\n",
      "\n",
      "\n",
      "\u001b[0m\u001b[36;1m\u001b[1;3mhcp\u001b[0m\u001b[32;1m\u001b[1;3m\n",
      "Invoking: `get_crystal_structure` with `{'chemical_symbol': 'Rh'}`\n",
      "\n",
      "\n",
      "\u001b[0m\u001b[36;1m\u001b[1;3mfcc\u001b[0m\u001b[32;1m\u001b[1;3m\n",
      "Invoking: `get_crystal_structure` with `{'chemical_symbol': 'Pd'}`\n",
      "\n",
      "\n",
      "\u001b[0m\u001b[36;1m\u001b[1;3mfcc\u001b[0m\u001b[32;1m\u001b[1;3m\n",
      "Invoking: `get_bulk_modulus` with `{'chemical_symbol': 'V', 'crystal_structure': 'bcc'}`\n",
      "\n",
      "\n",
      "\u001b[0mAn exception occurred: No EMT-potential for V\n",
      "\u001b[33;1m\u001b[1;3mNone\u001b[0m\u001b[32;1m\u001b[1;3m\n",
      "Invoking: `get_bulk_modulus` with `{'chemical_symbol': 'Nb', 'crystal_structure': 'bcc'}`\n",
      "\n",
      "\n",
      "\u001b[0mAn exception occurred: No EMT-potential for Nb\n",
      "\u001b[33;1m\u001b[1;3mNone\u001b[0m\u001b[32;1m\u001b[1;3m\n",
      "Invoking: `get_bulk_modulus` with `{'chemical_symbol': 'Ta', 'crystal_structure': 'bcc'}`\n",
      "\n",
      "\n",
      "\u001b[0mAn exception occurred: No EMT-potential for Ta\n",
      "\u001b[33;1m\u001b[1;3mNone\u001b[0m\u001b[32;1m\u001b[1;3m\n",
      "Invoking: `get_bulk_modulus` with `{'chemical_symbol': 'Mo', 'crystal_structure': 'bcc'}`\n",
      "\n",
      "\n",
      "\u001b[0mAn exception occurred: No EMT-potential for Mo\n",
      "\u001b[33;1m\u001b[1;3mNone\u001b[0m\u001b[32;1m\u001b[1;3m\n",
      "Invoking: `get_bulk_modulus` with `{'chemical_symbol': 'W', 'crystal_structure': 'bcc'}`\n",
      "\n",
      "\n",
      "\u001b[0mAn exception occurred: No EMT-potential for W\n",
      "\u001b[33;1m\u001b[1;3mNone\u001b[0m\u001b[32;1m\u001b[1;3m\n",
      "Invoking: `get_bulk_modulus` with `{'chemical_symbol': 'Tc', 'crystal_structure': 'hcp'}`\n",
      "\n",
      "\n",
      "\u001b[0mAn exception occurred: No EMT-potential for Tc\n",
      "\u001b[33;1m\u001b[1;3mNone\u001b[0m\u001b[32;1m\u001b[1;3m\n",
      "Invoking: `get_bulk_modulus` with `{'chemical_symbol': 'Re', 'crystal_structure': 'hcp'}`\n",
      "\n",
      "\n",
      "\u001b[0mAn exception occurred: No EMT-potential for Re\n",
      "\u001b[33;1m\u001b[1;3mNone\u001b[0m\u001b[32;1m\u001b[1;3m\n",
      "Invoking: `get_bulk_modulus` with `{'chemical_symbol': 'Ru', 'crystal_structure': 'hcp'}`\n",
      "\n",
      "\n",
      "\u001b[0mAn exception occurred: No EMT-potential for Ru\n",
      "\u001b[33;1m\u001b[1;3mNone\u001b[0m\u001b[32;1m\u001b[1;3m\n",
      "Invoking: `get_bulk_modulus` with `{'chemical_symbol': 'Rh', 'crystal_structure': 'fcc'}`\n",
      "\n",
      "\n",
      "\u001b[0mAn exception occurred: No EMT-potential for Rh\n",
      "\u001b[33;1m\u001b[1;3mNone\u001b[0m\u001b[32;1m\u001b[1;3m\n",
      "Invoking: `get_bulk_modulus` with `{'chemical_symbol': 'Pd', 'crystal_structure': 'fcc'}`\n",
      "\n",
      "\n",
      "\u001b[0m\u001b[33;1m\u001b[1;3m179.1739479959027\u001b[0m\u001b[32;1m\u001b[1;3mThe transition metal \"Pd\" (Palladium) has a bulk modulus of approximately 179.17 GPa, which is close to the desired value of 170 GPa.\n",
      "\n",
      "Here is the list of transition metals with their corresponding crystal structures and bulk moduli:\n",
      "1. Vanadium (V) - Crystal Structure: bcc, Bulk Modulus: N/A\n",
      "2. Niobium (Nb) - Crystal Structure: bcc, Bulk Modulus: N/A\n",
      "3. Tantalum (Ta) - Crystal Structure: bcc, Bulk Modulus: N/A\n",
      "4. Molybdenum (Mo) - Crystal Structure: bcc, Bulk Modulus: N/A\n",
      "5. Tungsten (W) - Crystal Structure: bcc, Bulk Modulus: N/A\n",
      "6. Technetium (Tc) - Crystal Structure: hcp, Bulk Modulus: N/A\n",
      "7. Rhenium (Re) - Crystal Structure: hcp, Bulk Modulus: N/A\n",
      "8. Ruthenium (Ru) - Crystal Structure: hcp, Bulk Modulus: N/A\n",
      "9. Rhodium (Rh) - Crystal Structure: fcc, Bulk Modulus: N/A\n",
      "10. Palladium (Pd) - Crystal Structure: fcc, Bulk Modulus: 179.17 GPa\n",
      "\n",
      "Please let me know if you need more information or assistance.\u001b[0m\n",
      "\n",
      "\u001b[1m> Finished chain.\u001b[0m\n"
     ]
    }
   ],
   "source": [
    "# We see that it selects the right one from the 10 examples but Gold was not part of the 10 simulations. \n",
    "lst = list(agent_executor.stream({\"input\": \"I would like to have a material with a bulk modulus of around 170GPa. Is there a transition metal from the periodic system that satisifies this? Try maxium 10 chemical elements. Please output a list at the end of your calculations with all of the values calculated.\"}))  \n",
    "\n"
   ]
  },
  {
   "cell_type": "markdown",
   "id": "4a7f9b5f-cfe3-4b9c-9190-33d9505beedd",
   "metadata": {},
   "source": [
    "# Lessons learned: \n",
    "* With Error handling we can enable multiple simulations and inverse questions. The reasoning, comparing multiple simulation outputs works well"
   ]
  },
  {
   "cell_type": "code",
   "execution_count": null,
   "id": "d3963c0d-4deb-4fae-bc5c-f1fca6827933",
   "metadata": {},
   "outputs": [],
   "source": []
  }
 ],
 "metadata": {
  "kernelspec": {
   "display_name": "Python 3 (ipykernel)",
   "language": "python",
   "name": "python3"
  },
  "language_info": {
   "codemirror_mode": {
    "name": "ipython",
    "version": 3
   },
   "file_extension": ".py",
   "mimetype": "text/x-python",
   "name": "python",
   "nbconvert_exporter": "python",
   "pygments_lexer": "ipython3",
   "version": "3.12.3"
  }
 },
 "nbformat": 4,
 "nbformat_minor": 5
}
