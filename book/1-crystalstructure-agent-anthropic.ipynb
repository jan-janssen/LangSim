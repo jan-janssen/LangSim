{
 "cells": [
  {
   "cell_type": "markdown",
   "id": "abebe249-91bd-44ad-bcec-79bf4de2e1a6",
   "metadata": {},
   "source": [
    "# Crystalstructure Agent\n",
    "As a first demonstration the langchain team decided to develop a LLM agent, which can predict the crystal structure of a chemical element, by accessing the reference database of the [Atomic Simulation Environment](https://wiki.fysik.dtu.dk/ase/). While the corresponding python function is simple and only requires a few lines of code, this example already limits the hallucinations of the LLM, by using the [langchain](https://www.langchain.com) framework to interface the LLM with the python function. \n",
    "\n",
    "In particular, we follow the [Custom Agent](https://python.langchain.com/docs/modules/agents/how_to/custom_agent/) tutorial from the Langchain documentation. "
   ]
  },
  {
   "cell_type": "markdown",
   "id": "42b74827-5fe4-4200-8623-a650525cf5e7",
   "metadata": {},
   "source": [
    "## Python Function\n",
    "For this first example, we use [Anthropic](https://www.anthropic.com) as LLM provider but the example can also be adjusted to work with other LLM providers, for more details check the [langchain documentation](https://python.langchain.com/v0.2/docs/integrations/platforms/). We store the Anthropic API key in the `ANTHROPIC_API_KEY` variable: "
   ]
  },
  {
   "cell_type": "code",
   "execution_count": 1,
   "id": "6906a90b-4a3d-4aa5-b649-33e8caf829f3",
   "metadata": {},
   "outputs": [],
   "source": [
    "from getpass import getpass"
   ]
  },
  {
   "cell_type": "code",
   "execution_count": 2,
   "id": "34ee60c4-924e-4af5-b736-d474c7a1086c",
   "metadata": {},
   "outputs": [
    {
     "name": "stdin",
     "output_type": "stream",
     "text": [
      "Enter your Anthropic Token: ········\n"
     ]
    }
   ],
   "source": [
    "ANTHROPIC_API_KEY = getpass(prompt='Enter your Anthropic Token:')"
   ]
  },
  {
   "cell_type": "markdown",
   "id": "136e7571-ac3b-4587-82b5-3351d6a6d3f2",
   "metadata": {},
   "source": [
    "As a next step, we import the corresponding functionality from `ASE` and the `tool` decorator from `langchain`:"
   ]
  },
  {
   "cell_type": "code",
   "execution_count": 3,
   "id": "bf956016-ef67-4ffa-93ae-06cb4e242145",
   "metadata": {},
   "outputs": [],
   "source": [
    "from ase.data import reference_states, atomic_numbers\n",
    "from langchain.agents import tool"
   ]
  },
  {
   "cell_type": "markdown",
   "id": "3aae31dd-fb84-45f9-81b9-3f1f18786f4f",
   "metadata": {},
   "source": [
    "For the python function, it is important to include `type` hints and documentation based on a Docstring for the LLM to understand the functionality of the function. Finally, all data types used as input or output of the function need to have a `JSON` representation so they can be communicated to the LLM. For example, numpy arrays have to be converted to standard python lists. "
   ]
  },
  {
   "cell_type": "code",
   "execution_count": 4,
   "id": "a985d5ac-7b52-4f7c-bb16-24400ebaba1c",
   "metadata": {},
   "outputs": [],
   "source": [
    "@tool\n",
    "def get_crystal_structure(chemical_symbol: str) -> str:\n",
    "    \"\"\"Returns the atomic crystal structure of a chemcial symbol\"\"\"\n",
    "    ref_state = reference_states[atomic_numbers[chemical_symbol]]\n",
    "    if ref_state is None:\n",
    "        return \"No crystal structure known.\"\n",
    "    else:\n",
    "        return ref_state[\"symmetry\"]"
   ]
  },
  {
   "cell_type": "markdown",
   "id": "93b51c33-91c8-42d0-9e89-e0012879f122",
   "metadata": {},
   "source": [
    "After applying the `decorator`, the functions can be called using `invoke()`. We validate the functionality for two elements iron (Fe) and gold (Au).  "
   ]
  },
  {
   "cell_type": "code",
   "execution_count": 5,
   "id": "6d939068-506e-4fbe-aac9-97ca482d2b6e",
   "metadata": {},
   "outputs": [
    {
     "data": {
      "text/plain": [
       "'bcc'"
      ]
     },
     "execution_count": 5,
     "metadata": {},
     "output_type": "execute_result"
    }
   ],
   "source": [
    "get_crystal_structure.invoke(\"Fe\")"
   ]
  },
  {
   "cell_type": "code",
   "execution_count": 6,
   "id": "07aa9ba5-6575-4022-b707-4c5433f86166",
   "metadata": {},
   "outputs": [
    {
     "data": {
      "text/plain": [
       "'fcc'"
      ]
     },
     "execution_count": 6,
     "metadata": {},
     "output_type": "execute_result"
    }
   ],
   "source": [
    "get_crystal_structure.invoke(\"Au\")"
   ]
  },
  {
   "cell_type": "markdown",
   "id": "4c888942-335e-43eb-b088-47c155eef0b3",
   "metadata": {},
   "source": [
    "## Define Agent\n",
    "After the definition of the Python function, the next step is the definition of the agent which the LLM uses to interact with the Python function. In this example the `ChatAnthropic` interface of the `langchain_anthropic` package is used. Depending on your configuration, it might be necessary to install the `langchain_anthropic` package using the following command: \n",
    "```\n",
    "conda install -c conda-forge langchain-anthropic\n",
    "```"
   ]
  },
  {
   "cell_type": "code",
   "execution_count": 7,
   "id": "6529e329-0947-443a-8325-42ef3510803d",
   "metadata": {},
   "outputs": [],
   "source": [
    "from langchain_anthropic import ChatAnthropic\n",
    "\n",
    "llm = ChatAnthropic(\n",
    "    model=\"claude-3-5-sonnet-20240620\",\n",
    "    temperature=0,\n",
    "    anthropic_api_key=ANTHROPIC_API_KEY,\n",
    ")"
   ]
  },
  {
   "cell_type": "markdown",
   "id": "752d18e2-4645-4af9-a55c-1adafd08a0af",
   "metadata": {},
   "source": [
    "Following the definition of the LLM, the next step is the definition of the prompt. Here we start with a very basis prompt. In the following section on prompt engineering the optimization of the prompt is discussed in more detail."
   ]
  },
  {
   "cell_type": "code",
   "execution_count": 8,
   "id": "c2edad58-849b-424f-8460-92507e9545ac",
   "metadata": {},
   "outputs": [],
   "source": [
    "from langchain_core.prompts import ChatPromptTemplate, MessagesPlaceholder\n",
    "\n",
    "prompt = ChatPromptTemplate.from_messages(\n",
    "    [\n",
    "        (\n",
    "            \"system\",\n",
    "            \"You are very powerful assistant, but don't know current events.\",\n",
    "        ),\n",
    "        (\"user\", \"{input}\"),\n",
    "        MessagesPlaceholder(variable_name=\"agent_scratchpad\"),\n",
    "    ]\n",
    ")"
   ]
  },
  {
   "cell_type": "markdown",
   "id": "367384b0-1fe6-43cf-a2b5-b3689e65b9fa",
   "metadata": {},
   "source": [
    "Finally, the different parts are plugged together, by creating an agent which combines the prompt with the python function referenced here as one tool in a list of potentially many tools and an executor to communicate with the agent. The technical details are discussed in the corresponding [langchain Custom Agent tutorial](https://python.langchain.com/docs/modules/agents/how_to/custom_agent/)."
   ]
  },
  {
   "cell_type": "code",
   "execution_count": 9,
   "id": "c1e01a3b-8b21-4538-b67d-6d5c40c66f94",
   "metadata": {},
   "outputs": [],
   "source": [
    "from langchain.agents import AgentExecutor\n",
    "from langchain.agents.format_scratchpad.openai_tools import (\n",
    "    format_to_openai_tool_messages,\n",
    ")\n",
    "from langchain.agents.output_parsers.openai_tools import OpenAIToolsAgentOutputParser\n",
    "\n",
    "tools = [get_crystal_structure]\n",
    "agent = (\n",
    "    {\n",
    "        \"input\": lambda x: x[\"input\"],\n",
    "        \"agent_scratchpad\": lambda x: format_to_openai_tool_messages(\n",
    "            x[\"intermediate_steps\"]\n",
    "        ),\n",
    "    }\n",
    "    | prompt\n",
    "    | llm.bind_tools(tools)\n",
    "    | OpenAIToolsAgentOutputParser()\n",
    ")\n",
    "agent_executor = AgentExecutor(agent=agent, tools=tools, verbose=True)"
   ]
  },
  {
   "cell_type": "markdown",
   "id": "b0d455bd-28bf-44c9-97e9-91f9cb3552cc",
   "metadata": {},
   "source": [
    "## Conversation\n",
    "Once the `AgentExecutor` is defined we can communicate with the LLM using the `stream()` interface. We repeat the test from above and ask for the crystal structure of gold."
   ]
  },
  {
   "cell_type": "code",
   "execution_count": 10,
   "id": "ac9edf53-8963-4b58-bcb6-742106424757",
   "metadata": {},
   "outputs": [
    {
     "name": "stdout",
     "output_type": "stream",
     "text": [
      "\n",
      "\n",
      "\u001b[1m> Entering new AgentExecutor chain...\u001b[0m\n",
      "\u001b[32;1m\u001b[1;3m\n",
      "Invoking: `get_crystal_structure` with `{'chemical_symbol': 'Au'}`\n",
      "responded: [{'text': 'To answer your question about the crystal structure of gold, I can use the available tool to retrieve this information. Let me do that for you.', 'type': 'text', 'index': 0}, {'id': 'toolu_01CjhjuywsNK48xWcJ7YK2ND', 'input': {}, 'name': 'get_crystal_structure', 'type': 'tool_use', 'index': 1, 'partial_json': '{\"chemical_symbol\": \"Au\"}'}]\n",
      "\n",
      "\u001b[0m\u001b[36;1m\u001b[1;3mfcc\u001b[0m\u001b[32;1m\u001b[1;3m[{'text': \"\\n\\nBased on the result from the tool, I can tell you that the crystal structure of gold (Au) is face-centered cubic (fcc).\\n\\nFace-centered cubic (fcc) is one of the most common crystal structures found in metals. In this structure, atoms are arranged at the corners of a cubic lattice, with additional atoms at the center of each face of the cube. This arrangement gives gold its characteristic properties, such as its malleability and ductility.\\n\\nSome key features of the fcc structure in gold include:\\n\\n1. High atomic packing factor, which contributes to gold's high density.\\n2. Good ductility and malleability, allowing gold to be easily shaped into thin sheets or wires.\\n3. Excellent thermal and electrical conductivity.\\n4. Twelve nearest neighbors for each atom, contributing to its stability.\\n\\nThis crystal structure is one of the reasons why gold is so valued in jewelry making and various industrial applications, as it allows for easy manipulation while maintaining its desirable properties.\", 'type': 'text', 'index': 0}]\u001b[0m\n",
      "\n",
      "\u001b[1m> Finished chain.\u001b[0m\n"
     ]
    }
   ],
   "source": [
    "lst = list(agent_executor.stream({\"input\": \"What is the crystal structure of gold\"}))  # Yeah this worked !!"
   ]
  },
  {
   "cell_type": "markdown",
   "id": "43bc4d75-bae7-4fe2-8005-52e2629eec8d",
   "metadata": {},
   "source": [
    "With the `verbose=True` parameter the internal steps of the LLM agent are printed in green. As a first step the agent calls the `get_crystal_structure()` already with the converted input parameter, rather than using gold as input it uses the chemical symbol `Au`. The function returns `fcc` and the LLM converts this answer in a sentence a human can understand: \n",
    "```\n",
    "The crystal structure of gold is face-centered cubic (fcc).\n",
    "```\n",
    "This example highlights how easy it is these days to make a python function accessible via a LLM for all kinds of users to interact with this python funtion."
   ]
  },
  {
   "cell_type": "markdown",
   "id": "bc28370b-6002-4685-9884-44432099b5ea",
   "metadata": {},
   "source": [
    "## Prompt Engineering\n",
    "Some LLMs like the ChatGPT3.5 model start to hallucinate rather quickly, for example by asking for the crystal structure of a car, it does not ask which elements a car typically consists of, but rather connects car with carbon and replies the crystal structure of a car is diamond, which is obviously wrong. Luckily, the Antropic Claude model does not make this mistake. "
   ]
  },
  {
   "cell_type": "code",
   "execution_count": 11,
   "id": "7ac99ce9-f93c-406f-8348-f16793b1059e",
   "metadata": {},
   "outputs": [
    {
     "name": "stdout",
     "output_type": "stream",
     "text": [
      "\n",
      "\n",
      "\u001b[1m> Entering new AgentExecutor chain...\u001b[0m\n",
      "\u001b[32;1m\u001b[1;3m[{'text': 'I apologize, but I need to clarify something before I can answer your question. The term \"car\" is not a chemical symbol or element. To determine a crystal structure, we need to specify a chemical element or compound.\\n\\nThe tool available to us can provide information about the crystal structure of chemical elements based on their chemical symbols. For example, we could look up the crystal structure of iron (Fe), carbon (C), or aluminum (Al), which are common elements used in car manufacturing.\\n\\nCould you please specify which chemical element you\\'re interested in learning about? Once you provide a valid chemical symbol, I can use the tool to retrieve its crystal structure information for you.', 'type': 'text', 'index': 0}]\u001b[0m\n",
      "\n",
      "\u001b[1m> Finished chain.\u001b[0m\n"
     ]
    }
   ],
   "source": [
    "lst = list(agent_executor.stream({\"input\": \"What is the crystal structure of car\"}))  # I did not know cars were made of carbon"
   ]
  },
  {
   "cell_type": "markdown",
   "id": "fe544511-f499-4bdf-b24a-67fed6dd7ce4",
   "metadata": {},
   "source": [
    "To restrict the hallucination of the agent we extend the system prompt with the following statement:\n",
    "```\n",
    "For each query vailidate that it contains a chemical element and otherwise cancel.    \n",
    "```"
   ]
  },
  {
   "cell_type": "code",
   "execution_count": 12,
   "id": "4ffbd77b-7fc4-47a4-8c7b-4f179d453c9b",
   "metadata": {},
   "outputs": [],
   "source": [
    "prompt_improved = ChatPromptTemplate.from_messages(\n",
    "    [\n",
    "        (\n",
    "            \"system\",\n",
    "            # \"You are very powerful assistant, but don't know current events.\",\n",
    "            \"You are very powerful assistant, but don't know current events. For each query vailidate that it contains a chemical element and otherwise cancel.\",\n",
    "        ),\n",
    "        (\"user\", \"{input}\"),\n",
    "        MessagesPlaceholder(variable_name=\"agent_scratchpad\"),\n",
    "    ]\n",
    ")"
   ]
  },
  {
   "cell_type": "code",
   "execution_count": 13,
   "id": "d3b4b76d-a455-41cf-89f7-318061c95ac5",
   "metadata": {},
   "outputs": [],
   "source": [
    "agent_improved = (\n",
    "    {\n",
    "        \"input\": lambda x: x[\"input\"],\n",
    "        \"agent_scratchpad\": lambda x: format_to_openai_tool_messages(\n",
    "            x[\"intermediate_steps\"]\n",
    "        ),\n",
    "    }\n",
    "    | prompt_improved\n",
    "    | llm.bind_tools(tools)\n",
    "    | OpenAIToolsAgentOutputParser()\n",
    ")\n",
    "agent_improved_executor = AgentExecutor(agent=agent_improved, tools=tools, verbose=True)"
   ]
  },
  {
   "cell_type": "code",
   "execution_count": 14,
   "id": "3033a731-5605-4103-9da8-63c56655a53f",
   "metadata": {},
   "outputs": [
    {
     "name": "stdout",
     "output_type": "stream",
     "text": [
      "\n",
      "\n",
      "\u001b[1m> Entering new AgentExecutor chain...\u001b[0m\n",
      "\u001b[32;1m\u001b[1;3m[{'text': 'I apologize, but \"car\" is not a chemical element. To provide information about crystal structures, I need a valid chemical symbol for an element. Could you please provide the chemical symbol for an element you\\'d like to know about? For example, you could ask about elements like carbon (C), iron (Fe), or gold (Au).', 'type': 'text', 'index': 0}]\u001b[0m\n",
      "\n",
      "\u001b[1m> Finished chain.\u001b[0m\n"
     ]
    }
   ],
   "source": [
    "lst = list(agent_improved_executor.stream({\"input\": \"What is the crystal structure of car\"}))"
   ]
  },
  {
   "cell_type": "markdown",
   "id": "f23ddd66-9032-41e0-90fb-a574845ce426",
   "metadata": {},
   "source": [
    "With the modified system prompt, the all LLM models correctly reply that they were not able to determine the crystal structure of a car, because they fail to determine the chemical element a car consists of. "
   ]
  },
  {
   "cell_type": "markdown",
   "id": "4a7f9b5f-cfe3-4b9c-9190-33d9505beedd",
   "metadata": {},
   "source": [
    "## Summary\n",
    "By following the [Custom Agent](https://python.langchain.com/docs/modules/agents/how_to/custom_agent/) tutorial from the Langchain documentation, we were able to create a first simulation agent, which calls specialized python frameworks like [ASE](https://wiki.fysik.dtu.dk/ase/) to address material-science specific questions. Still, it is important to carefully engineer the prompt of the agent, otherwise even these LLMs with access to specialized agents tend to hallucinate."
   ]
  },
  {
   "cell_type": "code",
   "execution_count": null,
   "id": "f7124521-c58d-4700-bb51-7eb97be53588",
   "metadata": {},
   "outputs": [],
   "source": []
  }
 ],
 "metadata": {
  "kernelspec": {
   "display_name": "Python 3 (ipykernel)",
   "language": "python",
   "name": "python3"
  },
  "language_info": {
   "codemirror_mode": {
    "name": "ipython",
    "version": 3
   },
   "file_extension": ".py",
   "mimetype": "text/x-python",
   "name": "python",
   "nbconvert_exporter": "python",
   "pygments_lexer": "ipython3",
   "version": "3.12.5"
  }
 },
 "nbformat": 4,
 "nbformat_minor": 5
}
