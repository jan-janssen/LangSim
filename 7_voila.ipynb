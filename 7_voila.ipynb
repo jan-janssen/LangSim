{
 "cells": [
  {
   "cell_type": "code",
   "execution_count": 1,
   "id": "b9b96907-ad13-4a4b-862f-bf3f887dd52a",
   "metadata": {},
   "outputs": [],
   "source": [
    "from ase.atoms import Atoms\n",
    "from ase.build import bulk\n",
    "from ase.calculators.emt import EMT\n",
    "from ase.constraints import UnitCellFilter\n",
    "from ase.eos import calculate_eos, plot\n",
    "from ase.data import reference_states, atomic_numbers\n",
    "from ase.optimize import LBFGS\n",
    "from ase.units import kJ"
   ]
  },
  {
   "cell_type": "code",
   "execution_count": 2,
   "id": "419d1df1-357c-4e06-917c-79f009c7cd36",
   "metadata": {},
   "outputs": [],
   "source": [
    "from mace.calculators import mace_mp"
   ]
  },
  {
   "cell_type": "code",
   "execution_count": 3,
   "id": "7b00e00d-ad9b-4b2b-8e0c-30b9d17355d8",
   "metadata": {},
   "outputs": [],
   "source": [
    "from langchain.agents import AgentExecutor\n",
    "from langchain.agents import tool\n",
    "from langchain_core.pydantic_v1 import BaseModel\n",
    "from langchain_openai import ChatOpenAI\n",
    "from langchain_core.prompts import ChatPromptTemplate, MessagesPlaceholder\n",
    "from langchain.agents.format_scratchpad.openai_tools import (\n",
    "    format_to_openai_tool_messages,\n",
    ")\n",
    "from langchain.agents.output_parsers.openai_tools import OpenAIToolsAgentOutputParser"
   ]
  },
  {
   "cell_type": "code",
   "execution_count": 4,
   "id": "25f967bd-f431-4780-ab45-21495f40bce3",
   "metadata": {},
   "outputs": [],
   "source": [
    "from typing import List\n",
    "import numpy as np\n",
    "import matplotlib.pyplot as plt"
   ]
  },
  {
   "cell_type": "code",
   "execution_count": 5,
   "id": "cb18cdf7-3fbf-40d7-9f62-5078e59bff94",
   "metadata": {},
   "outputs": [],
   "source": [
    "import ipywidgets as widgets"
   ]
  },
  {
   "cell_type": "code",
   "execution_count": 6,
   "id": "be7e3425-be69-43a2-8bb4-865dae00e16d",
   "metadata": {},
   "outputs": [],
   "source": [
    "class AtomsDict(BaseModel):\n",
    "    numbers: List[int]\n",
    "    positions: List[List[float]]\n",
    "    cell: List[List[float]]\n",
    "    pbc: List[bool]"
   ]
  },
  {
   "cell_type": "code",
   "execution_count": 7,
   "id": "c639be11-4389-4e17-938c-81f66f4092ca",
   "metadata": {},
   "outputs": [],
   "source": [
    "def get_calculator(calculator_str: str = \"emt\"):\n",
    "    if calculator_str == \"emt\":\n",
    "        return EMT()\n",
    "    elif calculator_str == \"mace\":\n",
    "        return mace_mp(\n",
    "            model=\"medium\",\n",
    "            dispersion=False,\n",
    "            default_dtype=\"float32\",\n",
    "            device='cpu'\n",
    "        )"
   ]
  },
  {
   "cell_type": "code",
   "execution_count": 8,
   "id": "77b80d14-44c4-4793-b3bf-be461b637e2b",
   "metadata": {},
   "outputs": [],
   "source": [
    "@tool \n",
    "def get_equilibirum_lattice(chemical_symbol: str, calculator_str: str) -> AtomsDict:\n",
    "    \"\"\"Returns equilibrium atoms dictionary for a given chemical symbol and a selected model specified by the calculator string\"\"\"\n",
    "    atoms = bulk(name=chemical_symbol)\n",
    "    atoms.calc = get_calculator(calculator_str=calculator_str)\n",
    "    ase_optimizer_obj = LBFGS(UnitCellFilter(atoms))\n",
    "    ase_optimizer_obj.run(fmax=0.000001)\n",
    "    return AtomsDict(**{k: v.tolist() for k, v in atoms.todict().items()})"
   ]
  },
  {
   "cell_type": "code",
   "execution_count": 9,
   "id": "a985d5ac-7b52-4f7c-bb16-24400ebaba1c",
   "metadata": {},
   "outputs": [],
   "source": [
    "@tool\n",
    "def plot_equation_of_state(atom_dict: AtomsDict, calculator_str: str) -> str:\n",
    "    \"\"\"Returns plot of equation of state of chemical symbol for a given atoms dictionary and a selected model specified by the calculator string\"\"\"\n",
    "    atoms = Atoms(**atom_dict.dict())\n",
    "    atoms.calc = get_calculator(calculator_str=calculator_str)\n",
    "    eos = calculate_eos(atoms)\n",
    "    plotdata = eos.getplotdata()\n",
    "    return plot(*plotdata)"
   ]
  },
  {
   "cell_type": "code",
   "execution_count": 10,
   "id": "f11979d3-1faf-43eb-9c64-fc0ebccaea64",
   "metadata": {},
   "outputs": [],
   "source": [
    "@tool\n",
    "def get_bulk_modulus(atom_dict: AtomsDict, calculator_str: str) -> str:\n",
    "    \"\"\"Returns the bulk modulus of chemcial symbol for a given atoms dictionary and a selected model specified by the calculator string in GPa\"\"\"\n",
    "    atoms = atoms = Atoms(**atom_dict.dict())\n",
    "    atoms.calc = get_calculator(calculator_str=calculator_str)\n",
    "    eos = calculate_eos(atoms)\n",
    "    v, e, B = eos.fit()\n",
    "    return B / kJ * 1.0e24"
   ]
  },
  {
   "cell_type": "code",
   "execution_count": 11,
   "id": "a77ebdc4-6ab9-4ddf-9bb5-779fd0fd38d2",
   "metadata": {},
   "outputs": [],
   "source": [
    "@tool\n",
    "def get_equilibrium_volume(atom_dict: AtomsDict, calculator_str: str) -> str:\n",
    "    \"\"\"Returns the equilibrium volume of chemcial symbol for a given atoms dictionary and a selected model specified by the calculator string in Angstrom^3\"\"\"\n",
    "    atoms = atoms = Atoms(**atom_dict.dict())\n",
    "    atoms.calc = get_calculator(calculator_str=calculator_str)\n",
    "    eos = calculate_eos(atoms)\n",
    "    v, e, B = eos.fit()\n",
    "    return v"
   ]
  },
  {
   "cell_type": "markdown",
   "id": "9c789cda-4de9-4a80-9c06-61bb7a7c518c",
   "metadata": {},
   "source": [
    "# Simulation LLM\n",
    "The first large language model for calculating material properties. Example queries: \n",
    "* \"Calculate the bulk modulus for aluminium with the mace model\"\n",
    "* \"Calculate the equilibrium volume of gold\""
   ]
  },
  {
   "cell_type": "code",
   "execution_count": 12,
   "id": "a3a2a31f-bb59-4469-82e1-8008575389a4",
   "metadata": {},
   "outputs": [],
   "source": [
    "key_widget = widgets.Text(\n",
    "    value='sk-********************',\n",
    "    placeholder='',\n",
    "    description='OpenAI Token:',\n",
    "    disabled=False,\n",
    "    layout=widgets.Layout(width='400px'),\n",
    "    style = {'description_width': '100px'} \n",
    ")"
   ]
  },
  {
   "cell_type": "code",
   "execution_count": 13,
   "id": "ed38466c-d765-479c-8756-3a703d2c881a",
   "metadata": {},
   "outputs": [],
   "source": [
    "query_widget = widgets.Textarea(\n",
    "    value='Calculate the equilibrium volume of gold',\n",
    "    placeholder='',\n",
    "    description='Next query:',\n",
    "    disabled=False,\n",
    "    layout=widgets.Layout(width='400px'),\n",
    "    style = {'description_width': '100px'}     \n",
    ")"
   ]
  },
  {
   "cell_type": "code",
   "execution_count": 14,
   "id": "82166e5a-ba09-4bd1-96be-c3b4d3fad2c3",
   "metadata": {},
   "outputs": [],
   "source": [
    "def get_extension(OPENAI_API_KEY):\n",
    "    llm = ChatOpenAI(model=\"gpt-3.5-turbo\", temperature=0, openai_api_key=OPENAI_API_KEY)\n",
    "    tools = [get_equilibrium_volume, get_equilibirum_lattice, plot_equation_of_state, get_bulk_modulus]\n",
    "    prompt = ChatPromptTemplate.from_messages(\n",
    "        [\n",
    "            (\n",
    "                \"system\",\n",
    "                \"You are very powerful assistant, but don't know current events. To calculate with emt use the calculator string emt and to calculate with mace use the calculator string mace. For each query vailidate that it contains a chemical element and a calculator string and otherwise use Alumninum as the default chemical element and emt as the default calculator string.\",\n",
    "            ),\n",
    "            (\"user\", \"{input}\"),\n",
    "            MessagesPlaceholder(variable_name=\"agent_scratchpad\"),\n",
    "        ]\n",
    "    )\n",
    "    llm_with_tools = llm.bind_tools(tools)\n",
    "    agent = (\n",
    "        {\n",
    "            \"input\": lambda x: x[\"input\"],\n",
    "            \"agent_scratchpad\": lambda x: format_to_openai_tool_messages(\n",
    "                x[\"intermediate_steps\"]\n",
    "            ),\n",
    "        }\n",
    "        | prompt\n",
    "        | llm_with_tools\n",
    "        | OpenAIToolsAgentOutputParser()\n",
    "    )\n",
    "    return AgentExecutor(agent=agent, tools=tools, verbose=True)"
   ]
  },
  {
   "cell_type": "code",
   "execution_count": 52,
   "id": "dbd225b1-672c-4aec-ad51-1851062e11da",
   "metadata": {},
   "outputs": [],
   "source": [
    "def run_refresh(*ignore):\n",
    "    agent_executor = get_extension(OPENAI_API_KEY=key_widget.value)\n",
    "    output = list(agent_executor.stream({\"input\": query_widget.value}))\n",
    "    with out:\n",
    "        display(output[-1]['output'])"
   ]
  },
  {
   "cell_type": "code",
   "execution_count": 53,
   "id": "2a9c6784-71c6-40e5-8844-a79a81f10cc5",
   "metadata": {},
   "outputs": [],
   "source": [
    "out = widgets.Output()"
   ]
  },
  {
   "cell_type": "code",
   "execution_count": 54,
   "id": "9c654af0-9533-4dcc-aeef-1f3bc65d54ef",
   "metadata": {},
   "outputs": [],
   "source": [
    "button = widgets.Button(description =\"Submit\")\n",
    "button.on_click(run_refresh)"
   ]
  },
  {
   "cell_type": "code",
   "execution_count": 55,
   "id": "5550d832-0fb5-477e-b9d3-222651e9985c",
   "metadata": {},
   "outputs": [
    {
     "data": {
      "application/vnd.jupyter.widget-view+json": {
       "model_id": "f49af0ef281045fca3ee13998a338360",
       "version_major": 2,
       "version_minor": 0
      },
      "text/plain": [
       "Text(value='Calculate the equilibrium volume of aluminium', description='Next query:', placeholder='')"
      ]
     },
     "metadata": {},
     "output_type": "display_data"
    },
    {
     "data": {
      "application/vnd.jupyter.widget-view+json": {
       "model_id": "a3c817b80d774c15935b9e26574f0b11",
       "version_major": 2,
       "version_minor": 0
      },
      "text/plain": [
       "Text(value='sk-****************', description='OpenAI Token:', placeholder='')"
      ]
     },
     "metadata": {},
     "output_type": "display_data"
    },
    {
     "data": {
      "application/vnd.jupyter.widget-view+json": {
       "model_id": "b9cbf612195c486188129e515a12051d",
       "version_major": 2,
       "version_minor": 0
      },
      "text/plain": [
       "Button(description='Submit', style=ButtonStyle())"
      ]
     },
     "metadata": {},
     "output_type": "display_data"
    },
    {
     "data": {
      "application/vnd.jupyter.widget-view+json": {
       "model_id": "06b1badb07244c67ae1cc909d642ffe2",
       "version_major": 2,
       "version_minor": 0
      },
      "text/plain": [
       "Output()"
      ]
     },
     "metadata": {},
     "output_type": "display_data"
    }
   ],
   "source": [
    "display(query_widget, key_widget, button, out)"
   ]
  },
  {
   "cell_type": "code",
   "execution_count": null,
   "id": "ee15d7bd-8a03-43b5-981f-5cf8c0fd3e0d",
   "metadata": {},
   "outputs": [],
   "source": []
  }
 ],
 "metadata": {
  "kernelspec": {
   "display_name": "Python 3 (ipykernel)",
   "language": "python",
   "name": "python3"
  },
  "language_info": {
   "codemirror_mode": {
    "name": "ipython",
    "version": 3
   },
   "file_extension": ".py",
   "mimetype": "text/x-python",
   "name": "python",
   "nbconvert_exporter": "python",
   "pygments_lexer": "ipython3",
   "version": "3.10.14"
  }
 },
 "nbformat": 4,
 "nbformat_minor": 5
}
