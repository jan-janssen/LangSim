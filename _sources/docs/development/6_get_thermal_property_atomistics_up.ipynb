{
 "cells": [
  {
   "cell_type": "markdown",
   "id": "abebe249-91bd-44ad-bcec-79bf4de2e1a6",
   "metadata": {},
   "source": [
    "https://python.langchain.com/docs/modules/agents/how_to/custom_agent/"
   ]
  },
  {
   "cell_type": "code",
   "execution_count": 3,
   "id": "cbc2afa1-d50b-4c30-9e0a-5dbd8cac7b3b",
   "metadata": {},
   "outputs": [],
   "source": [
    "from getpass import getpass"
   ]
  },
  {
   "cell_type": "code",
   "execution_count": 4,
   "id": "c2e3de94-c93d-490d-90ba-d4ba6e9e3d6d",
   "metadata": {},
   "outputs": [],
   "source": [
    "OPENAI_API_KEY = getpass(prompt='Enter your OpenAI Token:')"
   ]
  },
  {
   "cell_type": "code",
   "execution_count": 5,
   "id": "b9b96907-ad13-4a4b-862f-bf3f887dd52a",
   "metadata": {},
   "outputs": [],
   "source": [
    "from ase.atoms import Atoms\n",
    "from ase.build import bulk\n",
    "from ase.calculators.emt import EMT\n",
    "from ase.constraints import UnitCellFilter\n",
    "from ase.eos import calculate_eos, plot\n",
    "from ase.data import reference_states, atomic_numbers\n",
    "from ase.optimize import LBFGS\n",
    "from ase.units import kJ"
   ]
  },
  {
   "cell_type": "code",
   "execution_count": 6,
   "id": "7b00e00d-ad9b-4b2b-8e0c-30b9d17355d8",
   "metadata": {},
   "outputs": [],
   "source": [
    "from langchain.agents import tool"
   ]
  },
  {
   "cell_type": "code",
   "execution_count": 7,
   "id": "25f967bd-f431-4780-ab45-21495f40bce3",
   "metadata": {},
   "outputs": [],
   "source": [
    "import matplotlib.pyplot as plt"
   ]
  },
  {
   "cell_type": "code",
   "execution_count": 8,
   "id": "d244a7a4-d564-4611-aea4-10ff733315ef",
   "metadata": {},
   "outputs": [],
   "source": [
    "from langchain_core.pydantic_v1 import BaseModel"
   ]
  },
  {
   "cell_type": "code",
   "execution_count": 9,
   "id": "33454233-8bff-4578-a0dc-99bf001a3fb3",
   "metadata": {},
   "outputs": [],
   "source": [
    "import numpy as np"
   ]
  },
  {
   "cell_type": "code",
   "execution_count": 10,
   "id": "cf1a636e-3507-42db-b9e0-761053dfeff4",
   "metadata": {},
   "outputs": [],
   "source": [
    "from typing import List\n",
    "from atomistics.calculators import evaluate_with_ase\n",
    "from atomistics.workflows import EnergyVolumeCurveWorkflow, optimize_positions_and_volume\n",
    "from ase.build import bulk\n",
    "\n"
   ]
  },
  {
   "cell_type": "code",
   "execution_count": 11,
   "id": "be7e3425-be69-43a2-8bb4-865dae00e16d",
   "metadata": {},
   "outputs": [],
   "source": [
    "class AtomsDict(BaseModel):\n",
    "    numbers: List[int]\n",
    "    positions: List[List[float]]\n",
    "    cell: List[List[float]]\n",
    "    pbc: List[bool]"
   ]
  },
  {
   "cell_type": "code",
   "execution_count": 12,
   "id": "77b80d14-44c4-4793-b3bf-be461b637e2b",
   "metadata": {},
   "outputs": [],
   "source": [
    "@tool \n",
    "def get_equilibirum_lattice(chemical_symbol: str) -> AtomsDict:\n",
    "    \"\"\"Returns equilibrium atoms dictionary for a given chemical symbol\"\"\"\n",
    "    atoms = bulk(name=chemical_symbol)\n",
    "    atoms.calc = EMT()\n",
    "    ase_optimizer_obj = LBFGS(UnitCellFilter(atoms))\n",
    "    ase_optimizer_obj.run(fmax=0.000001)\n",
    "    return AtomsDict(**{k: v.tolist() for k, v in atoms.todict().items()})"
   ]
  },
  {
   "cell_type": "code",
   "execution_count": 13,
   "id": "5b5485c4",
   "metadata": {},
   "outputs": [],
   "source": [
    "@tool\n",
    "def get_thermal_property(atom_dict: AtomsDict) -> dict:\n",
    "    \"\"\"Returns volumes at 100 and 1000 Kelvin, for a given atoms dictionary\"\"\"\n",
    "    structure = Atoms(**atom_dict.dict())\n",
    "    task_dict = optimize_positions_and_volume(structure=structure)\n",
    "    result_dict = evaluate_with_ase(\n",
    "    task_dict=task_dict,\n",
    "    ase_calculator=EMT(),\n",
    "    ase_optimizer=LBFGS,\n",
    "    ase_optimizer_kwargs={\"fmax\": 0.000001}\n",
    "                                    )\n",
    "    \n",
    "    workflow = EnergyVolumeCurveWorkflow(\n",
    "    structure=result_dict[\"structure_with_optimized_positions_and_volume\"],\n",
    "    num_points=11,\n",
    "    fit_type='polynomial',\n",
    "    fit_order=3,\n",
    "    vol_range=0.05,\n",
    "    axes=('x', 'y', 'z'),\n",
    "    strains=None,\n",
    "                                 )\n",
    "    task_dict = workflow.generate_structures()\n",
    "    result_dict = evaluate_with_ase(task_dict=task_dict, ase_calculator=EMT())\n",
    "    fit_dict = workflow.analyse_structures(output_dict=result_dict)\n",
    "                                       \n",
    "    thermal_properties_dict = workflow.get_thermal_properties(\n",
    "    temperatures=[100, 1000],\n",
    "    output_keys=[\"temperatures\", \"volumes\"]\n",
    "                                                            )\n",
    "    return thermal_properties_dict"
   ]
  },
  {
   "cell_type": "code",
   "execution_count": 15,
   "id": "6529e329-0947-443a-8325-42ef3510803d",
   "metadata": {},
   "outputs": [],
   "source": [
    "from langchain_openai import ChatOpenAI\n",
    "\n",
    "llm = ChatOpenAI(model=\"gpt-3.5-turbo\", temperature=0, openai_api_key=OPENAI_API_KEY)"
   ]
  },
  {
   "cell_type": "code",
   "execution_count": 16,
   "id": "30725a49-443e-40e0-b016-95035596de67",
   "metadata": {},
   "outputs": [],
   "source": [
    "tools = [get_equilibirum_lattice, get_thermal_property]"
   ]
  },
  {
   "cell_type": "code",
   "execution_count": 17,
   "id": "c2edad58-849b-424f-8460-92507e9545ac",
   "metadata": {},
   "outputs": [],
   "source": [
    "from langchain_core.prompts import ChatPromptTemplate, MessagesPlaceholder\n",
    "\n",
    "prompt = ChatPromptTemplate.from_messages(\n",
    "    [\n",
    "        (\n",
    "            \"system\",\n",
    "            # \"You are very powerful assistant, but don't know current events.\",\n",
    "            \"You are very powerful assistant, but don't know current events. For each query vailidate that it contains a chemical element and otherwise cancel.\",\n",
    "        ),\n",
    "        (\"user\", \"{input}\"),\n",
    "        MessagesPlaceholder(variable_name=\"agent_scratchpad\"),\n",
    "    ]\n",
    ")"
   ]
  },
  {
   "cell_type": "code",
   "execution_count": 18,
   "id": "4487ba3d-bed9-4c73-8309-e67c9b58a1ba",
   "metadata": {},
   "outputs": [],
   "source": [
    "llm_with_tools = llm.bind_tools(tools)"
   ]
  },
  {
   "cell_type": "code",
   "execution_count": 19,
   "id": "c1e01a3b-8b21-4538-b67d-6d5c40c66f94",
   "metadata": {},
   "outputs": [],
   "source": [
    "from langchain.agents.format_scratchpad.openai_tools import (\n",
    "    format_to_openai_tool_messages,\n",
    ")\n",
    "from langchain.agents.output_parsers.openai_tools import OpenAIToolsAgentOutputParser\n",
    "\n",
    "agent = (\n",
    "    {\n",
    "        \"input\": lambda x: x[\"input\"],\n",
    "        \"agent_scratchpad\": lambda x: format_to_openai_tool_messages(\n",
    "            x[\"intermediate_steps\"]\n",
    "        ),\n",
    "    }\n",
    "    | prompt\n",
    "    | llm_with_tools\n",
    "    | OpenAIToolsAgentOutputParser()\n",
    ")"
   ]
  },
  {
   "cell_type": "code",
   "execution_count": 20,
   "id": "5550d832-0fb5-477e-b9d3-222651e9985c",
   "metadata": {},
   "outputs": [],
   "source": [
    "from langchain.agents import AgentExecutor\n",
    "\n",
    "agent_executor = AgentExecutor(agent=agent, tools=tools, verbose=True)"
   ]
  },
  {
   "cell_type": "code",
   "execution_count": 23,
   "id": "ac9edf53-8963-4b58-bcb6-742106424757",
   "metadata": {},
   "outputs": [
    {
     "name": "stdout",
     "output_type": "stream",
     "text": [
      "\n",
      "\n",
      "\u001b[1m> Entering new AgentExecutor chain...\u001b[0m\n",
      "\u001b[32;1m\u001b[1;3m\n",
      "Invoking: `get_equilibirum_lattice` with `{'chemical_symbol': 'Au'}`\n",
      "\n",
      "\n",
      "\u001b[0m       Step     Time          Energy         fmax\n",
      "*Force-consistent energies used in optimization.\n",
      "LBFGS:    0 18:56:59        0.002606*       0.3089\n",
      "LBFGS:    1 18:56:59        0.000032*       0.0778\n",
      "LBFGS:    2 18:56:59       -0.000135*       0.0031\n",
      "LBFGS:    3 18:56:59       -0.000135*       0.0000\n",
      "LBFGS:    4 18:56:59       -0.000135*       0.0000\n",
      "\u001b[36;1m\u001b[1;3mnumbers=[79] positions=[[0.0, 0.0, 0.0]] cell=[[4.6804645871046276e-17, 2.0280828097056194, 2.0280828097056203], [2.0280828097056185, 9.184893482322169e-17, 2.0280828097056203], [2.0280828097056185, 2.0280828097056194, 3.558683810925054e-18]] pbc=[True, True, True]\u001b[0m\u001b[32;1m\u001b[1;3m\n",
      "Invoking: `get_thermal_property` with `{'atom_dict': {'numbers': [79], 'positions': [[0.0, 0.0, 0.0]], 'cell': [[4.6804645871046276e-17, 2.0280828097056194, 2.0280828097056203], [2.0280828097056185, 9.184893482322169e-17, 2.0280828097056203], [2.0280828097056185, 2.0280828097056194, 3.558683810925054e-18]], 'pbc': [True, True, True]}}`\n",
      "\n",
      "\n",
      "\u001b[0m       Step     Time          Energy         fmax\n",
      "*Force-consistent energies used in optimization.\n",
      "LBFGS:    0 18:57:02       -0.000135*       0.0000\n",
      "\u001b[33;1m\u001b[1;3m{'temperatures': [100, 1000], 'volumes': array([16.74654664, 17.24197152])}\u001b[0m\u001b[32;1m\u001b[1;3mThe thermal property of gold at 100 Kelvin has a volume of 16.75 and at 1000 Kelvin has a volume of 17.24.\u001b[0m\n",
      "\n",
      "\u001b[1m> Finished chain.\u001b[0m\n"
     ]
    }
   ],
   "source": [
    "lst = list(agent_executor.stream({\"input\": \"Return th thermal property of gold\"}))  # Yeah this worked !!"
   ]
  },
  {
   "cell_type": "code",
   "execution_count": 24,
   "id": "73c223f6-a180-4fad-9fb5-e3a44bde53ff",
   "metadata": {},
   "outputs": [
    {
     "data": {
      "text/plain": [
       "{'actions': [ToolAgentAction(tool='get_equilibirum_lattice', tool_input={'chemical_symbol': 'Au'}, log=\"\\nInvoking: `get_equilibirum_lattice` with `{'chemical_symbol': 'Au'}`\\n\\n\\n\", message_log=[AIMessageChunk(content='', additional_kwargs={'tool_calls': [{'index': 0, 'id': 'call_KuwqpdcORVA7xdqblaoAlM0r', 'function': {'arguments': '{\"chemical_symbol\":\"Au\"}', 'name': 'get_equilibirum_lattice'}, 'type': 'function'}]}, response_metadata={'finish_reason': 'tool_calls'}, id='run-bd42c2bb-b0e8-4aa3-acbd-1aab578177b5', tool_calls=[{'name': 'get_equilibirum_lattice', 'args': {'chemical_symbol': 'Au'}, 'id': 'call_KuwqpdcORVA7xdqblaoAlM0r'}], tool_call_chunks=[{'name': 'get_equilibirum_lattice', 'args': '{\"chemical_symbol\":\"Au\"}', 'id': 'call_KuwqpdcORVA7xdqblaoAlM0r', 'index': 0}])], tool_call_id='call_KuwqpdcORVA7xdqblaoAlM0r')],\n",
       " 'messages': [AIMessageChunk(content='', additional_kwargs={'tool_calls': [{'index': 0, 'id': 'call_KuwqpdcORVA7xdqblaoAlM0r', 'function': {'arguments': '{\"chemical_symbol\":\"Au\"}', 'name': 'get_equilibirum_lattice'}, 'type': 'function'}]}, response_metadata={'finish_reason': 'tool_calls'}, id='run-bd42c2bb-b0e8-4aa3-acbd-1aab578177b5', tool_calls=[{'name': 'get_equilibirum_lattice', 'args': {'chemical_symbol': 'Au'}, 'id': 'call_KuwqpdcORVA7xdqblaoAlM0r'}], tool_call_chunks=[{'name': 'get_equilibirum_lattice', 'args': '{\"chemical_symbol\":\"Au\"}', 'id': 'call_KuwqpdcORVA7xdqblaoAlM0r', 'index': 0}])]}"
      ]
     },
     "execution_count": 24,
     "metadata": {},
     "output_type": "execute_result"
    }
   ],
   "source": [
    "lst[0]"
   ]
  },
  {
   "cell_type": "code",
   "execution_count": 25,
   "id": "e4c068f9-d85d-4720-affb-f0619ec904fd",
   "metadata": {},
   "outputs": [
    {
     "data": {
      "text/plain": [
       "{'steps': [AgentStep(action=ToolAgentAction(tool='get_equilibirum_lattice', tool_input={'chemical_symbol': 'Au'}, log=\"\\nInvoking: `get_equilibirum_lattice` with `{'chemical_symbol': 'Au'}`\\n\\n\\n\", message_log=[AIMessageChunk(content='', additional_kwargs={'tool_calls': [{'index': 0, 'id': 'call_KuwqpdcORVA7xdqblaoAlM0r', 'function': {'arguments': '{\"chemical_symbol\":\"Au\"}', 'name': 'get_equilibirum_lattice'}, 'type': 'function'}]}, response_metadata={'finish_reason': 'tool_calls'}, id='run-bd42c2bb-b0e8-4aa3-acbd-1aab578177b5', tool_calls=[{'name': 'get_equilibirum_lattice', 'args': {'chemical_symbol': 'Au'}, 'id': 'call_KuwqpdcORVA7xdqblaoAlM0r'}], tool_call_chunks=[{'name': 'get_equilibirum_lattice', 'args': '{\"chemical_symbol\":\"Au\"}', 'id': 'call_KuwqpdcORVA7xdqblaoAlM0r', 'index': 0}])], tool_call_id='call_KuwqpdcORVA7xdqblaoAlM0r'), observation=AtomsDict(numbers=[79], positions=[[0.0, 0.0, 0.0]], cell=[[4.6804645871046276e-17, 2.0280828097056194, 2.0280828097056203], [2.0280828097056185, 9.184893482322169e-17, 2.0280828097056203], [2.0280828097056185, 2.0280828097056194, 3.558683810925054e-18]], pbc=[True, True, True]))],\n",
       " 'messages': [FunctionMessage(content='numbers=[79] positions=[[0.0, 0.0, 0.0]] cell=[[4.6804645871046276e-17, 2.0280828097056194, 2.0280828097056203], [2.0280828097056185, 9.184893482322169e-17, 2.0280828097056203], [2.0280828097056185, 2.0280828097056194, 3.558683810925054e-18]] pbc=[True, True, True]', name='get_equilibirum_lattice')]}"
      ]
     },
     "execution_count": 25,
     "metadata": {},
     "output_type": "execute_result"
    }
   ],
   "source": [
    "lst[1]"
   ]
  },
  {
   "cell_type": "code",
   "execution_count": 26,
   "id": "4a8c792b-a5c6-44b7-9200-7782572b14de",
   "metadata": {},
   "outputs": [
    {
     "data": {
      "text/plain": [
       "{'actions': [ToolAgentAction(tool='get_thermal_property', tool_input={'atom_dict': {'numbers': [79], 'positions': [[0.0, 0.0, 0.0]], 'cell': [[4.6804645871046276e-17, 2.0280828097056194, 2.0280828097056203], [2.0280828097056185, 9.184893482322169e-17, 2.0280828097056203], [2.0280828097056185, 2.0280828097056194, 3.558683810925054e-18]], 'pbc': [True, True, True]}}, log=\"\\nInvoking: `get_thermal_property` with `{'atom_dict': {'numbers': [79], 'positions': [[0.0, 0.0, 0.0]], 'cell': [[4.6804645871046276e-17, 2.0280828097056194, 2.0280828097056203], [2.0280828097056185, 9.184893482322169e-17, 2.0280828097056203], [2.0280828097056185, 2.0280828097056194, 3.558683810925054e-18]], 'pbc': [True, True, True]}}`\\n\\n\\n\", message_log=[AIMessageChunk(content='', additional_kwargs={'tool_calls': [{'index': 0, 'id': 'call_UEUtZQOLQacbJlwcBjaz2Y7H', 'function': {'arguments': '{\"atom_dict\":{\"numbers\":[79],\"positions\":[[0.0,0.0,0.0]],\"cell\":[[4.6804645871046276e-17,2.0280828097056194,2.0280828097056203],[2.0280828097056185,9.184893482322169e-17,2.0280828097056203],[2.0280828097056185,2.0280828097056194,3.558683810925054e-18]],\"pbc\":[true,true,true]}}', 'name': 'get_thermal_property'}, 'type': 'function'}]}, response_metadata={'finish_reason': 'tool_calls'}, id='run-b9c5ba31-5a49-428b-8187-7a7e33037b64', tool_calls=[{'name': 'get_thermal_property', 'args': {'atom_dict': {'numbers': [79], 'positions': [[0.0, 0.0, 0.0]], 'cell': [[4.6804645871046276e-17, 2.0280828097056194, 2.0280828097056203], [2.0280828097056185, 9.184893482322169e-17, 2.0280828097056203], [2.0280828097056185, 2.0280828097056194, 3.558683810925054e-18]], 'pbc': [True, True, True]}}, 'id': 'call_UEUtZQOLQacbJlwcBjaz2Y7H'}], tool_call_chunks=[{'name': 'get_thermal_property', 'args': '{\"atom_dict\":{\"numbers\":[79],\"positions\":[[0.0,0.0,0.0]],\"cell\":[[4.6804645871046276e-17,2.0280828097056194,2.0280828097056203],[2.0280828097056185,9.184893482322169e-17,2.0280828097056203],[2.0280828097056185,2.0280828097056194,3.558683810925054e-18]],\"pbc\":[true,true,true]}}', 'id': 'call_UEUtZQOLQacbJlwcBjaz2Y7H', 'index': 0}])], tool_call_id='call_UEUtZQOLQacbJlwcBjaz2Y7H')],\n",
       " 'messages': [AIMessageChunk(content='', additional_kwargs={'tool_calls': [{'index': 0, 'id': 'call_UEUtZQOLQacbJlwcBjaz2Y7H', 'function': {'arguments': '{\"atom_dict\":{\"numbers\":[79],\"positions\":[[0.0,0.0,0.0]],\"cell\":[[4.6804645871046276e-17,2.0280828097056194,2.0280828097056203],[2.0280828097056185,9.184893482322169e-17,2.0280828097056203],[2.0280828097056185,2.0280828097056194,3.558683810925054e-18]],\"pbc\":[true,true,true]}}', 'name': 'get_thermal_property'}, 'type': 'function'}]}, response_metadata={'finish_reason': 'tool_calls'}, id='run-b9c5ba31-5a49-428b-8187-7a7e33037b64', tool_calls=[{'name': 'get_thermal_property', 'args': {'atom_dict': {'numbers': [79], 'positions': [[0.0, 0.0, 0.0]], 'cell': [[4.6804645871046276e-17, 2.0280828097056194, 2.0280828097056203], [2.0280828097056185, 9.184893482322169e-17, 2.0280828097056203], [2.0280828097056185, 2.0280828097056194, 3.558683810925054e-18]], 'pbc': [True, True, True]}}, 'id': 'call_UEUtZQOLQacbJlwcBjaz2Y7H'}], tool_call_chunks=[{'name': 'get_thermal_property', 'args': '{\"atom_dict\":{\"numbers\":[79],\"positions\":[[0.0,0.0,0.0]],\"cell\":[[4.6804645871046276e-17,2.0280828097056194,2.0280828097056203],[2.0280828097056185,9.184893482322169e-17,2.0280828097056203],[2.0280828097056185,2.0280828097056194,3.558683810925054e-18]],\"pbc\":[true,true,true]}}', 'id': 'call_UEUtZQOLQacbJlwcBjaz2Y7H', 'index': 0}])]}"
      ]
     },
     "execution_count": 26,
     "metadata": {},
     "output_type": "execute_result"
    }
   ],
   "source": [
    "lst[2]"
   ]
  },
  {
   "cell_type": "code",
   "execution_count": 27,
   "id": "ef5429b2-2513-4727-9572-1937028f019b",
   "metadata": {},
   "outputs": [
    {
     "data": {
      "text/plain": [
       "{'steps': [AgentStep(action=ToolAgentAction(tool='get_thermal_property', tool_input={'atom_dict': {'numbers': [79], 'positions': [[0.0, 0.0, 0.0]], 'cell': [[4.6804645871046276e-17, 2.0280828097056194, 2.0280828097056203], [2.0280828097056185, 9.184893482322169e-17, 2.0280828097056203], [2.0280828097056185, 2.0280828097056194, 3.558683810925054e-18]], 'pbc': [True, True, True]}}, log=\"\\nInvoking: `get_thermal_property` with `{'atom_dict': {'numbers': [79], 'positions': [[0.0, 0.0, 0.0]], 'cell': [[4.6804645871046276e-17, 2.0280828097056194, 2.0280828097056203], [2.0280828097056185, 9.184893482322169e-17, 2.0280828097056203], [2.0280828097056185, 2.0280828097056194, 3.558683810925054e-18]], 'pbc': [True, True, True]}}`\\n\\n\\n\", message_log=[AIMessageChunk(content='', additional_kwargs={'tool_calls': [{'index': 0, 'id': 'call_UEUtZQOLQacbJlwcBjaz2Y7H', 'function': {'arguments': '{\"atom_dict\":{\"numbers\":[79],\"positions\":[[0.0,0.0,0.0]],\"cell\":[[4.6804645871046276e-17,2.0280828097056194,2.0280828097056203],[2.0280828097056185,9.184893482322169e-17,2.0280828097056203],[2.0280828097056185,2.0280828097056194,3.558683810925054e-18]],\"pbc\":[true,true,true]}}', 'name': 'get_thermal_property'}, 'type': 'function'}]}, response_metadata={'finish_reason': 'tool_calls'}, id='run-b9c5ba31-5a49-428b-8187-7a7e33037b64', tool_calls=[{'name': 'get_thermal_property', 'args': {'atom_dict': {'numbers': [79], 'positions': [[0.0, 0.0, 0.0]], 'cell': [[4.6804645871046276e-17, 2.0280828097056194, 2.0280828097056203], [2.0280828097056185, 9.184893482322169e-17, 2.0280828097056203], [2.0280828097056185, 2.0280828097056194, 3.558683810925054e-18]], 'pbc': [True, True, True]}}, 'id': 'call_UEUtZQOLQacbJlwcBjaz2Y7H'}], tool_call_chunks=[{'name': 'get_thermal_property', 'args': '{\"atom_dict\":{\"numbers\":[79],\"positions\":[[0.0,0.0,0.0]],\"cell\":[[4.6804645871046276e-17,2.0280828097056194,2.0280828097056203],[2.0280828097056185,9.184893482322169e-17,2.0280828097056203],[2.0280828097056185,2.0280828097056194,3.558683810925054e-18]],\"pbc\":[true,true,true]}}', 'id': 'call_UEUtZQOLQacbJlwcBjaz2Y7H', 'index': 0}])], tool_call_id='call_UEUtZQOLQacbJlwcBjaz2Y7H'), observation={'temperatures': [100, 1000], 'volumes': array([16.74654664, 17.24197152])})],\n",
       " 'messages': [FunctionMessage(content=\"{'temperatures': [100, 1000], 'volumes': array([16.74654664, 17.24197152])}\", name='get_thermal_property')]}"
      ]
     },
     "execution_count": 27,
     "metadata": {},
     "output_type": "execute_result"
    }
   ],
   "source": [
    "lst[3]"
   ]
  },
  {
   "cell_type": "code",
   "execution_count": 28,
   "id": "1e28a927-aea2-4be9-be56-84c2ef1eee19",
   "metadata": {},
   "outputs": [
    {
     "data": {
      "text/plain": [
       "{'output': 'The thermal property of gold at 100 Kelvin has a volume of 16.75 and at 1000 Kelvin has a volume of 17.24.',\n",
       " 'messages': [AIMessage(content='The thermal property of gold at 100 Kelvin has a volume of 16.75 and at 1000 Kelvin has a volume of 17.24.')]}"
      ]
     },
     "execution_count": 28,
     "metadata": {},
     "output_type": "execute_result"
    }
   ],
   "source": [
    "lst[4]"
   ]
  },
  {
   "cell_type": "markdown",
   "id": "4a7f9b5f-cfe3-4b9c-9190-33d9505beedd",
   "metadata": {},
   "source": [
    "# Lessons learned: \n",
    "* Using Atomistics to calculate property works well\n",
    "* need to try with other properties\""
   ]
  },
  {
   "cell_type": "code",
   "execution_count": null,
   "id": "d3963c0d-4deb-4fae-bc5c-f1fca6827933",
   "metadata": {},
   "outputs": [],
   "source": []
  }
 ],
 "metadata": {
  "kernelspec": {
   "display_name": "Python 3 (ipykernel)",
   "language": "python",
   "name": "python3"
  },
  "language_info": {
   "codemirror_mode": {
    "name": "ipython",
    "version": 3
   },
   "file_extension": ".py",
   "mimetype": "text/x-python",
   "name": "python",
   "nbconvert_exporter": "python",
   "pygments_lexer": "ipython3",
   "version": "3.10.0"
  }
 },
 "nbformat": 4,
 "nbformat_minor": 5
}
