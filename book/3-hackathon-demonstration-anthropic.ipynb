{
 "cells": [
  {
   "cell_type": "markdown",
   "id": "d7616c03-7a5b-463a-b2db-0e0501619993",
   "metadata": {},
   "source": [
    "# Hackathon Demonstration\n",
    "Beyond the two previous examples, which closely followed the Langchain [custom agent](https://python.langchain.com/docs/how_to/custom_tools/) tutorial, the goal for the final presentation was to highlight the use of `LangSim` in production. For this purpose, the functionality was transferred from the Jupyter notebook to a Python module. As a first step the `LangSim` module is loaded using the `%reload_ext` jupyter magic command:"
   ]
  },
  {
   "cell_type": "code",
   "execution_count": 1,
   "id": "db5f8988-a11f-4f4d-8a8c-74f419ddcd80",
   "metadata": {},
   "outputs": [],
   "source": [
    "%reload_ext langsim"
   ]
  },
  {
   "cell_type": "markdown",
   "id": "01688907-23ea-42fd-ab8c-0d4f6a918465",
   "metadata": {},
   "source": [
    "Then the [Anthropic](https://www.anthropic.com) API key is set to the `LANGSIM_API_KEY` environment variable so it can be used by `LangSim` internally, in addition we set the variables `LANGSIM_PROVIDER` to select `anthropic` and `LANGSIM_MODEL` to select `claude-3-5-sonnet-20240620`:"
   ]
  },
  {
   "cell_type": "code",
   "execution_count": 2,
   "id": "a743c1f8-63a7-49a7-b77a-4cdf85d49b84",
   "metadata": {},
   "outputs": [
    {
     "name": "stdin",
     "output_type": "stream",
     "text": [
      "Enter your API key ········\n"
     ]
    }
   ],
   "source": [
    "import os, getpass\n",
    "os.environ[\"LANGSIM_PROVIDER\"] = \"anthropic\" \n",
    "os.environ[\"LANGSIM_API_KEY\"] = getpass.getpass(\"Enter your API key\")\n",
    "os.environ[\"LANGSIM_MODEL\"] = \"claude-3-5-sonnet-20240620\""
   ]
  },
  {
   "cell_type": "markdown",
   "id": "aa95152b-aa79-4a9b-900d-28a0b3b067fe",
   "metadata": {},
   "source": [
    "## Dialog\n",
    "From this point on the user can chat with the `LangSim` interface using the `chat` jupyter magic. As a first challenge the user communicates their interest to find a material with a bulk modulus in the range of 200 GPa; following with a clarification of this statement by asking the LLM to calculate the bulk modulus for the noble metals. In contrast to the previous example, the LLM is tasked with repeating the same calculation multiple times and then identify the chemical element, which most closely matches the targeted bulk modulus of 200GPa. None of the required logic is implemented explicitly, rather the LLM only has access to a `get_equilibrium_lattice()` function to calculate the equilibrium crystal structure and a `get_bulk_modulus()` function, which calculates the bulk modulus for a given equilibrium crystal structure."
   ]
  },
  {
   "cell_type": "code",
   "execution_count": 3,
   "id": "2b698ffd-3b16-4937-ae97-8e9f44a95bb7",
   "metadata": {},
   "outputs": [
    {
     "name": "stdout",
     "output_type": "stream",
     "text": [
      "\n",
      "\n",
      "\u001B[1m> Entering new AgentExecutor chain...\u001B[0m\n",
      "\u001B[32;1m\u001B[1;3m[{'text': \"Certainly! I'd be happy to help you compute the bulk modulus for the noble metals. The noble metals typically include gold (Au), silver (Ag), platinum (Pt), palladium (Pd), rhodium (Rh), iridium (Ir), and sometimes copper (Cu) is included as well.\\n\\nTo calculate the bulk modulus, we need to use one of the available models: either EMT (Effective Medium Theory) or MACE (Machine Learning Force Field). Before we proceed, I need to know which model you'd prefer to use for these calculations. \\n\\nWould you like to use:\\n1. EMT (Effective Medium Theory)\\n2. MACE (Machine Learning Force Field)\\n\\nPlease let me know your preference, and then I can proceed with the calculations for the noble metals.\", 'type': 'text', 'index': 0}]\u001B[0m\n",
      "\n",
      "\u001B[1m> Finished chain.\u001B[0m\n"
     ]
    },
    {
     "data": {
      "text/markdown": [
       "Certainly! I'd be happy to help you compute the bulk modulus for the noble metals. The noble metals typically include gold (Au), silver (Ag), platinum (Pt), palladium (Pd), rhodium (Rh), iridium (Ir), and sometimes copper (Cu) is included as well.\n",
       "\n",
       "To calculate the bulk modulus, we need to use one of the available models: either EMT (Effective Medium Theory) or MACE (Machine Learning Force Field). Before we proceed, I need to know which model you'd prefer to use for these calculations. \n",
       "\n",
       "Would you like to use:\n",
       "1. EMT (Effective Medium Theory)\n",
       "2. MACE (Machine Learning Force Field)\n",
       "\n",
       "Please let me know your preference, and then I can proceed with the calculations for the noble metals."
      ],
      "text/plain": [
       "<IPython.core.display.Markdown object>"
      ]
     },
     "execution_count": 3,
     "metadata": {},
     "output_type": "execute_result"
    }
   ],
   "source": [
    "%%chat\n",
    "I am looking for a material with a bulk modulus in the range of 200 GPa.\n",
    "Can you compute the bulk modulus for the noble metals for me?"
   ]
  },
  {
   "cell_type": "markdown",
   "id": "837750e4-d51d-4ea9-bb7e-be3fd7b1f63c",
   "metadata": {},
   "source": [
    "The LLM is instructed by the system prompt to clarify which simulation method it should use to calculate a given material property. At the time of the demonstration, two simulation methods were implemented, [EMT](https://wiki.fysik.dtu.dk/ase/ase/calculators/emt.html) and [MACE](https://mace-docs.readthedocs.io). As the user in this demonstration is not aware of the technical details of these simulation methods, he asks for clarification. This highlights how LLMs can use the context of the previous conversation to answer a given question:"
   ]
  },
  {
   "cell_type": "code",
   "execution_count": 4,
   "id": "d96cabcc-a36b-4d40-9999-808ecdc746dc",
   "metadata": {},
   "outputs": [
    {
     "name": "stdout",
     "output_type": "stream",
     "text": [
      "\n",
      "\n",
      "\u001B[1m> Entering new AgentExecutor chain...\u001B[0m\n",
      "\u001B[32;1m\u001B[1;3m[{'text': \"I apologize for not providing more information about the methods earlier. Let me explain the two available models for calculating the bulk modulus:\\n\\n1. EMT (Effective Medium Theory):\\n   EMT is a computationally efficient, analytical model that describes the macroscopic properties of composite materials. It's a simpler and faster method, but it may be less accurate for some systems, especially those with complex electronic structures.\\n\\n2. MACE (Machine Learning Force Field):\\n   MACE is a more advanced machine learning-based force field for predicting many-body atomic interactions. It covers the entire periodic table and is generally more accurate than EMT, especially for a wider range of elements and structures. However, it may be computationally more intensive.\\n\\nFor noble metals, both methods can provide reasonable results, but MACE might be more accurate. However, the choice depends on your specific needs:\\n\\n- If you need quick estimates and computational efficiency is a priority, EMT might be preferable.\\n- If you need higher accuracy and don't mind slightly longer computation times, MACE would be the better choice.\\n\\nWhich method would you prefer to use for calculating the bulk modulus of noble metals? Once you decide, I can proceed with the calculations.\", 'type': 'text', 'index': 0}]\u001B[0m\n",
      "\n",
      "\u001B[1m> Finished chain.\u001B[0m\n"
     ]
    },
    {
     "data": {
      "text/markdown": [
       "I apologize for not providing more information about the methods earlier. Let me explain the two available models for calculating the bulk modulus:\n",
       "\n",
       "1. EMT (Effective Medium Theory):\n",
       "   EMT is a computationally efficient, analytical model that describes the macroscopic properties of composite materials. It's a simpler and faster method, but it may be less accurate for some systems, especially those with complex electronic structures.\n",
       "\n",
       "2. MACE (Machine Learning Force Field):\n",
       "   MACE is a more advanced machine learning-based force field for predicting many-body atomic interactions. It covers the entire periodic table and is generally more accurate than EMT, especially for a wider range of elements and structures. However, it may be computationally more intensive.\n",
       "\n",
       "For noble metals, both methods can provide reasonable results, but MACE might be more accurate. However, the choice depends on your specific needs:\n",
       "\n",
       "- If you need quick estimates and computational efficiency is a priority, EMT might be preferable.\n",
       "- If you need higher accuracy and don't mind slightly longer computation times, MACE would be the better choice.\n",
       "\n",
       "Which method would you prefer to use for calculating the bulk modulus of noble metals? Once you decide, I can proceed with the calculations."
      ],
      "text/plain": [
       "<IPython.core.display.Markdown object>"
      ]
     },
     "execution_count": 4,
     "metadata": {},
     "output_type": "execute_result"
    }
   ],
   "source": [
    "%%chat \n",
    "What are those methods?"
   ]
  },
  {
   "cell_type": "markdown",
   "id": "ba002cb9-b406-49dd-a716-c57904d48472",
   "metadata": {},
   "source": [
    "Based on the explanation of the LLM, the user chooses the [EMT](https://wiki.fysik.dtu.dk/ase/ase/calculators/emt.html) method, primarily because it is computationally more efficient to calculate a large number of calculations in a short amount of time. The LLM then executes two calculations for each of the three noble metals silver (Ag), gold (Au) and platinum (Pt). These calculations are the calculation of the equilibrium structure `get_equilibrium_lattice()` which in addition to the chemical symbol now also takes the name of the chosen calculator as an input and the calculation of the bulk modulus `get_bulk_modulus()` which takes the optimized structure as `AtomsDict()` object as an input in addition to the chosen calculator as string. "
   ]
  },
  {
   "cell_type": "code",
   "execution_count": 5,
   "id": "3caea2fc-a3de-400c-91cb-ae53c616ece1",
   "metadata": {},
   "outputs": [
    {
     "name": "stdout",
     "output_type": "stream",
     "text": [
      "\n",
      "\n",
      "\u001B[1m> Entering new AgentExecutor chain...\u001B[0m\n",
      "\u001B[32;1m\u001B[1;3m\n",
      "Invoking: `get_atom_dict_bulk_structure` with `{'chemical_symbol': 'Au'}`\n",
      "responded: [{'text': \"Certainly! We'll use the EMT (Effective Medium Theory) method to calculate the bulk modulus for the noble metals. I'll compute this for gold (Au), silver (Ag), platinum (Pt), palladium (Pd), rhodium (Rh), and iridium (Ir). Let's start with these calculations.\\n\\nFor each metal, we need to first get the bulk structure, then equilibrate it, and finally calculate the bulk modulus. I'll do this for each metal one by one.\\n\\nLet's begin with gold (Au):\", 'type': 'text', 'index': 0}, {'id': 'toolu_01G3s6u3824duQkUYC2S48vR', 'input': {}, 'name': 'get_atom_dict_bulk_structure', 'type': 'tool_use', 'index': 1, 'partial_json': '{\"chemical_symbol\": \"Au\"}'}]\n",
      "\n",
      "\u001B[0m\u001B[33;1m\u001B[1;3mnumbers=[79] positions=[[0.0, 0.0, 0.0]] cell=[[0.0, 2.04, 2.04], [2.04, 0.0, 2.04], [2.04, 2.04, 0.0]] pbc=[True, True, True]\u001B[0m\u001B[32;1m\u001B[1;3m\n",
      "Invoking: `get_atom_dict_equilibrated_structure` with `{'atom_dict': {'numbers': [79], 'positions': [[0.0, 0.0, 0.0]], 'cell': [[0.0, 2.04, 2.04], [2.04, 0.0, 2.04], [2.04, 2.04, 0.0]], 'pbc': [True, True, True]}, 'calculator_str': 'emt'}`\n",
      "responded: [{'text': \"\\n\\nNow that we have the bulk structure for gold, let's equilibrate it using the EMT calculator:\", 'type': 'text', 'index': 0}, {'id': 'toolu_01BUiM5erRnzLRsAhQ6hEC1m', 'input': {}, 'name': 'get_atom_dict_equilibrated_structure', 'type': 'tool_use', 'index': 1, 'partial_json': '{\"atom_dict\": {\"numbers\": [79], \"positions\": [[0.0, 0.0, 0.0]], \"cell\": [[0.0, 2.04, 2.04], [2.04, 0.0, 2.04], [2.04, 2.04, 0.0]], \"pbc\": [true, true, true]}, \"calculator_str\": \"emt\"}'}]\n",
      "\n",
      "\u001B[0m       Step     Time          Energy          fmax\n",
      "LBFGS:    0 07:56:23        0.002606        0.308859\n",
      "LBFGS:    1 07:56:23        0.000032        0.077808\n",
      "LBFGS:    2 07:56:23       -0.000135        0.003099\n",
      "LBFGS:    3 07:56:23       -0.000135        0.000029\n",
      "LBFGS:    4 07:56:23       -0.000135        0.000000\n",
      "\u001B[38;5;200m\u001B[1;3mnumbers=[79] positions=[[4.761270571021482e-17, -3.44317321286765e-17, -2.0729599738876008e-16]] cell=[[7.040904860568557e-17, 2.028082809705617, 2.0280828097056176], [2.028082809705617, 1.0384771021574885e-16, 2.0280828097056176], [2.028082809705617, 2.028082809705618, 4.963320342464553e-17]] pbc=[True, True, True]\u001B[0m\u001B[32;1m\u001B[1;3m\n",
      "Invoking: `get_bulk_modulus` with `{'atom_dict': {'numbers': [79], 'positions': [[4.761270571021482e-17, -3.44317321286765e-17, -2.0729599738876008e-16]], 'cell': [[7.040904860568557e-17, 2.028082809705617, 2.0280828097056176], [2.028082809705617, 1.0384771021574885e-16, 2.0280828097056176], [2.028082809705617, 2.028082809705618, 4.963320342464553e-17]], 'pbc': [True, True, True]}, 'calculator_str': 'emt'}`\n",
      "responded: [{'text': \"\\n\\nNow that we have the equilibrated structure for gold, let's calculate its bulk modulus:\", 'type': 'text', 'index': 0}, {'id': 'toolu_01BuZFY3zvENzYWh9Jasus7M', 'input': {}, 'name': 'get_bulk_modulus', 'type': 'tool_use', 'index': 1, 'partial_json': '{\"atom_dict\": {\"numbers\": [79], \"positions\": [[4.761270571021482e-17, -3.44317321286765e-17, -2.0729599738876008e-16]], \"cell\": [[7.040904860568557e-17, 2.028082809705617, 2.0280828097056176], [2.028082809705617, 1.0384771021574885e-16, 2.0280828097056176], [2.028082809705617, 2.028082809705618, 4.963320342464553e-17]], \"pbc\": [true, true, true]}, \"calculator_str\": \"emt\"}'}]\n",
      "\n",
      "\u001B[0m\u001B[36;1m\u001B[1;3m173.8383045764123\u001B[0m\u001B[32;1m\u001B[1;3m\n",
      "Invoking: `get_atom_dict_bulk_structure` with `{'chemical_symbol': 'Ag'}`\n",
      "responded: [{'text': \"\\n\\nThe bulk modulus of gold (Au) calculated using EMT is approximately 173.84 GPa.\\n\\nNow, let's repeat this process for the other noble metals: silver (Ag), platinum (Pt), palladium (Pd), rhodium (Rh), and iridium (Ir).\", 'type': 'text', 'index': 0}, {'id': 'toolu_01RFH3aZTKbthvQDzM5U6ttV', 'input': {}, 'name': 'get_atom_dict_bulk_structure', 'type': 'tool_use', 'index': 1, 'partial_json': '{\"chemical_symbol\": \"Ag\"}'}]\n",
      "\n",
      "\u001B[0m\u001B[33;1m\u001B[1;3mnumbers=[47] positions=[[0.0, 0.0, 0.0]] cell=[[0.0, 2.045, 2.045], [2.045, 0.0, 2.045], [2.045, 2.045, 0.0]] pbc=[True, True, True]\u001B[0m\u001B[32;1m\u001B[1;3m\n",
      "Invoking: `get_atom_dict_equilibrated_structure` with `{'atom_dict': {'numbers': [47], 'positions': [[0.0, 0.0, 0.0]], 'cell': [[0.0, 2.045, 2.045], [2.045, 0.0, 2.045], [2.045, 2.045, 0.0]], 'pbc': [True, True, True]}, 'calculator_str': 'emt'}`\n",
      "responded: [{'id': 'toolu_01HsAhBjQsREjnh5x7SRFEot', 'input': {}, 'name': 'get_atom_dict_equilibrated_structure', 'type': 'tool_use', 'index': 0, 'partial_json': '{\"atom_dict\": {\"numbers\": [47], \"positions\": [[0.0, 0.0, 0.0]], \"cell\": [[0.0, 2.045, 2.045], [2.045, 0.0, 2.045], [2.045, 2.045, 0.0]], \"pbc\": [true, true, true]}, \"calculator_str\": \"emt\"}'}]\n",
      "\n",
      "\u001B[0m       Step     Time          Energy          fmax\n",
      "LBFGS:    0 07:56:31        0.001584        0.198735\n",
      "LBFGS:    1 07:56:31        0.000254        0.113272\n",
      "LBFGS:    2 07:56:31       -0.000366        0.004325\n",
      "LBFGS:    3 07:56:31       -0.000367        0.000089\n",
      "LBFGS:    4 07:56:31       -0.000367        0.000000\n",
      "\u001B[38;5;200m\u001B[1;3mnumbers=[47] positions=[[3.632034897593557e-17, -7.643082441891503e-17, -4.3481411845850515e-16]] cell=[[9.839176801279394e-17, 2.031776305380803, 2.0317763053808036], [2.031776305380803, -6.293048194449085e-17, 2.0317763053808036], [2.031776305380803, 2.031776305380803, -2.945414531846451e-17]] pbc=[True, True, True]\u001B[0m\u001B[32;1m\u001B[1;3m\n",
      "Invoking: `get_bulk_modulus` with `{'atom_dict': {'numbers': [47], 'positions': [[3.632034897593557e-17, -7.643082441891503e-17, -4.3481411845850515e-16]], 'cell': [[9.839176801279394e-17, 2.031776305380803, 2.0317763053808036], [2.031776305380803, -6.293048194449085e-17, 2.0317763053808036], [2.031776305380803, 2.031776305380803, -2.945414531846451e-17]], 'pbc': [True, True, True]}, 'calculator_str': 'emt'}`\n",
      "responded: [{'id': 'toolu_01SjbgmFaXuiJAr2e3pzc4w9', 'input': {}, 'name': 'get_bulk_modulus', 'type': 'tool_use', 'index': 0, 'partial_json': '{\"atom_dict\": {\"numbers\": [47], \"positions\": [[3.632034897593557e-17, -7.643082441891503e-17, -4.3481411845850515e-16]], \"cell\": [[9.839176801279394e-17, 2.031776305380803, 2.0317763053808036], [2.031776305380803, -6.293048194449085e-17, 2.0317763053808036], [2.031776305380803, 2.031776305380803, -2.945414531846451e-17]], \"pbc\": [true, true, true]}, \"calculator_str\": \"emt\"}'}]\n",
      "\n",
      "\u001B[0m\u001B[36;1m\u001B[1;3m100.1580099647698\u001B[0m\u001B[32;1m\u001B[1;3m\n",
      "Invoking: `get_atom_dict_bulk_structure` with `{'chemical_symbol': 'Pt'}`\n",
      "responded: [{'id': 'toolu_01SAFc88U6jiHVaeKAGUo6AM', 'input': {}, 'name': 'get_atom_dict_bulk_structure', 'type': 'tool_use', 'index': 0, 'partial_json': '{\"chemical_symbol\": \"Pt\"}'}]\n",
      "\n",
      "\u001B[0m\u001B[33;1m\u001B[1;3mnumbers=[78] positions=[[0.0, 0.0, 0.0]] cell=[[0.0, 1.96, 1.96], [1.96, 0.0, 1.96], [1.96, 1.96, 0.0]] pbc=[True, True, True]\u001B[0m\u001B[32;1m\u001B[1;3m\n",
      "Invoking: `get_atom_dict_equilibrated_structure` with `{'atom_dict': {'numbers': [78], 'positions': [[0.0, 0.0, 0.0]], 'cell': [[0.0, 1.96, 1.96], [1.96, 0.0, 1.96], [1.96, 1.96, 0.0]], 'pbc': [True, True, True]}, 'calculator_str': 'emt'}`\n",
      "responded: [{'id': 'toolu_014fK8mbWdbCc6QHFxSPf6Ui', 'input': {}, 'name': 'get_atom_dict_equilibrated_structure', 'type': 'tool_use', 'index': 0, 'partial_json': '{\"atom_dict\": {\"numbers\": [78], \"positions\": [[0.0, 0.0, 0.0]], \"cell\": [[0.0, 1.96, 1.96], [1.96, 0.0, 1.96], [1.96, 1.96, 0.0]], \"pbc\": [true, true, true]}, \"calculator_str\": \"emt\"}'}]\n",
      "\n",
      "\u001B[0m       Step     Time          Energy          fmax\n",
      "LBFGS:    0 07:56:38       -0.000125        0.036183\n",
      "LBFGS:    1 07:56:38       -0.000149        0.004500\n",
      "LBFGS:    2 07:56:38       -0.000150        0.000013\n",
      "LBFGS:    3 07:56:38       -0.000150        0.000000\n",
      "\u001B[38;5;200m\u001B[1;3mnumbers=[78] positions=[[1.7335088009500337e-17, 1.1611829961508788e-16, 1.1092203033984381e-16]] cell=[[4.60232654901218e-18, 1.9609007393798525, 1.960900739379854], [1.9609007393798532, -3.193849078504324e-16, 1.9609007393798543], [1.9609007393798532, 1.9609007393798528, 1.704915243852484e-16]] pbc=[True, True, True]\u001B[0m\u001B[32;1m\u001B[1;3m\n",
      "Invoking: `get_bulk_modulus` with `{'atom_dict': {'numbers': [78], 'positions': [[1.7335088009500337e-17, 1.1611829961508788e-16, 1.1092203033984381e-16]], 'cell': [[4.60232654901218e-18, 1.9609007393798525, 1.960900739379854], [1.9609007393798532, -3.193849078504324e-16, 1.9609007393798543], [1.9609007393798532, 1.9609007393798528, 1.704915243852484e-16]], 'pbc': [True, True, True]}, 'calculator_str': 'emt'}`\n",
      "responded: [{'id': 'toolu_01EkTZs8zu44MA7mAASvd2hM', 'input': {}, 'name': 'get_bulk_modulus', 'type': 'tool_use', 'index': 0, 'partial_json': '{\"atom_dict\": {\"numbers\": [78], \"positions\": [[1.7335088009500337e-17, 1.1611829961508788e-16, 1.1092203033984381e-16]], \"cell\": [[4.60232654901218e-18, 1.9609007393798525, 1.960900739379854], [1.9609007393798532, -3.193849078504324e-16, 1.9609007393798543], [1.9609007393798532, 1.9609007393798528, 1.704915243852484e-16]], \"pbc\": [true, true, true]}, \"calculator_str\": \"emt\"}'}]\n",
      "\n",
      "\u001B[0m\u001B[36;1m\u001B[1;3m278.2966136639589\u001B[0m\u001B[32;1m\u001B[1;3m\n",
      "Invoking: `get_atom_dict_bulk_structure` with `{'chemical_symbol': 'Pd'}`\n",
      "responded: [{'id': 'toolu_01BGCFWyDttt9iN8q4NNyrcj', 'input': {}, 'name': 'get_atom_dict_bulk_structure', 'type': 'tool_use', 'index': 0, 'partial_json': '{\"chemical_symbol\": \"Pd\"}'}]\n",
      "\n",
      "\u001B[0m\u001B[33;1m\u001B[1;3mnumbers=[46] positions=[[0.0, 0.0, 0.0]] cell=[[0.0, 1.945, 1.945], [1.945, 0.0, 1.945], [1.945, 1.945, 0.0]] pbc=[True, True, True]\u001B[0m\u001B[32;1m\u001B[1;3m\n",
      "Invoking: `get_atom_dict_equilibrated_structure` with `{'atom_dict': {'numbers': [46], 'positions': [[0.0, 0.0, 0.0]], 'cell': [[0.0, 1.945, 1.945], [1.945, 0.0, 1.945], [1.945, 1.945, 0.0]], 'pbc': [True, True, True]}, 'calculator_str': 'emt'}`\n",
      "responded: [{'id': 'toolu_014tysKpH352XUFXQZfuQg8p', 'input': {}, 'name': 'get_atom_dict_equilibrated_structure', 'type': 'tool_use', 'index': 0, 'partial_json': '{\"atom_dict\": {\"numbers\": [46], \"positions\": [[0.0, 0.0, 0.0]], \"cell\": [[0.0, 1.945, 1.945], [1.945, 0.0, 1.945], [1.945, 1.945, 0.0]], \"pbc\": [true, true, true]}, \"calculator_str\": \"emt\"}'}]\n",
      "\n",
      "\u001B[0m       Step     Time          Energy          fmax\n",
      "LBFGS:    0 07:56:45        0.000342        0.140218\n",
      "LBFGS:    1 07:56:45       -0.000211        0.043682\n",
      "LBFGS:    2 07:56:45       -0.000270        0.000742\n",
      "LBFGS:    3 07:56:45       -0.000270        0.000004\n",
      "LBFGS:    4 07:56:45       -0.000270        0.000000\n",
      "\u001B[38;5;200m\u001B[1;3mnumbers=[46] positions=[[-1.6927811771902953e-17, -1.2503517079340123e-16, -7.690125956122276e-17]] cell=[[-2.451382079594262e-16, 1.9393703009539969, 1.9393703009539975], [1.939370300953997, 2.8937020560458515e-17, 1.9393703009539973], [1.9393703009539969, 1.9393703009539969, 2.7783509637994643e-16]] pbc=[True, True, True]\u001B[0m\u001B[32;1m\u001B[1;3m\n",
      "Invoking: `get_bulk_modulus` with `{'atom_dict': {'numbers': [46], 'positions': [[-1.6927811771902953e-17, -1.2503517079340123e-16, -7.690125956122276e-17]], 'cell': [[-2.451382079594262e-16, 1.9393703009539969, 1.9393703009539975], [1.939370300953997, 2.8937020560458515e-17, 1.9393703009539973], [1.9393703009539969, 1.9393703009539969, 2.7783509637994643e-16]], 'pbc': [True, True, True]}, 'calculator_str': 'emt'}`\n",
      "responded: [{'id': 'toolu_01MC9td1UE2qdbPnW9PPD5mr', 'input': {}, 'name': 'get_bulk_modulus', 'type': 'tool_use', 'index': 0, 'partial_json': '{\"atom_dict\": {\"numbers\": [46], \"positions\": [[-1.6927811771902953e-17, -1.2503517079340123e-16, -7.690125956122276e-17]], \"cell\": [[-2.451382079594262e-16, 1.9393703009539969, 1.9393703009539975], [1.939370300953997, 2.8937020560458515e-17, 1.9393703009539973], [1.9393703009539969, 1.9393703009539969, 2.7783509637994643e-16]], \"pbc\": [true, true, true]}, \"calculator_str\": \"emt\"}'}]\n",
      "\n",
      "\u001B[0m\u001B[36;1m\u001B[1;3m179.20795176571716\u001B[0m\u001B[32;1m\u001B[1;3m\n",
      "Invoking: `get_atom_dict_bulk_structure` with `{'chemical_symbol': 'Rh'}`\n",
      "responded: [{'id': 'toolu_01NogAQ8aHYZMn9Gr59R1a4D', 'input': {}, 'name': 'get_atom_dict_bulk_structure', 'type': 'tool_use', 'index': 0, 'partial_json': '{\"chemical_symbol\": \"Rh\"}'}]\n",
      "\n",
      "\u001B[0m\u001B[33;1m\u001B[1;3mnumbers=[45] positions=[[0.0, 0.0, 0.0]] cell=[[0.0, 1.9, 1.9], [1.9, 0.0, 1.9], [1.9, 1.9, 0.0]] pbc=[True, True, True]\u001B[0m\u001B[32;1m\u001B[1;3m\n",
      "Invoking: `get_atom_dict_equilibrated_structure` with `{'atom_dict': {'numbers': [45], 'positions': [[0.0, 0.0, 0.0]], 'cell': [[0.0, 1.9, 1.9], [1.9, 0.0, 1.9], [1.9, 1.9, 0.0]], 'pbc': [True, True, True]}, 'calculator_str': 'emt'}`\n",
      "responded: [{'id': 'toolu_019s65ryZK38VAk2TzvPudX4', 'input': {}, 'name': 'get_atom_dict_equilibrated_structure', 'type': 'tool_use', 'index': 0, 'partial_json': '{\"atom_dict\": {\"numbers\": [45], \"positions\": [[0.0, 0.0, 0.0]], \"cell\": [[0.0, 1.9, 1.9], [1.9, 0.0, 1.9], [1.9, 1.9, 0.0]], \"pbc\": [true, true, true]}, \"calculator_str\": \"emt\"}'}]\n",
      "\n",
      "\u001B[0m\u001B[38;5;200m\u001B[1;3mAn exception occurred: {}\u001B[0m"
     ]
    },
    {
     "name": "stderr",
     "output_type": "stream",
     "text": [
      "Stopping agent prematurely due to triggering stop condition\n"
     ]
    },
    {
     "name": "stdout",
     "output_type": "stream",
     "text": [
      "\u001B[32;1m\u001B[1;3m\n",
      "Invoking: `get_atom_dict_bulk_structure` with `{'chemical_symbol': 'Ir'}`\n",
      "responded: [{'text': \"\\n\\nI apologize for the error. It seems that the EMT calculator doesn't have parameters for rhodium (Rh). Let's skip rhodium and move on to iridium (Ir).\", 'type': 'text', 'index': 0}, {'id': 'toolu_01CjHj3icBnVDpTuqSurEy4x', 'input': {}, 'name': 'get_atom_dict_bulk_structure', 'type': 'tool_use', 'index': 1, 'partial_json': '{\"chemical_symbol\": \"Ir\"}'}]\n",
      "\n",
      "\u001B[0m\u001B[33;1m\u001B[1;3mnumbers=[77] positions=[[0.0, 0.0, 0.0]] cell=[[0.0, 1.92, 1.92], [1.92, 0.0, 1.92], [1.92, 1.92, 0.0]] pbc=[True, True, True]\u001B[0m\u001B[32;1m\u001B[1;3m\u001B[0m\n",
      "\n",
      "\u001B[1m> Finished chain.\u001B[0m\n"
     ]
    },
    {
     "data": {
      "text/markdown": [
       "Agent stopped due to max iterations."
      ],
      "text/plain": [
       "<IPython.core.display.Markdown object>"
      ]
     },
     "execution_count": 5,
     "metadata": {},
     "output_type": "execute_result"
    }
   ],
   "source": [
    "%%chat\n",
    "Let's take EMT then"
   ]
  },
  {
   "cell_type": "markdown",
   "id": "6aab7bc7-026a-412b-be3c-89391f07cfd3",
   "metadata": {},
   "source": [
    "The results are summarized in a short list. This demonstration highlights that `LangSim` can be used without prior technical experience in calculating material properties. From students to teachers and professors, it is a handy tool for everybody who wants to have quick access to material properties computed with one of the standard methods like [EMT](https://wiki.fysik.dtu.dk/ase/ase/calculators/emt.html). Obviously, the [MACE](https://mace-docs.readthedocs.io) method is more accurate than the [EMT](https://wiki.fysik.dtu.dk/ase/ase/calculators/emt.html) method, but also computationally more expensive. \n",
    "\n",
    "Still, to further highlight the real-life application of a tool like `LangSim` the next step after the completion of these calculations is the comparison to an experimental reference. For this purpose, the `get_experimental_elastic_property_wikipedia()` function is implemented which downloads the experimental values for the elastic properties from the wikipedia site for [elastic properties](https://en.wikipedia.org/wiki/Elastic_properties_of_the_elements_(data_page))."
   ]
  },
  {
   "cell_type": "code",
   "execution_count": 6,
   "id": "bfae3bb2-6ad1-4e1f-bab4-b1c51fc7044a",
   "metadata": {},
   "outputs": [
    {
     "name": "stdout",
     "output_type": "stream",
     "text": [
      "\n",
      "\n",
      "\u001B[1m> Entering new AgentExecutor chain...\u001B[0m\n",
      "\u001B[32;1m\u001B[1;3m\n",
      "Invoking: `get_atom_dict_bulk_structure` with `{'chemical_symbol': 'Au'}`\n",
      "responded: [{'text': \"Certainly! I'll calculate the bulk modulus for the noble metals using the EMT (Effective Medium Theory) method as you've requested. Then, we'll compare these results to experimental values. Let's start with the calculations for gold (Au), silver (Ag), platinum (Pt), palladium (Pd), copper (Cu), and iridium (Ir). \\n\\nLet's begin with the calculations:\", 'type': 'text', 'index': 0}, {'id': 'toolu_01Xa7Td1GhBnm4iFmXE4KKs9', 'input': {}, 'name': 'get_atom_dict_bulk_structure', 'type': 'tool_use', 'index': 1, 'partial_json': '{\"chemical_symbol\": \"Au\"}'}]\n",
      "\n",
      "\u001B[0m\u001B[33;1m\u001B[1;3mnumbers=[79] positions=[[0.0, 0.0, 0.0]] cell=[[0.0, 2.04, 2.04], [2.04, 0.0, 2.04], [2.04, 2.04, 0.0]] pbc=[True, True, True]\u001B[0m\u001B[32;1m\u001B[1;3m\n",
      "Invoking: `get_bulk_modulus` with `{'atom_dict': {'numbers': [79], 'positions': [[0.0, 0.0, 0.0]], 'cell': [[0.0, 2.04, 2.04], [2.04, 0.0, 2.04], [2.04, 2.04, 0.0]], 'pbc': [True, True, True]}, 'calculator_str': 'emt'}`\n",
      "responded: [{'text': \"\\n\\nNow that we have the bulk structure for gold, let's calculate its bulk modulus:\", 'type': 'text', 'index': 0}, {'id': 'toolu_0158ZDyvXUJ1HDrjGtrhn5YL', 'input': {}, 'name': 'get_bulk_modulus', 'type': 'tool_use', 'index': 1, 'partial_json': '{\"atom_dict\": {\"numbers\": [79], \"positions\": [[0.0, 0.0, 0.0]], \"cell\": [[0.0, 2.04, 2.04], [2.04, 0.0, 2.04], [2.04, 2.04, 0.0]], \"pbc\": [true, true, true]}, \"calculator_str\": \"emt\"}'}]\n",
      "\n",
      "\u001B[0m\u001B[36;1m\u001B[1;3m173.84249328565886\u001B[0m\u001B[32;1m\u001B[1;3m\n",
      "Invoking: `get_atom_dict_bulk_structure` with `{'chemical_symbol': 'Ag'}`\n",
      "responded: [{'text': \"\\n\\nThe calculated bulk modulus for gold (Au) using EMT is approximately 173.84 GPa.\\n\\nNow, let's repeat this process for the other noble metals:\", 'type': 'text', 'index': 0}, {'id': 'toolu_01RGKXnHKrrNPEo1utQsidX6', 'input': {}, 'name': 'get_atom_dict_bulk_structure', 'type': 'tool_use', 'index': 1, 'partial_json': '{\"chemical_symbol\": \"Ag\"}'}]\n",
      "\n",
      "\u001B[0m\u001B[33;1m\u001B[1;3mnumbers=[47] positions=[[0.0, 0.0, 0.0]] cell=[[0.0, 2.045, 2.045], [2.045, 0.0, 2.045], [2.045, 2.045, 0.0]] pbc=[True, True, True]\u001B[0m\u001B[32;1m\u001B[1;3m\n",
      "Invoking: `get_bulk_modulus` with `{'atom_dict': {'numbers': [47], 'positions': [[0.0, 0.0, 0.0]], 'cell': [[0.0, 2.045, 2.045], [2.045, 0.0, 2.045], [2.045, 2.045, 0.0]], 'pbc': [True, True, True]}, 'calculator_str': 'emt'}`\n",
      "responded: [{'id': 'toolu_016QSFTz8QzQC6RfjfWfseWt', 'input': {}, 'name': 'get_bulk_modulus', 'type': 'tool_use', 'index': 0, 'partial_json': '{\"atom_dict\": {\"numbers\": [47], \"positions\": [[0.0, 0.0, 0.0]], \"cell\": [[0.0, 2.045, 2.045], [2.045, 0.0, 2.045], [2.045, 2.045, 0.0]], \"pbc\": [true, true, true]}, \"calculator_str\": \"emt\"}'}]\n",
      "\n",
      "\u001B[0m\u001B[36;1m\u001B[1;3m100.1601184287953\u001B[0m\u001B[32;1m\u001B[1;3m\n",
      "Invoking: `get_atom_dict_bulk_structure` with `{'chemical_symbol': 'Pt'}`\n",
      "responded: [{'id': 'toolu_0117HVu9RSpUFL9aigQ7sPYS', 'input': {}, 'name': 'get_atom_dict_bulk_structure', 'type': 'tool_use', 'index': 0, 'partial_json': '{\"chemical_symbol\": \"Pt\"}'}]\n",
      "\n",
      "\u001B[0m\u001B[33;1m\u001B[1;3mnumbers=[78] positions=[[0.0, 0.0, 0.0]] cell=[[0.0, 1.96, 1.96], [1.96, 0.0, 1.96], [1.96, 1.96, 0.0]] pbc=[True, True, True]\u001B[0m\u001B[32;1m\u001B[1;3m\n",
      "Invoking: `get_bulk_modulus` with `{'atom_dict': {'numbers': [78], 'positions': [[0.0, 0.0, 0.0]], 'cell': [[0.0, 1.96, 1.96], [1.96, 0.0, 1.96], [1.96, 1.96, 0.0]], 'pbc': [True, True, True]}, 'calculator_str': 'emt'}`\n",
      "responded: [{'id': 'toolu_011uYUfGxXMg3BnsiXFVuQ7L', 'input': {}, 'name': 'get_bulk_modulus', 'type': 'tool_use', 'index': 0, 'partial_json': '{\"atom_dict\": {\"numbers\": [78], \"positions\": [[0.0, 0.0, 0.0]], \"cell\": [[0.0, 1.96, 1.96], [1.96, 0.0, 1.96], [1.96, 1.96, 0.0]], \"pbc\": [true, true, true]}, \"calculator_str\": \"emt\"}'}]\n",
      "\n",
      "\u001B[0m\u001B[36;1m\u001B[1;3m278.296219466303\u001B[0m\u001B[32;1m\u001B[1;3m\n",
      "Invoking: `get_atom_dict_bulk_structure` with `{'chemical_symbol': 'Pd'}`\n",
      "responded: [{'id': 'toolu_01SB7ycqtfzN1PZUYAS75nW1', 'input': {}, 'name': 'get_atom_dict_bulk_structure', 'type': 'tool_use', 'index': 0, 'partial_json': '{\"chemical_symbol\": \"Pd\"}'}]\n",
      "\n",
      "\u001B[0m\u001B[33;1m\u001B[1;3mnumbers=[46] positions=[[0.0, 0.0, 0.0]] cell=[[0.0, 1.945, 1.945], [1.945, 0.0, 1.945], [1.945, 1.945, 0.0]] pbc=[True, True, True]\u001B[0m\u001B[32;1m\u001B[1;3m\n",
      "Invoking: `get_bulk_modulus` with `{'atom_dict': {'numbers': [46], 'positions': [[0.0, 0.0, 0.0]], 'cell': [[0.0, 1.945, 1.945], [1.945, 0.0, 1.945], [1.945, 1.945, 0.0]], 'pbc': [True, True, True]}, 'calculator_str': 'emt'}`\n",
      "responded: [{'id': 'toolu_014anyQJeJSbzVpEkARPMyYT', 'input': {}, 'name': 'get_bulk_modulus', 'type': 'tool_use', 'index': 0, 'partial_json': '{\"atom_dict\": {\"numbers\": [46], \"positions\": [[0.0, 0.0, 0.0]], \"cell\": [[0.0, 1.945, 1.945], [1.945, 0.0, 1.945], [1.945, 1.945, 0.0]], \"pbc\": [true, true, true]}, \"calculator_str\": \"emt\"}'}]\n",
      "\n",
      "\u001B[0m\u001B[36;1m\u001B[1;3m179.24432817947203\u001B[0m\u001B[32;1m\u001B[1;3m\n",
      "Invoking: `get_atom_dict_bulk_structure` with `{'chemical_symbol': 'Cu'}`\n",
      "responded: [{'id': 'toolu_01Da3sTehBt7hSKHrQBnoBkr', 'input': {}, 'name': 'get_atom_dict_bulk_structure', 'type': 'tool_use', 'index': 0, 'partial_json': '{\"chemical_symbol\": \"Cu\"}'}]\n",
      "\n",
      "\u001B[0m\u001B[33;1m\u001B[1;3mnumbers=[29] positions=[[0.0, 0.0, 0.0]] cell=[[0.0, 1.805, 1.805], [1.805, 0.0, 1.805], [1.805, 1.805, 0.0]] pbc=[True, True, True]\u001B[0m\u001B[32;1m\u001B[1;3m\n",
      "Invoking: `get_bulk_modulus` with `{'atom_dict': {'numbers': [29], 'positions': [[0.0, 0.0, 0.0]], 'cell': [[0.0, 1.805, 1.805], [1.805, 0.0, 1.805], [1.805, 1.805, 0.0]], 'pbc': [True, True, True]}, 'calculator_str': 'emt'}`\n",
      "responded: [{'id': 'toolu_017st1WeGeimCrWdp8SoRKmv', 'input': {}, 'name': 'get_bulk_modulus', 'type': 'tool_use', 'index': 0, 'partial_json': '{\"atom_dict\": {\"numbers\": [29], \"positions\": [[0.0, 0.0, 0.0]], \"cell\": [[0.0, 1.805, 1.805], [1.805, 0.0, 1.805], [1.805, 1.805, 0.0]], \"pbc\": [true, true, true]}, \"calculator_str\": \"emt\"}'}]\n",
      "\n",
      "\u001B[0m\u001B[36;1m\u001B[1;3m134.48011624554215\u001B[0m\u001B[32;1m\u001B[1;3m\n",
      "Invoking: `get_experimental_elastic_property_wikipedia` with `{'chemical_symbol': 'Au'}`\n",
      "responded: [{'text': \"\\n\\nNow, let's compare these calculated values with experimental data:\", 'type': 'text', 'index': 0}, {'id': 'toolu_01VVVf344F93n8C9cxidWiz5', 'input': {}, 'name': 'get_experimental_elastic_property_wikipedia', 'type': 'tool_use', 'index': 1, 'partial_json': '{\"chemical_symbol\": \"Au\"}'}]\n",
      "\n",
      "\u001B[0m\u001B[33;1m\u001B[1;3m{'youngs_modulus': 78.0, 'poissons_ratio': 0.44, 'bulk_modulus': 180.0, 'shear_modulus': 27.0}\u001B[0m\u001B[32;1m\u001B[1;3m\n",
      "Invoking: `get_experimental_elastic_property_wikipedia` with `{'chemical_symbol': 'Ag'}`\n",
      "responded: [{'id': 'toolu_016hTX9eUKGQ6yCCa8Jvf2n3', 'input': {}, 'name': 'get_experimental_elastic_property_wikipedia', 'type': 'tool_use', 'index': 0, 'partial_json': '{\"chemical_symbol\": \"Ag\"}'}]\n",
      "\n",
      "\u001B[0m\u001B[33;1m\u001B[1;3m{'youngs_modulus': 83.0, 'poissons_ratio': 0.37, 'bulk_modulus': 100.0, 'shear_modulus': 30.0}\u001B[0m\u001B[32;1m\u001B[1;3m\n",
      "Invoking: `get_experimental_elastic_property_wikipedia` with `{'chemical_symbol': 'Pt'}`\n",
      "responded: [{'id': 'toolu_014gvyswXvWuxLYXiDoaJZC4', 'input': {}, 'name': 'get_experimental_elastic_property_wikipedia', 'type': 'tool_use', 'index': 0, 'partial_json': '{\"chemical_symbol\": \"Pt\"}'}]\n",
      "\n",
      "\u001B[0m\u001B[33;1m\u001B[1;3m{'youngs_modulus': 168.0, 'poissons_ratio': 0.38, 'bulk_modulus': 230.0, 'shear_modulus': 61.0}\u001B[0m\u001B[32;1m\u001B[1;3m\n",
      "Invoking: `get_experimental_elastic_property_wikipedia` with `{'chemical_symbol': 'Pd'}`\n",
      "responded: [{'id': 'toolu_016VnJRPHqK7nAmGnxB2dvmX', 'input': {}, 'name': 'get_experimental_elastic_property_wikipedia', 'type': 'tool_use', 'index': 0, 'partial_json': '{\"chemical_symbol\": \"Pd\"}'}]\n",
      "\n",
      "\u001B[0m\u001B[33;1m\u001B[1;3m{'youngs_modulus': 121.0, 'poissons_ratio': 0.39, 'bulk_modulus': 180.0, 'shear_modulus': 44.0}\u001B[0m\u001B[32;1m\u001B[1;3m\n",
      "Invoking: `get_experimental_elastic_property_wikipedia` with `{'chemical_symbol': 'Cu'}`\n",
      "responded: [{'id': 'toolu_01MEacCFNGgw5pkp2239HSH3', 'input': {}, 'name': 'get_experimental_elastic_property_wikipedia', 'type': 'tool_use', 'index': 0, 'partial_json': '{\"chemical_symbol\": \"Cu\"}'}]\n",
      "\n",
      "\u001B[0m"
     ]
    },
    {
     "name": "stderr",
     "output_type": "stream",
     "text": [
      "Stopping agent prematurely due to triggering stop condition\n"
     ]
    },
    {
     "name": "stdout",
     "output_type": "stream",
     "text": [
      "\u001B[33;1m\u001B[1;3m{'youngs_modulus': 130.0, 'poissons_ratio': 0.34, 'bulk_modulus': 140.0, 'shear_modulus': 48.0}\u001B[0m\u001B[32;1m\u001B[1;3m\u001B[0m\n",
      "\n",
      "\u001B[1m> Finished chain.\u001B[0m\n"
     ]
    },
    {
     "data": {
      "text/markdown": [
       "Agent stopped due to max iterations."
      ],
      "text/plain": [
       "<IPython.core.display.Markdown object>"
      ]
     },
     "execution_count": 6,
     "metadata": {},
     "output_type": "execute_result"
    }
   ],
   "source": [
    "%%chat\n",
    "How does this compare to experiment?"
   ]
  },
  {
   "cell_type": "markdown",
   "id": "9f9cb1aa-cf38-49be-8654-7b77cc6ef207",
   "metadata": {},
   "source": [
    "Finally, as the last step the user tasks the LLM to compare the theoretical predictions and the experimental results to give an indication of the trustworthiness of these calculations. Given the optimization for computational efficiency, the result for Platinum with an error of over 20% is insufficient for any real life application. Still, this can be addressed by switching to the [MACE](https://mace-docs.readthedocs.io) model. "
   ]
  },
  {
   "cell_type": "code",
   "execution_count": 7,
   "id": "2a6c69a8-73bb-40af-a7f1-500d97f6279b",
   "metadata": {},
   "outputs": [
    {
     "name": "stdout",
     "output_type": "stream",
     "text": [
      "\n",
      "\n",
      "\u001B[1m> Entering new AgentExecutor chain...\u001B[0m\n",
      "\u001B[32;1m\u001B[1;3m\n",
      "Invoking: `get_atom_dict_bulk_structure` with `{'chemical_symbol': 'Au'}`\n",
      "responded: [{'text': \"Certainly! I'll calculate the bulk modulus for the noble metals using the EMT (Effective Medium Theory) method and then compare it to experimental values. After that, I'll show you the deviation in percent. Let's go through this step by step.\\n\\nFirst, let's calculate the bulk modulus for each noble metal using EMT. Then, we'll fetch the experimental values and calculate the deviation.\\n\\nLet's start with gold (Au), silver (Ag), copper (Cu), platinum (Pt), and palladium (Pd). We'll do this one by one:\", 'type': 'text', 'index': 0}, {'id': 'toolu_01DBmt6HcKaVxRAf2cjG7LUK', 'input': {}, 'name': 'get_atom_dict_bulk_structure', 'type': 'tool_use', 'index': 1, 'partial_json': '{\"chemical_symbol\": \"Au\"}'}]\n",
      "\n",
      "\u001B[0m\u001B[33;1m\u001B[1;3mnumbers=[79] positions=[[0.0, 0.0, 0.0]] cell=[[0.0, 2.04, 2.04], [2.04, 0.0, 2.04], [2.04, 2.04, 0.0]] pbc=[True, True, True]\u001B[0m\u001B[32;1m\u001B[1;3m\n",
      "Invoking: `get_bulk_modulus` with `{'atom_dict': {'numbers': [79], 'positions': [[0.0, 0.0, 0.0]], 'cell': [[0.0, 2.04, 2.04], [2.04, 0.0, 2.04], [2.04, 2.04, 0.0]], 'pbc': [True, True, True]}, 'calculator_str': 'emt'}`\n",
      "responded: [{'text': \"\\n\\nNow that we have the bulk structure for gold, let's calculate its bulk modulus:\", 'type': 'text', 'index': 0}, {'id': 'toolu_01VtFGEKMWWWBqxYNnzgKjaa', 'input': {}, 'name': 'get_bulk_modulus', 'type': 'tool_use', 'index': 1, 'partial_json': '{\"atom_dict\": {\"numbers\": [79], \"positions\": [[0.0, 0.0, 0.0]], \"cell\": [[0.0, 2.04, 2.04], [2.04, 0.0, 2.04], [2.04, 2.04, 0.0]], \"pbc\": [true, true, true]}, \"calculator_str\": \"emt\"}'}]\n",
      "\n",
      "\u001B[0m\u001B[36;1m\u001B[1;3m173.84249328565886\u001B[0m\u001B[32;1m\u001B[1;3m\n",
      "Invoking: `get_atom_dict_bulk_structure` with `{'chemical_symbol': 'Ag'}`\n",
      "responded: [{'text': \"\\n\\nGreat, we have the calculated bulk modulus for gold using EMT. Let's do the same for the other noble metals:\", 'type': 'text', 'index': 0}, {'id': 'toolu_01Jj29VPfeaMeVERUyyR7jYx', 'input': {}, 'name': 'get_atom_dict_bulk_structure', 'type': 'tool_use', 'index': 1, 'partial_json': '{\"chemical_symbol\": \"Ag\"}'}]\n",
      "\n",
      "\u001B[0m\u001B[33;1m\u001B[1;3mnumbers=[47] positions=[[0.0, 0.0, 0.0]] cell=[[0.0, 2.045, 2.045], [2.045, 0.0, 2.045], [2.045, 2.045, 0.0]] pbc=[True, True, True]\u001B[0m\u001B[32;1m\u001B[1;3m\n",
      "Invoking: `get_bulk_modulus` with `{'atom_dict': {'numbers': [47], 'positions': [[0.0, 0.0, 0.0]], 'cell': [[0.0, 2.045, 2.045], [2.045, 0.0, 2.045], [2.045, 2.045, 0.0]], 'pbc': [True, True, True]}, 'calculator_str': 'emt'}`\n",
      "responded: [{'id': 'toolu_01Cd7piaoBh2HPF9eBP9jGus', 'input': {}, 'name': 'get_bulk_modulus', 'type': 'tool_use', 'index': 0, 'partial_json': '{\"atom_dict\": {\"numbers\": [47], \"positions\": [[0.0, 0.0, 0.0]], \"cell\": [[0.0, 2.045, 2.045], [2.045, 0.0, 2.045], [2.045, 2.045, 0.0]], \"pbc\": [true, true, true]}, \"calculator_str\": \"emt\"}'}]\n",
      "\n",
      "\u001B[0m\u001B[36;1m\u001B[1;3m100.1601184287953\u001B[0m\u001B[32;1m\u001B[1;3m\n",
      "Invoking: `get_atom_dict_bulk_structure` with `{'chemical_symbol': 'Cu'}`\n",
      "responded: [{'id': 'toolu_01Bfb7yN9J1EXHFSpMGssfWj', 'input': {}, 'name': 'get_atom_dict_bulk_structure', 'type': 'tool_use', 'index': 0, 'partial_json': '{\"chemical_symbol\": \"Cu\"}'}]\n",
      "\n",
      "\u001B[0m\u001B[33;1m\u001B[1;3mnumbers=[29] positions=[[0.0, 0.0, 0.0]] cell=[[0.0, 1.805, 1.805], [1.805, 0.0, 1.805], [1.805, 1.805, 0.0]] pbc=[True, True, True]\u001B[0m\u001B[32;1m\u001B[1;3m\n",
      "Invoking: `get_bulk_modulus` with `{'atom_dict': {'numbers': [29], 'positions': [[0.0, 0.0, 0.0]], 'cell': [[0.0, 1.805, 1.805], [1.805, 0.0, 1.805], [1.805, 1.805, 0.0]], 'pbc': [True, True, True]}, 'calculator_str': 'emt'}`\n",
      "responded: [{'id': 'toolu_01GjJzbKhRdC7f7vvjZMG56x', 'input': {}, 'name': 'get_bulk_modulus', 'type': 'tool_use', 'index': 0, 'partial_json': '{\"atom_dict\": {\"numbers\": [29], \"positions\": [[0.0, 0.0, 0.0]], \"cell\": [[0.0, 1.805, 1.805], [1.805, 0.0, 1.805], [1.805, 1.805, 0.0]], \"pbc\": [true, true, true]}, \"calculator_str\": \"emt\"}'}]\n",
      "\n",
      "\u001B[0m\u001B[36;1m\u001B[1;3m134.48011624554215\u001B[0m\u001B[32;1m\u001B[1;3m\n",
      "Invoking: `get_atom_dict_bulk_structure` with `{'chemical_symbol': 'Pt'}`\n",
      "responded: [{'id': 'toolu_01YKLLjGYvLgeLKH2QGPmiXK', 'input': {}, 'name': 'get_atom_dict_bulk_structure', 'type': 'tool_use', 'index': 0, 'partial_json': '{\"chemical_symbol\": \"Pt\"}'}]\n",
      "\n",
      "\u001B[0m\u001B[33;1m\u001B[1;3mnumbers=[78] positions=[[0.0, 0.0, 0.0]] cell=[[0.0, 1.96, 1.96], [1.96, 0.0, 1.96], [1.96, 1.96, 0.0]] pbc=[True, True, True]\u001B[0m\u001B[32;1m\u001B[1;3m\n",
      "Invoking: `get_bulk_modulus` with `{'atom_dict': {'numbers': [78], 'positions': [[0.0, 0.0, 0.0]], 'cell': [[0.0, 1.96, 1.96], [1.96, 0.0, 1.96], [1.96, 1.96, 0.0]], 'pbc': [True, True, True]}, 'calculator_str': 'emt'}`\n",
      "responded: [{'id': 'toolu_014w76fEpgzKJSGWH66SLuUy', 'input': {}, 'name': 'get_bulk_modulus', 'type': 'tool_use', 'index': 0, 'partial_json': '{\"atom_dict\": {\"numbers\": [78], \"positions\": [[0.0, 0.0, 0.0]], \"cell\": [[0.0, 1.96, 1.96], [1.96, 0.0, 1.96], [1.96, 1.96, 0.0]], \"pbc\": [true, true, true]}, \"calculator_str\": \"emt\"}'}]\n",
      "\n",
      "\u001B[0m\u001B[36;1m\u001B[1;3m278.296219466303\u001B[0m\u001B[32;1m\u001B[1;3m\n",
      "Invoking: `get_atom_dict_bulk_structure` with `{'chemical_symbol': 'Pd'}`\n",
      "responded: [{'id': 'toolu_01T7jyw2zwZz4TPDyaNDUgRt', 'input': {}, 'name': 'get_atom_dict_bulk_structure', 'type': 'tool_use', 'index': 0, 'partial_json': '{\"chemical_symbol\": \"Pd\"}'}]\n",
      "\n",
      "\u001B[0m\u001B[33;1m\u001B[1;3mnumbers=[46] positions=[[0.0, 0.0, 0.0]] cell=[[0.0, 1.945, 1.945], [1.945, 0.0, 1.945], [1.945, 1.945, 0.0]] pbc=[True, True, True]\u001B[0m\u001B[32;1m\u001B[1;3m\n",
      "Invoking: `get_bulk_modulus` with `{'atom_dict': {'numbers': [46], 'positions': [[0.0, 0.0, 0.0]], 'cell': [[0.0, 1.945, 1.945], [1.945, 0.0, 1.945], [1.945, 1.945, 0.0]], 'pbc': [True, True, True]}, 'calculator_str': 'emt'}`\n",
      "responded: [{'id': 'toolu_015KxgZAkvoScYbpNwkijzq6', 'input': {}, 'name': 'get_bulk_modulus', 'type': 'tool_use', 'index': 0, 'partial_json': '{\"atom_dict\": {\"numbers\": [46], \"positions\": [[0.0, 0.0, 0.0]], \"cell\": [[0.0, 1.945, 1.945], [1.945, 0.0, 1.945], [1.945, 1.945, 0.0]], \"pbc\": [true, true, true]}, \"calculator_str\": \"emt\"}'}]\n",
      "\n",
      "\u001B[0m\u001B[36;1m\u001B[1;3m179.24432817947203\u001B[0m\u001B[32;1m\u001B[1;3m\n",
      "Invoking: `get_experimental_elastic_property_wikipedia` with `{'chemical_symbol': 'Au'}`\n",
      "responded: [{'text': \"\\n\\nNow that we have the calculated values, let's fetch the experimental values for comparison:\", 'type': 'text', 'index': 0}, {'id': 'toolu_014Vy9kzBSAESKGiLQTQ6qbp', 'input': {}, 'name': 'get_experimental_elastic_property_wikipedia', 'type': 'tool_use', 'index': 1, 'partial_json': '{\"chemical_symbol\": \"Au\"}'}]\n",
      "\n",
      "\u001B[0m\u001B[33;1m\u001B[1;3m{'youngs_modulus': 78.0, 'poissons_ratio': 0.44, 'bulk_modulus': 180.0, 'shear_modulus': 27.0}\u001B[0m\u001B[32;1m\u001B[1;3m\n",
      "Invoking: `get_experimental_elastic_property_wikipedia` with `{'chemical_symbol': 'Ag'}`\n",
      "responded: [{'id': 'toolu_01DvPXNBzLede1ufX8bFswkV', 'input': {}, 'name': 'get_experimental_elastic_property_wikipedia', 'type': 'tool_use', 'index': 0, 'partial_json': '{\"chemical_symbol\": \"Ag\"}'}]\n",
      "\n",
      "\u001B[0m\u001B[33;1m\u001B[1;3m{'youngs_modulus': 83.0, 'poissons_ratio': 0.37, 'bulk_modulus': 100.0, 'shear_modulus': 30.0}\u001B[0m\u001B[32;1m\u001B[1;3m\n",
      "Invoking: `get_experimental_elastic_property_wikipedia` with `{'chemical_symbol': 'Cu'}`\n",
      "responded: [{'id': 'toolu_013Z68xM7RrHa1963srGfoPr', 'input': {}, 'name': 'get_experimental_elastic_property_wikipedia', 'type': 'tool_use', 'index': 0, 'partial_json': '{\"chemical_symbol\": \"Cu\"}'}]\n",
      "\n",
      "\u001B[0m\u001B[33;1m\u001B[1;3m{'youngs_modulus': 130.0, 'poissons_ratio': 0.34, 'bulk_modulus': 140.0, 'shear_modulus': 48.0}\u001B[0m\u001B[32;1m\u001B[1;3m\n",
      "Invoking: `get_experimental_elastic_property_wikipedia` with `{'chemical_symbol': 'Pt'}`\n",
      "responded: [{'id': 'toolu_01UgV48Ju7BFYcJeUCgzgzCE', 'input': {}, 'name': 'get_experimental_elastic_property_wikipedia', 'type': 'tool_use', 'index': 0, 'partial_json': '{\"chemical_symbol\": \"Pt\"}'}]\n",
      "\n",
      "\u001B[0m\u001B[33;1m\u001B[1;3m{'youngs_modulus': 168.0, 'poissons_ratio': 0.38, 'bulk_modulus': 230.0, 'shear_modulus': 61.0}\u001B[0m\u001B[32;1m\u001B[1;3m\n",
      "Invoking: `get_experimental_elastic_property_wikipedia` with `{'chemical_symbol': 'Pd'}`\n",
      "responded: [{'id': 'toolu_011Tr2F4H2EewvwooKHGAkty', 'input': {}, 'name': 'get_experimental_elastic_property_wikipedia', 'type': 'tool_use', 'index': 0, 'partial_json': '{\"chemical_symbol\": \"Pd\"}'}]\n",
      "\n",
      "\u001B[0m"
     ]
    },
    {
     "name": "stderr",
     "output_type": "stream",
     "text": [
      "Stopping agent prematurely due to triggering stop condition\n"
     ]
    },
    {
     "name": "stdout",
     "output_type": "stream",
     "text": [
      "\u001B[33;1m\u001B[1;3m{'youngs_modulus': 121.0, 'poissons_ratio': 0.39, 'bulk_modulus': 180.0, 'shear_modulus': 44.0}\u001B[0m\u001B[32;1m\u001B[1;3m\u001B[0m\n",
      "\n",
      "\u001B[1m> Finished chain.\u001B[0m\n"
     ]
    },
    {
     "data": {
      "text/markdown": [
       "Agent stopped due to max iterations."
      ],
      "text/plain": [
       "<IPython.core.display.Markdown object>"
      ]
     },
     "execution_count": 7,
     "metadata": {},
     "output_type": "execute_result"
    }
   ],
   "source": [
    "%%chat\n",
    "Can you show me the deviation in percent?"
   ]
  },
  {
   "cell_type": "markdown",
   "id": "a48a2446-186b-4b7b-b76d-6994301df696",
   "metadata": {},
   "source": [
    "## Summary\n",
    "The jury was convinced that this demonstration of the capabilities of `LangSim` highlights a future direction in the application of LLMs for materials and chemistry. So the `LangSim` team won the [first prize](https://medium.com/@blaiszik/llms-to-accelerate-discovery-in-materials-science-and-chemistry-refections-on-a-hackathon-b8364ca32242) sponsored by [RadicalAI](https://www.radical-ai.com). \n",
    "\n",
    "In comparison to the previous examples, the highlight of this presentation, besides hiding the technical complexity by developing a python module, was the capability of the LLM to repeat the workflow consisting of two calculations, the `get_equilibrium_lattice()` function and the `get_bulk_modulus()` function, over three elements without the need to define any additional functionality. "
   ]
  },
  {
   "cell_type": "code",
   "execution_count": null,
   "id": "dabd4ab1-f3df-4081-b95a-a3c091103fcc",
   "metadata": {},
   "outputs": [],
   "source": []
  }
 ],
 "metadata": {
  "kernelspec": {
   "display_name": "Python 3 (ipykernel)",
   "language": "python",
   "name": "python3"
  },
  "language_info": {
   "codemirror_mode": {
    "name": "ipython",
    "version": 3
   },
   "file_extension": ".py",
   "mimetype": "text/x-python",
   "name": "python",
   "nbconvert_exporter": "python",
   "pygments_lexer": "ipython3",
   "version": "3.12.5"
  }
 },
 "nbformat": 4,
 "nbformat_minor": 5
}
