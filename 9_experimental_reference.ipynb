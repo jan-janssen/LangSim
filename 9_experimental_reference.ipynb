{
 "cells": [
  {
   "cell_type": "code",
   "execution_count": 1,
   "id": "db5f8988-a11f-4f4d-8a8c-74f419ddcd80",
   "metadata": {},
   "outputs": [],
   "source": [
    "%reload_ext llm_compmat"
   ]
  },
  {
   "cell_type": "code",
   "execution_count": 2,
   "id": "a743c1f8-63a7-49a7-b77a-4cdf85d49b84",
   "metadata": {},
   "outputs": [
    {
     "name": "stdin",
     "output_type": "stream",
     "text": [
      "Enter your API key ········\n"
     ]
    }
   ],
   "source": [
    "import os, getpass\n",
    "os.environ['OPENAI_API_KEY'] = getpass.getpass(\"Enter your API key\")"
   ]
  },
  {
   "cell_type": "code",
   "execution_count": 3,
   "id": "d96cabcc-a36b-4d40-9999-808ecdc746dc",
   "metadata": {},
   "outputs": [
    {
     "name": "stdout",
     "output_type": "stream",
     "text": [
      "\n",
      "\n",
      "\u001b[1m> Entering new AgentExecutor chain...\u001b[0m\n",
      "\u001b[32;1m\u001b[1;3m\n",
      "Invoking: `get_experimental_elastic_property_wikipedia` with `{'chemical_symbol': 'Au', 'property': 'bulk_modulus'}`\n",
      "\n",
      "\n",
      "\u001b[0m\u001b[33;1m\u001b[1;3m180 GPa\u001b[0m\u001b[32;1m\u001b[1;3m\n",
      "Invoking: `get_equilibrium_lattice` with `{'chemical_symbol': 'Au', 'calculator_str': 'emt'}`\n",
      "\n",
      "\n",
      "\u001b[0m       Step     Time          Energy         fmax\n",
      "*Force-consistent energies used in optimization.\n",
      "LBFGS:    0 19:44:57        0.002606*       0.3089\n",
      "LBFGS:    1 19:44:57        0.000032*       0.0778\n",
      "LBFGS:    2 19:44:57       -0.000135*       0.0031\n",
      "LBFGS:    3 19:44:57       -0.000135*       0.0000\n",
      "LBFGS:    4 19:44:57       -0.000135*       0.0000\n",
      "\u001b[33;1m\u001b[1;3mnumbers=[79] positions=[[0.0, 0.0, 0.0]] cell=[[4.713281061846748e-17, 2.0280828097056185, 2.0280828097056203], [2.0280828097056185, 9.364821446984258e-17, 2.0280828097056203], [2.0280828097056185, 2.0280828097056185, 3.6556292469835954e-18]] pbc=[True, True, True]\u001b[0m\u001b[32;1m\u001b[1;3m\n",
      "Invoking: `get_bulk_modulus` with `{'atom_dict': {'numbers': [79], 'positions': [[0.0, 0.0, 0.0]], 'cell': [[4.713281061846748e-17, 2.0280828097056185, 2.0280828097056203], [2.0280828097056185, 9.364821446984258e-17, 2.0280828097056203], [2.0280828097056185, 2.0280828097056185, 3.6556292469835954e-18]], 'pbc': [True, True, True]}, 'calculator_str': 'emt'}`\n",
      "\n",
      "\n",
      "\u001b[0m\u001b[36;1m\u001b[1;3m173.864209386327\u001b[0m\u001b[32;1m\u001b[1;3mThe calculated bulk modulus of gold using the EMT model is approximately 173.86 GPa. \n",
      "\n",
      "The experimental value for the bulk modulus of gold is around 180 GPa. \n",
      "\n",
      "The source for the experimental value is from Wikipedia, specifically from the page on elastic properties of elements: [Wikipedia - Elastic Properties of Elements](https://en.wikipedia.org/wiki/Elastic_properties_of_the_elements_(data_page)) sourced from webelements.com.\u001b[0m\n",
      "\n",
      "\u001b[1m> Finished chain.\u001b[0m\n"
     ]
    },
    {
     "data": {
      "text/markdown": [
       "The calculated bulk modulus of gold using the EMT model is approximately 173.86 GPa. \n",
       "\n",
       "The experimental value for the bulk modulus of gold is around 180 GPa. \n",
       "\n",
       "The source for the experimental value is from Wikipedia, specifically from the page on elastic properties of elements: [Wikipedia - Elastic Properties of Elements](https://en.wikipedia.org/wiki/Elastic_properties_of_the_elements_(data_page)) sourced from webelements.com."
      ],
      "text/plain": [
       "<IPython.core.display.Markdown object>"
      ]
     },
     "execution_count": 3,
     "metadata": {},
     "output_type": "execute_result"
    }
   ],
   "source": [
    "%%chat \n",
    "I  want to calculate the bulk modulus of gold.\n",
    "Could you compare it to an experimental value from literature (Please name the source + link)?"
   ]
  },
  {
   "cell_type": "code",
   "execution_count": null,
   "id": "3caea2fc-a3de-400c-91cb-ae53c616ece1",
   "metadata": {},
   "outputs": [],
   "source": []
  }
 ],
 "metadata": {
  "kernelspec": {
   "display_name": "Python [conda env:matama] *",
   "language": "python",
   "name": "conda-env-matama-py"
  },
  "language_info": {
   "codemirror_mode": {
    "name": "ipython",
    "version": 3
   },
   "file_extension": ".py",
   "mimetype": "text/x-python",
   "name": "python",
   "nbconvert_exporter": "python",
   "pygments_lexer": "ipython3",
   "version": "3.12.3"
  }
 },
 "nbformat": 4,
 "nbformat_minor": 5
}
