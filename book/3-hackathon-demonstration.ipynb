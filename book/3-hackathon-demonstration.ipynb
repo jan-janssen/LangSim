{
 "cells": [
  {
   "cell_type": "markdown",
   "id": "d7616c03-7a5b-463a-b2db-0e0501619993",
   "metadata": {},
   "source": [
    "# Hackathon Demonstration\n",
    "Beyond the two previous examples, which closely followed the Langchain [custom agent](https://python.langchain.com/docs/how_to/custom_tools/) tutorial, the goal for the final presentation was to highlight the use of `LangSim` in production. For this purpose, the functionality was transferred from the Jupyter notebook to a Python module. As a first step the `LangSim` module is loaded using the `%reload_ext` jupyter magic command:"
   ]
  },
  {
   "cell_type": "code",
   "execution_count": 1,
   "id": "db5f8988-a11f-4f4d-8a8c-74f419ddcd80",
   "metadata": {},
   "outputs": [],
   "source": [
    "%reload_ext langsim"
   ]
  },
  {
   "cell_type": "markdown",
   "id": "01688907-23ea-42fd-ab8c-0d4f6a918465",
   "metadata": {},
   "source": [
    "Then the [Open AI](http://openai.com) API key is set to the `OPENAI_API_KEY` environment variable so it can be used by `LangSim` internally:"
   ]
  },
  {
   "cell_type": "code",
   "execution_count": 2,
   "id": "a743c1f8-63a7-49a7-b77a-4cdf85d49b84",
   "metadata": {},
   "outputs": [
    {
     "name": "stdin",
     "output_type": "stream",
     "text": [
      "Enter your API key ········\n"
     ]
    }
   ],
   "source": [
    "import os, getpass\n",
    "os.environ['OPENAI_API_KEY'] = getpass.getpass(\"Enter your API key\")"
   ]
  },
  {
   "cell_type": "markdown",
   "id": "aa95152b-aa79-4a9b-900d-28a0b3b067fe",
   "metadata": {},
   "source": [
    "## Dialog\n",
    "From this point on the user can chat with the `LangSim` interface using the `chat` jupyter magic. As a first challenge the user communicates their interest to find a material with a bulk modulus in the range of 200 GPa; following with a clarification of this statement by asking the LLM to calculate the bulk modulus for the noble metals. In contrast to the previous example, the LLM is tasked with repeating the same calculation multiple times and then identify the chemical element, which most closely matches the targeted bulk modulus of 200GPa. None of the required logic is implemented explicitly, rather the LLM only has access to a `get_equilibrium_lattice()` function to calculate the equilibrium crystal structure and a `get_bulk_modulus()` function, which calculates the bulk modulus for a given equilibrium crystal structure."
   ]
  },
  {
   "cell_type": "code",
   "execution_count": 3,
   "id": "2b698ffd-3b16-4937-ae97-8e9f44a95bb7",
   "metadata": {},
   "outputs": [
    {
     "name": "stdout",
     "output_type": "stream",
     "text": [
      "\n",
      "\n",
      "\u001B[1m> Entering new AgentExecutor chain...\u001B[0m\n",
      "\u001B[32;1m\u001B[1;3mSure, I can help with that. The noble metals include gold (Au), silver (Ag), and platinum (Pt). Which model would you like to use for the calculations: EMT or MACE?\u001B[0m\n",
      "\n",
      "\u001B[1m> Finished chain.\u001B[0m\n"
     ]
    },
    {
     "data": {
      "text/markdown": [
       "Sure, I can help with that. The noble metals include gold (Au), silver (Ag), and platinum (Pt). Which model would you like to use for the calculations: EMT or MACE?"
      ],
      "text/plain": [
       "<IPython.core.display.Markdown object>"
      ]
     },
     "execution_count": 3,
     "metadata": {},
     "output_type": "execute_result"
    }
   ],
   "source": [
    "%%chat\n",
    "I am looking for a material with a bulk modulus in the range of 200 GPa.\n",
    "Can you compute the bulk modulus for the noble metals for me?"
   ]
  },
  {
   "cell_type": "markdown",
   "id": "837750e4-d51d-4ea9-bb7e-be3fd7b1f63c",
   "metadata": {},
   "source": "The LLM is instructed by the system prompt to clarify which simulation method it should use to calculate a given material property. At the time of the demonstration, two simulation methods were implemented, [EMT](https://wiki.fysik.dtu.dk/ase/ase/calculators/emt.html) and [MACE](https://mace-docs.readthedocs.io). As the user in this demonstration is not aware of the technical details of these simulation methods, he asks for clarification. This highlights how LLMs can use the context of the previous conversation to answer a given question:"
  },
  {
   "cell_type": "code",
   "execution_count": 4,
   "id": "d96cabcc-a36b-4d40-9999-808ecdc746dc",
   "metadata": {},
   "outputs": [
    {
     "name": "stdout",
     "output_type": "stream",
     "text": [
      "\n",
      "\n",
      "\u001B[1m> Entering new AgentExecutor chain...\u001B[0m\n",
      "\u001B[32;1m\u001B[1;3mCertainly! Here is a brief overview of the two models:\n",
      "\n",
      "1. **Effective Medium Theory (EMT)**:\n",
      "   - **Description**: EMT is a computationally efficient, analytical model that describes the macroscopic properties of composite materials.\n",
      "   - **Advantages**: It is relatively fast and can provide good approximations for certain types of materials.\n",
      "   - **Limitations**: It may not capture all the complexities of atomic interactions, especially for materials with complex bonding.\n",
      "\n",
      "2. **MACE (Machine Learning Force Field)**:\n",
      "   - **Description**: MACE is a machine learning force field for predicting many-body atomic interactions that covers the periodic table.\n",
      "   - **Advantages**: It leverages machine learning to provide highly accurate predictions of atomic interactions and material properties.\n",
      "   - **Limitations**: It can be computationally more intensive compared to EMT.\n",
      "\n",
      "Please choose one of these models for the calculations.\u001B[0m\n",
      "\n",
      "\u001B[1m> Finished chain.\u001B[0m\n"
     ]
    },
    {
     "data": {
      "text/markdown": [
       "Certainly! Here is a brief overview of the two models:\n",
       "\n",
       "1. **Effective Medium Theory (EMT)**:\n",
       "   - **Description**: EMT is a computationally efficient, analytical model that describes the macroscopic properties of composite materials.\n",
       "   - **Advantages**: It is relatively fast and can provide good approximations for certain types of materials.\n",
       "   - **Limitations**: It may not capture all the complexities of atomic interactions, especially for materials with complex bonding.\n",
       "\n",
       "2. **MACE (Machine Learning Force Field)**:\n",
       "   - **Description**: MACE is a machine learning force field for predicting many-body atomic interactions that covers the periodic table.\n",
       "   - **Advantages**: It leverages machine learning to provide highly accurate predictions of atomic interactions and material properties.\n",
       "   - **Limitations**: It can be computationally more intensive compared to EMT.\n",
       "\n",
       "Please choose one of these models for the calculations."
      ],
      "text/plain": [
       "<IPython.core.display.Markdown object>"
      ]
     },
     "execution_count": 4,
     "metadata": {},
     "output_type": "execute_result"
    }
   ],
   "source": [
    "%%chat \n",
    "What are those methods?"
   ]
  },
  {
   "cell_type": "markdown",
   "id": "ba002cb9-b406-49dd-a716-c57904d48472",
   "metadata": {},
   "source": "Based on the explanation of the LLM, the user chooses the [EMT](https://wiki.fysik.dtu.dk/ase/ase/calculators/emt.html) method, primarily because it is computationally more efficient to calculate a large number of calculations in a short amount of time. The LLM then executes two calculations for each of the three noble metals silver (Ag), gold (Au) and platinum (Pt). These calculations are the calculation of the equilibrium structure `get_equilibrium_lattice()` which in addition to the chemical symbol now also takes the name of the chosen calculator as an input and the calculation of the bulk modulus `get_bulk_modulus()` which takes the optimized structure as `AtomsDict()` object as an input in addition to the chosen calculator as string. "
  },
  {
   "cell_type": "code",
   "execution_count": 5,
   "id": "3caea2fc-a3de-400c-91cb-ae53c616ece1",
   "metadata": {},
   "outputs": [
    {
     "name": "stdout",
     "output_type": "stream",
     "text": [
      "\n",
      "\n",
      "\u001B[1m> Entering new AgentExecutor chain...\u001B[0m\n",
      "\u001B[32;1m\u001B[1;3m\n",
      "Invoking: `get_atom_dict_bulk_structure` with `{'chemical_symbol': 'Au'}`\n",
      "\n",
      "\n",
      "\u001B[0m\u001B[33;1m\u001B[1;3mnumbers=[79] positions=[[0.0, 0.0, 0.0]] cell=[[0.0, 2.04, 2.04], [2.04, 0.0, 2.04], [2.04, 2.04, 0.0]] pbc=[True, True, True]\u001B[0m\u001B[32;1m\u001B[1;3m\n",
      "Invoking: `get_atom_dict_bulk_structure` with `{'chemical_symbol': 'Ag'}`\n",
      "\n",
      "\n",
      "\u001B[0m\u001B[33;1m\u001B[1;3mnumbers=[47] positions=[[0.0, 0.0, 0.0]] cell=[[0.0, 2.045, 2.045], [2.045, 0.0, 2.045], [2.045, 2.045, 0.0]] pbc=[True, True, True]\u001B[0m\u001B[32;1m\u001B[1;3m\n",
      "Invoking: `get_atom_dict_bulk_structure` with `{'chemical_symbol': 'Pt'}`\n",
      "\n",
      "\n",
      "\u001B[0m\u001B[33;1m\u001B[1;3mnumbers=[78] positions=[[0.0, 0.0, 0.0]] cell=[[0.0, 1.96, 1.96], [1.96, 0.0, 1.96], [1.96, 1.96, 0.0]] pbc=[True, True, True]\u001B[0m\u001B[32;1m\u001B[1;3m\n",
      "Invoking: `get_atom_dict_equilibrated_structure` with `{'atom_dict': {'numbers': [79], 'positions': [[0.0, 0.0, 0.0]], 'cell': [[0.0, 2.04, 2.04], [2.04, 0.0, 2.04], [2.04, 2.04, 0.0]], 'pbc': [True, True, True]}, 'calculator_str': 'emt'}`\n",
      "\n",
      "\n",
      "\u001B[0m       Step     Time          Energy          fmax\n",
      "LBFGS:    0 19:41:36        0.002606        0.308859\n",
      "LBFGS:    1 19:41:36        0.000032        0.077808\n",
      "LBFGS:    2 19:41:36       -0.000135        0.003099\n",
      "LBFGS:    3 19:41:36       -0.000135        0.000029\n",
      "LBFGS:    4 19:41:36       -0.000135        0.000000\n",
      "\u001B[38;5;200m\u001B[1;3mnumbers=[79] positions=[[4.761270571021482e-17, -3.4431732128676475e-17, -2.0729599738876008e-16]] cell=[[7.040904860568554e-17, 2.028082809705617, 2.0280828097056176], [2.028082809705617, 1.0384771021574885e-16, 2.0280828097056176], [2.028082809705617, 2.028082809705618, 4.963320342464553e-17]] pbc=[True, True, True]\u001B[0m\u001B[32;1m\u001B[1;3m\n",
      "Invoking: `get_atom_dict_equilibrated_structure` with `{'atom_dict': {'numbers': [47], 'positions': [[0.0, 0.0, 0.0]], 'cell': [[0.0, 2.045, 2.045], [2.045, 0.0, 2.045], [2.045, 2.045, 0.0]], 'pbc': [True, True, True]}, 'calculator_str': 'emt'}`\n",
      "\n",
      "\n",
      "\u001B[0m       Step     Time          Energy          fmax\n",
      "LBFGS:    0 19:41:36        0.001584        0.198735\n",
      "LBFGS:    1 19:41:36        0.000254        0.113272\n",
      "LBFGS:    2 19:41:36       -0.000366        0.004325\n",
      "LBFGS:    3 19:41:36       -0.000367        0.000089\n",
      "LBFGS:    4 19:41:36       -0.000367        0.000000\n",
      "\u001B[38;5;200m\u001B[1;3mnumbers=[47] positions=[[3.632034897593557e-17, -7.643082441891503e-17, -4.3481411845850515e-16]] cell=[[9.839176801279394e-17, 2.031776305380803, 2.0317763053808036], [2.031776305380803, -6.293048194449085e-17, 2.0317763053808036], [2.031776305380803, 2.031776305380803, -2.945414531846451e-17]] pbc=[True, True, True]\u001B[0m\u001B[32;1m\u001B[1;3m\n",
      "Invoking: `get_atom_dict_equilibrated_structure` with `{'atom_dict': {'numbers': [78], 'positions': [[0.0, 0.0, 0.0]], 'cell': [[0.0, 1.96, 1.96], [1.96, 0.0, 1.96], [1.96, 1.96, 0.0]], 'pbc': [True, True, True]}, 'calculator_str': 'emt'}`\n",
      "\n",
      "\n",
      "\u001B[0m       Step     Time          Energy          fmax\n",
      "LBFGS:    0 19:41:36       -0.000125        0.036183\n",
      "LBFGS:    1 19:41:36       -0.000149        0.004500\n",
      "LBFGS:    2 19:41:36       -0.000150        0.000013\n",
      "LBFGS:    3 19:41:36       -0.000150        0.000000\n",
      "\u001B[38;5;200m\u001B[1;3mnumbers=[78] positions=[[1.733508800950033e-17, 1.1611829961508788e-16, 1.1092203033984378e-16]] cell=[[4.60232654901218e-18, 1.9609007393798525, 1.960900739379854], [1.9609007393798532, -3.193849078504324e-16, 1.9609007393798543], [1.9609007393798532, 1.9609007393798528, 1.704915243852484e-16]] pbc=[True, True, True]\u001B[0m\u001B[32;1m\u001B[1;3m\n",
      "Invoking: `get_bulk_modulus` with `{'atom_dict': {'numbers': [79], 'positions': [[4.761270571021482e-17, -3.4431732128676475e-17, -2.0729599738876008e-16]], 'cell': [[7.040904860568554e-17, 2.028082809705617, 2.0280828097056176], [2.028082809705617, 1.0384771021574885e-16, 2.0280828097056176], [2.028082809705617, 2.028082809705618, 4.963320342464553e-17]], 'pbc': [True, True, True]}, 'calculator_str': 'emt'}`\n",
      "\n",
      "\n",
      "\u001B[0m\u001B[36;1m\u001B[1;3m173.83830457892148\u001B[0m\u001B[32;1m\u001B[1;3m\n",
      "Invoking: `get_bulk_modulus` with `{'atom_dict': {'numbers': [47], 'positions': [[3.632034897593557e-17, -7.643082441891503e-17, -4.3481411845850515e-16]], 'cell': [[9.839176801279394e-17, 2.031776305380803, 2.0317763053808036], [2.031776305380803, -6.293048194449085e-17, 2.0317763053808036], [2.031776305380803, 2.031776305380803, -2.945414531846451e-17]], 'pbc': [True, True, True]}, 'calculator_str': 'emt'}`\n",
      "\n",
      "\n",
      "\u001B[0m\u001B[36;1m\u001B[1;3m100.1580099631827\u001B[0m\u001B[32;1m\u001B[1;3m\n",
      "Invoking: `get_bulk_modulus` with `{'atom_dict': {'numbers': [78], 'positions': [[1.733508800950033e-17, 1.1611829961508788e-16, 1.1092203033984378e-16]], 'cell': [[4.60232654901218e-18, 1.9609007393798525, 1.960900739379854], [1.9609007393798532, -3.193849078504324e-16, 1.9609007393798543], [1.9609007393798532, 1.9609007393798528, 1.704915243852484e-16]], 'pbc': [True, True, True]}, 'calculator_str': 'emt'}`\n",
      "\n",
      "\n",
      "\u001B[0m\u001B[36;1m\u001B[1;3m278.29661366411915\u001B[0m\u001B[32;1m\u001B[1;3mHere are the calculated bulk moduli for the noble metals using the EMT model:\n",
      "\n",
      "- **Gold (Au)**: 173.84 GPa\n",
      "- **Silver (Ag)**: 100.16 GPa\n",
      "- **Platinum (Pt)**: 278.30 GPa\n",
      "\n",
      "Among these, Platinum (Pt) has a bulk modulus within the range of 200 GPa.\u001B[0m\n",
      "\n",
      "\u001B[1m> Finished chain.\u001B[0m\n"
     ]
    },
    {
     "data": {
      "text/markdown": [
       "Here are the calculated bulk moduli for the noble metals using the EMT model:\n",
       "\n",
       "- **Gold (Au)**: 173.84 GPa\n",
       "- **Silver (Ag)**: 100.16 GPa\n",
       "- **Platinum (Pt)**: 278.30 GPa\n",
       "\n",
       "Among these, Platinum (Pt) has a bulk modulus within the range of 200 GPa."
      ],
      "text/plain": [
       "<IPython.core.display.Markdown object>"
      ]
     },
     "execution_count": 5,
     "metadata": {},
     "output_type": "execute_result"
    }
   ],
   "source": [
    "%%chat\n",
    "Let's take EMT then"
   ]
  },
  {
   "cell_type": "markdown",
   "id": "6aab7bc7-026a-412b-be3c-89391f07cfd3",
   "metadata": {},
   "source": [
    "The results are summarized in a short list. This demonstration highlights that `LangSim` can be used without prior technical experience in calculating material properties. From students to teachers and professors, it is a handy tool for everybody who wants to have quick access to material properties computed with one of the standard methods like [EMT](https://wiki.fysik.dtu.dk/ase/ase/calculators/emt.html). Obviously, the [MACE](https://mace-docs.readthedocs.io) method is more accurate than the [EMT](https://wiki.fysik.dtu.dk/ase/ase/calculators/emt.html) method, but also computationally more expensive. \n",
    "\n",
    "Still, to further highlight the real-life application of a tool like `LangSim` the next step after the completion of these calculations is the comparison to an experimental reference. For this purpose, the `get_experimental_elastic_property_wikipedia()` function is implemented which downloads the experimental values for the elastic properties from the wikipedia site for [elastic properties](https://en.wikipedia.org/wiki/Elastic_properties_of_the_elements_(data_page))."
   ]
  },
  {
   "cell_type": "code",
   "execution_count": 6,
   "id": "bfae3bb2-6ad1-4e1f-bab4-b1c51fc7044a",
   "metadata": {},
   "outputs": [
    {
     "name": "stdout",
     "output_type": "stream",
     "text": [
      "\n",
      "\n",
      "\u001B[1m> Entering new AgentExecutor chain...\u001B[0m\n",
      "\u001B[32;1m\u001B[1;3m\n",
      "Invoking: `get_experimental_elastic_property_wikipedia` with `{'chemical_symbol': 'Au'}`\n",
      "\n",
      "\n",
      "\u001B[0m\u001B[33;1m\u001B[1;3m{'youngs_modulus': 78.0, 'poissons_ratio': 0.44, 'bulk_modulus': 180.0, 'shear_modulus': 27.0}\u001B[0m\u001B[32;1m\u001B[1;3m\n",
      "Invoking: `get_experimental_elastic_property_wikipedia` with `{'chemical_symbol': 'Ag'}`\n",
      "\n",
      "\n",
      "\u001B[0m\u001B[33;1m\u001B[1;3m{'youngs_modulus': 83.0, 'poissons_ratio': 0.37, 'bulk_modulus': 100.0, 'shear_modulus': 30.0}\u001B[0m\u001B[32;1m\u001B[1;3m\n",
      "Invoking: `get_experimental_elastic_property_wikipedia` with `{'chemical_symbol': 'Pt'}`\n",
      "\n",
      "\n",
      "\u001B[0m\u001B[33;1m\u001B[1;3m{'youngs_modulus': 168.0, 'poissons_ratio': 0.38, 'bulk_modulus': 230.0, 'shear_modulus': 61.0}\u001B[0m\u001B[32;1m\u001B[1;3mHere are the experimental bulk moduli for the noble metals compared to the calculated values using the EMT model:\n",
      "\n",
      "- **Gold (Au)**:\n",
      "  - **Calculated (EMT)**: 173.84 GPa\n",
      "  - **Experimental**: 180.0 GPa\n",
      "\n",
      "- **Silver (Ag)**:\n",
      "  - **Calculated (EMT)**: 100.16 GPa\n",
      "  - **Experimental**: 100.0 GPa\n",
      "\n",
      "- **Platinum (Pt)**:\n",
      "  - **Calculated (EMT)**: 278.30 GPa\n",
      "  - **Experimental**: 230.0 GPa\n",
      "\n",
      "The calculated values are quite close to the experimental values, with the exception of Platinum (Pt), which shows a larger discrepancy.\u001B[0m\n",
      "\n",
      "\u001B[1m> Finished chain.\u001B[0m\n"
     ]
    },
    {
     "data": {
      "text/markdown": [
       "Here are the experimental bulk moduli for the noble metals compared to the calculated values using the EMT model:\n",
       "\n",
       "- **Gold (Au)**:\n",
       "  - **Calculated (EMT)**: 173.84 GPa\n",
       "  - **Experimental**: 180.0 GPa\n",
       "\n",
       "- **Silver (Ag)**:\n",
       "  - **Calculated (EMT)**: 100.16 GPa\n",
       "  - **Experimental**: 100.0 GPa\n",
       "\n",
       "- **Platinum (Pt)**:\n",
       "  - **Calculated (EMT)**: 278.30 GPa\n",
       "  - **Experimental**: 230.0 GPa\n",
       "\n",
       "The calculated values are quite close to the experimental values, with the exception of Platinum (Pt), which shows a larger discrepancy."
      ],
      "text/plain": [
       "<IPython.core.display.Markdown object>"
      ]
     },
     "execution_count": 6,
     "metadata": {},
     "output_type": "execute_result"
    }
   ],
   "source": [
    "%%chat\n",
    "How does this compare to experiment?"
   ]
  },
  {
   "cell_type": "markdown",
   "id": "9f9cb1aa-cf38-49be-8654-7b77cc6ef207",
   "metadata": {},
   "source": "Finally, as the last step the user tasks the LLM to compare the theoretical predictions and the experimental results to give an indication of the trustworthiness of these calculations. Given the optimization for computational efficiency, the result for Platinum with an error of over 20% is insufficient for any real life application. Still, this can be addressed by switching to the [MACE](https://mace-docs.readthedocs.io) model. "
  },
  {
   "cell_type": "code",
   "execution_count": 7,
   "id": "2a6c69a8-73bb-40af-a7f1-500d97f6279b",
   "metadata": {},
   "outputs": [
    {
     "name": "stdout",
     "output_type": "stream",
     "text": [
      "\n",
      "\n",
      "\u001B[1m> Entering new AgentExecutor chain...\u001B[0m\n",
      "\u001B[32;1m\u001B[1;3mCertainly! Let's calculate the percentage deviation between the calculated and experimental bulk moduli for the noble metals.\n",
      "\n",
      "The formula for percentage deviation is:\n",
      "\\[ \\text{Percentage Deviation} = \\left( \\frac{\\text{Calculated Value} - \\text{Experimental Value}}{\\text{Experimental Value}} \\right) \\times 100 \\]\n",
      "\n",
      "Here are the calculations:\n",
      "\n",
      "1. **Gold (Au)**:\n",
      "   - Calculated (EMT): 173.84 GPa\n",
      "   - Experimental: 180.0 GPa\n",
      "   - Percentage Deviation: \\[ \\left( \\frac{173.84 - 180.0}{180.0} \\right) \\times 100 \\approx -3.42\\% \\]\n",
      "\n",
      "2. **Silver (Ag)**:\n",
      "   - Calculated (EMT): 100.16 GPa\n",
      "   - Experimental: 100.0 GPa\n",
      "   - Percentage Deviation: \\[ \\left( \\frac{100.16 - 100.0}{100.0} \\right) \\times 100 \\approx 0.16\\% \\]\n",
      "\n",
      "3. **Platinum (Pt)**:\n",
      "   - Calculated (EMT): 278.30 GPa\n",
      "   - Experimental: 230.0 GPa\n",
      "   - Percentage Deviation: \\[ \\left( \\frac{278.30 - 230.0}{230.0} \\right) \\times 100 \\approx 21.87\\% \\]\n",
      "\n",
      "So, the percentage deviations are:\n",
      "- **Gold (Au)**: -3.42%\n",
      "- **Silver (Ag)**: 0.16%\n",
      "- **Platinum (Pt)**: 21.87%\n",
      "\n",
      "These deviations indicate how close the calculated values are to the experimental values.\u001B[0m\n",
      "\n",
      "\u001B[1m> Finished chain.\u001B[0m\n"
     ]
    },
    {
     "data": {
      "text/markdown": [
       "Certainly! Let's calculate the percentage deviation between the calculated and experimental bulk moduli for the noble metals.\n",
       "\n",
       "The formula for percentage deviation is:\n",
       "\\[ \\text{Percentage Deviation} = \\left( \\frac{\\text{Calculated Value} - \\text{Experimental Value}}{\\text{Experimental Value}} \\right) \\times 100 \\]\n",
       "\n",
       "Here are the calculations:\n",
       "\n",
       "1. **Gold (Au)**:\n",
       "   - Calculated (EMT): 173.84 GPa\n",
       "   - Experimental: 180.0 GPa\n",
       "   - Percentage Deviation: \\[ \\left( \\frac{173.84 - 180.0}{180.0} \\right) \\times 100 \\approx -3.42\\% \\]\n",
       "\n",
       "2. **Silver (Ag)**:\n",
       "   - Calculated (EMT): 100.16 GPa\n",
       "   - Experimental: 100.0 GPa\n",
       "   - Percentage Deviation: \\[ \\left( \\frac{100.16 - 100.0}{100.0} \\right) \\times 100 \\approx 0.16\\% \\]\n",
       "\n",
       "3. **Platinum (Pt)**:\n",
       "   - Calculated (EMT): 278.30 GPa\n",
       "   - Experimental: 230.0 GPa\n",
       "   - Percentage Deviation: \\[ \\left( \\frac{278.30 - 230.0}{230.0} \\right) \\times 100 \\approx 21.87\\% \\]\n",
       "\n",
       "So, the percentage deviations are:\n",
       "- **Gold (Au)**: -3.42%\n",
       "- **Silver (Ag)**: 0.16%\n",
       "- **Platinum (Pt)**: 21.87%\n",
       "\n",
       "These deviations indicate how close the calculated values are to the experimental values."
      ],
      "text/plain": [
       "<IPython.core.display.Markdown object>"
      ]
     },
     "execution_count": 7,
     "metadata": {},
     "output_type": "execute_result"
    }
   ],
   "source": [
    "%%chat\n",
    "Can you show me the deviation in percent?"
   ]
  },
  {
   "cell_type": "markdown",
   "id": "a48a2446-186b-4b7b-b76d-6994301df696",
   "metadata": {},
   "source": [
    "## Summary\n",
    "The jury was convinced that this demonstration of the capabilities of `LangSim` highlights a future direction in the application of LLMs for materials and chemistry. So the `LangSim` team won the [first prize](https://medium.com/@blaiszik/llms-to-accelerate-discovery-in-materials-science-and-chemistry-refections-on-a-hackathon-b8364ca32242) sponsored by [RadicalAI](https://www.radical-ai.com). \n",
    "\n",
    "In comparison to the previous examples, the highlight of this presentation, besides hiding the technical complexity by developing a python module, was the capability of the LLM to repeat the workflow consisting of two calculations, the `get_equilibrium_lattice()` function and the `get_bulk_modulus()` function, over three elements without the need to define any additional functionality. "
   ]
  },
  {
   "cell_type": "code",
   "execution_count": null,
   "id": "dabd4ab1-f3df-4081-b95a-a3c091103fcc",
   "metadata": {},
   "outputs": [],
   "source": []
  }
 ],
 "metadata": {
  "kernelspec": {
   "display_name": "Python 3 (ipykernel)",
   "language": "python",
   "name": "python3"
  },
  "language_info": {
   "codemirror_mode": {
    "name": "ipython",
    "version": 3
   },
   "file_extension": ".py",
   "mimetype": "text/x-python",
   "name": "python",
   "nbconvert_exporter": "python",
   "pygments_lexer": "ipython3",
   "version": "3.12.5"
  }
 },
 "nbformat": 4,
 "nbformat_minor": 5
}
