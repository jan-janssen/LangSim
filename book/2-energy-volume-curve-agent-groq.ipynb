{
 "cells": [
  {
   "cell_type": "markdown",
   "id": "a3fb43db-e147-4245-8c60-cbbb8fd349a6",
   "metadata": {},
   "source": [
    "# Energy Volume Curve Agent\n",
    "Based on the previous tutorial, the next step is to extend the simple crystal structure agent to address the benchmark challenge of calculating an energy-versus-volume curve using the EMT simulation code. Again, this demonstration is based on the Langchain tutorial for [custom agents](https://python.langchain.com/docs/how_to/custom_tools/)."
   ]
  },
  {
   "metadata": {},
   "cell_type": "code",
   "outputs": [],
   "execution_count": null,
   "source": "",
   "id": "95fe836f8bb387c4"
  },
  {
   "cell_type": "markdown",
   "id": "abebe249-91bd-44ad-bcec-79bf4de2e1a6",
   "metadata": {},
   "source": [
    "As a first step, we import a number of python modules, these consist of the [ASE](https://wiki.fysik.dtu.dk/ase/), some standard python libraries as well as a number of tools from [langchain](https://www.langchain.com):"
   ]
  },
  {
   "cell_type": "code",
   "execution_count": 1,
   "id": "cbc2afa1-d50b-4c30-9e0a-5dbd8cac7b3b",
   "metadata": {},
   "outputs": [],
   "source": [
    "from ase.atoms import Atoms\n",
    "from ase.build import bulk\n",
    "from ase.calculators.emt import EMT\n",
    "from ase.constraints import UnitCellFilter\n",
    "from ase.eos import calculate_eos, plot\n",
    "from ase.optimize import LBFGS"
   ]
  },
  {
   "cell_type": "code",
   "execution_count": 2,
   "id": "c2e3de94-c93d-490d-90ba-d4ba6e9e3d6d",
   "metadata": {},
   "outputs": [],
   "source": [
    "from getpass import getpass\n",
    "from typing import List"
   ]
  },
  {
   "cell_type": "code",
   "execution_count": 3,
   "id": "b9b96907-ad13-4a4b-862f-bf3f887dd52a",
   "metadata": {},
   "outputs": [],
   "source": [
    "from langchain_core.tools import tool\n",
    "from langchain.agents import AgentExecutor\n",
    "from langchain.agents.format_scratchpad.openai_tools import format_to_openai_tool_messages\n",
    "from langchain.agents.output_parsers.openai_tools import OpenAIToolsAgentOutputParser\n",
    "from langchain_core.pydantic_v1 import BaseModel\n",
    "from langchain_core.prompts import ChatPromptTemplate, MessagesPlaceholder\n",
    "from langchain_groq import ChatGroq"
   ]
  },
  {
   "cell_type": "markdown",
   "id": "c0e2a114-486a-424c-9371-4b12258f06d5",
   "metadata": {},
   "source": [
    "## Multiple Functions\n",
    "To connect multiple python functions, it is essential to convert all inputs and outputs to `JSON` compatible data types as the communication to the LLM in the background happens in terms of web requests using the `JSON` format. This especially applies to python functions which return python objects. In the case of [ASE](https://wiki.fysik.dtu.dk/ase/) a typical python object is the `ase.atoms.Atoms()` object. To convert the `Atoms()` object to JSON format, we use a [pydantic](https://pydantic.dev) data class as suggested by [langchain](https://www.langchain.com):"
   ]
  },
  {
   "cell_type": "code",
   "execution_count": 4,
   "id": "25f967bd-f431-4780-ab45-21495f40bce3",
   "metadata": {},
   "outputs": [
    {
     "data": {
      "text/plain": [
       "{'title': 'AtomsDict',\n",
       " 'type': 'object',\n",
       " 'properties': {'numbers': {'title': 'Numbers',\n",
       "   'type': 'array',\n",
       "   'items': {'type': 'integer'}},\n",
       "  'positions': {'title': 'Positions',\n",
       "   'type': 'array',\n",
       "   'items': {'type': 'array', 'items': {'type': 'number'}}},\n",
       "  'cell': {'title': 'Cell',\n",
       "   'type': 'array',\n",
       "   'items': {'type': 'array', 'items': {'type': 'number'}}},\n",
       "  'pbc': {'title': 'Pbc', 'type': 'array', 'items': {'type': 'boolean'}}},\n",
       " 'required': ['numbers', 'positions', 'cell', 'pbc']}"
      ]
     },
     "execution_count": 4,
     "metadata": {},
     "output_type": "execute_result"
    }
   ],
   "source": [
    "class AtomsDict(BaseModel):\n",
    "    numbers: List[int]\n",
    "    positions: List[List[float]]\n",
    "    cell: List[List[float]]\n",
    "    pbc: List[bool]\n",
    "\n",
    "AtomsDict.schema()"
   ]
  },
  {
   "cell_type": "markdown",
   "id": "30085089-4b70-40c9-9a92-62caa4c0aa22",
   "metadata": {},
   "source": [
    "In terms of functions, two functions are defined: A `get_equilibirum_lattice()` function which for a given chemical element returns the optimized equilibrium structure as `AtomsDict`. The second function is a `plot_equation_of_state()` function, which takes the already optimized structure as `AtomsDict` as input and then uses the [ASE](https://wiki.fysik.dtu.dk/ase/) internal functionality to plot the energy volume curve. \n",
    "\n",
    "The important point here is that `get_equilibirum_lattice()` would typically just return an `ase.atoms.Atoms()` object, but for compatibility with the LLM it has to be converted to an `AtomsDict` which can be converted to JSON. Finally, in the `plot_equation_of_state()` function the `AtomsDict` is again converted to an `ase.atoms.Atoms()` object to continue the calculation. This is currently a bit tedious. "
   ]
  },
  {
   "cell_type": "code",
   "execution_count": 5,
   "id": "d244a7a4-d564-4611-aea4-10ff733315ef",
   "metadata": {},
   "outputs": [],
   "source": [
    "@tool \n",
    "def get_equilibirum_lattice(chemical_symbol: str) -> AtomsDict:\n",
    "    \"\"\"Returns equilibrium atoms dictionary for a given chemical symbol\"\"\"\n",
    "    atoms = bulk(name=chemical_symbol)\n",
    "    atoms.calc = EMT()\n",
    "    ase_optimizer_obj = LBFGS(UnitCellFilter(atoms))\n",
    "    ase_optimizer_obj.run(fmax=0.000001)\n",
    "    return AtomsDict(**{k: v.tolist() for k, v in atoms.todict().items()})"
   ]
  },
  {
   "cell_type": "code",
   "execution_count": 6,
   "id": "33454233-8bff-4578-a0dc-99bf001a3fb3",
   "metadata": {},
   "outputs": [],
   "source": [
    "@tool\n",
    "def plot_equation_of_state(atom_dict: AtomsDict) -> str:\n",
    "    \"\"\"Returns plot of equation of state of chemical symbol for a given atoms dictionary\"\"\"\n",
    "    atoms = Atoms(**atom_dict.dict())\n",
    "    atoms.calc = EMT()\n",
    "    eos = calculate_eos(atoms)\n",
    "    plotdata = eos.getplotdata()\n",
    "    return plot(*plotdata)"
   ]
  },
  {
   "cell_type": "markdown",
   "id": "8ae5f04f-b9b9-40ad-9306-de17b66c11b4",
   "metadata": {},
   "source": [
    "Finally, the functions converted to LLM tools using the `tool` decorator can again be tested using the `invoke()` function. It takes a python dictionary as input to address the different arguments individually. With this test, the correct implementation of the python functions is validated:"
   ]
  },
  {
   "cell_type": "code",
   "execution_count": 7,
   "id": "cf1a636e-3507-42db-b9e0-761053dfeff4",
   "metadata": {},
   "outputs": [
    {
     "name": "stdout",
     "output_type": "stream",
     "text": [
      "       Step     Time          Energy          fmax\n",
      "LBFGS:    0 07:51:18       -0.001502        0.161794\n",
      "LBFGS:    1 07:51:18       -0.002533        0.135471\n",
      "LBFGS:    2 07:51:18       -0.004879        0.005452\n",
      "LBFGS:    3 07:51:18       -0.004883        0.000157\n",
      "LBFGS:    4 07:51:18       -0.004883        0.000000\n"
     ]
    },
    {
     "name": "stderr",
     "output_type": "stream",
     "text": [
      "/var/folders/9p/rztyv06d0xv4h26cyv8nrw3m0000gq/T/ipykernel_2816/2598102435.py:6: FutureWarning: Import UnitCellFilter from ase.filters\n",
      "  ase_optimizer_obj = LBFGS(UnitCellFilter(atoms))\n"
     ]
    },
    {
     "data": {
      "text/plain": [
       "<Axes: title={'center': 'sj: E: -0.005 eV, V: 15.932 Å$^3$, B: 39.519 GPa'}, xlabel='volume [Å$^3$]', ylabel='energy [eV]'>"
      ]
     },
     "execution_count": 7,
     "metadata": {},
     "output_type": "execute_result"
    },
    {
     "data": {
      "image/png": "[encoded data removed]",
      "text/plain": [
       "<Figure size 640x480 with 1 Axes>"
      ]
     },
     "metadata": {},
     "output_type": "display_data"
    }
   ],
   "source": [
    "el = \"Al\"\n",
    "structure_dict = get_equilibirum_lattice.invoke({\"chemical_symbol\": el})\n",
    "plot_equation_of_state.invoke({\"atom_dict\": structure_dict})"
   ]
  },
  {
   "cell_type": "markdown",
   "id": "f3881566-c046-46b0-b016-8081ec2a2e7b",
   "metadata": {},
   "source": [
    "## Agents\n",
    "Following the same Langchain tutorial for [custom agents](https://python.langchain.com/docs/how_to/custom_tools/) as before a LLM agent is constructed which combines the system prompt, the python functions `get_equilibirum_lattice()` and `plot_equation_of_state()` as tools and the `OpenAIToolsAgentOutputParser()`:"
   ]
  },
  {
   "cell_type": "code",
   "execution_count": 8,
   "id": "6529e329-0947-443a-8325-42ef3510803d",
   "metadata": {},
   "outputs": [
    {
     "name": "stdin",
     "output_type": "stream",
     "text": [
      "Enter your Groq Token: ········\n"
     ]
    }
   ],
   "source": [
    "GROQ_API_KEY = getpass(prompt='Enter your Groq Token:')\n",
    "llm = ChatGroq(model=\"llama3-70b-8192\", temperature=0, groq_api_key=GROQ_API_KEY)\n",
    "tools = [get_equilibirum_lattice, plot_equation_of_state]\n",
    "prompt = ChatPromptTemplate.from_messages(\n",
    "    [\n",
    "        (\n",
    "            \"system\",\n",
    "            \"You are very powerful assistant, but don't know current events. For each query vailidate that it contains a chemical element and otherwise cancel.\",\n",
    "        ),\n",
    "        (\"user\", \"{input}\"),\n",
    "        MessagesPlaceholder(variable_name=\"agent_scratchpad\"),\n",
    "    ]\n",
    ")\n",
    "agent = (\n",
    "    {\n",
    "        \"input\": lambda x: x[\"input\"],\n",
    "        \"agent_scratchpad\": lambda x: format_to_openai_tool_messages(\n",
    "            x[\"intermediate_steps\"]\n",
    "        ),\n",
    "    }\n",
    "    | prompt\n",
    "    | llm.bind_tools(tools)\n",
    "    | OpenAIToolsAgentOutputParser()\n",
    ")\n",
    "agent_executor = AgentExecutor(agent=agent, tools=tools, verbose=True)"
   ]
  },
  {
   "cell_type": "markdown",
   "id": "30aff6cc-c41b-4346-9542-88f0d7833856",
   "metadata": {},
   "source": [
    "## User Interactions\n",
    "The user can then interact with the agent by asking it to `Plot the equation of state of gold`. In the background the agent first calls the `get_equilibirum_lattice()` with the parameter `Au` for the chemical symbol of gold and afterwards `plot_equation_of_state()` with the atomistic structure returned by `get_equilibirum_lattice()`. "
   ]
  },
  {
   "cell_type": "code",
   "execution_count": 9,
   "id": "c2edad58-849b-424f-8460-92507e9545ac",
   "metadata": {},
   "outputs": [
    {
     "name": "stdout",
     "output_type": "stream",
     "text": [
      "\n",
      "\n",
      "\u001B[1m> Entering new AgentExecutor chain...\u001B[0m\n",
      "\u001B[32;1m\u001B[1;3m\n",
      "Invoking: `get_equilibirum_lattice` with `{'chemical_symbol': 'Au'}`\n",
      "\n",
      "\n",
      "\u001B[0m       Step     Time          Energy          fmax\n",
      "LBFGS:    0 07:51:22        0.002606        0.308859\n",
      "LBFGS:    1 07:51:22        0.000032        0.077808\n",
      "LBFGS:    2 07:51:22       -0.000135        0.003099\n",
      "LBFGS:    3 07:51:22       -0.000135        0.000029\n",
      "LBFGS:    4 07:51:22       -0.000135        0.000000\n",
      "\u001B[36;1m\u001B[1;3mnumbers=[79] positions=[[4.761270571021482e-17, -3.44317321286765e-17, -2.0729599738876008e-16]] cell=[[7.040904860568557e-17, 2.028082809705617, 2.0280828097056176], [2.028082809705617, 1.0384771021574885e-16, 2.0280828097056176], [2.028082809705617, 2.028082809705618, 4.963320342464553e-17]] pbc=[True, True, True]\u001B[0m"
     ]
    },
    {
     "name": "stderr",
     "output_type": "stream",
     "text": [
      "/var/folders/9p/rztyv06d0xv4h26cyv8nrw3m0000gq/T/ipykernel_2816/2598102435.py:6: FutureWarning: Import UnitCellFilter from ase.filters\n",
      "  ase_optimizer_obj = LBFGS(UnitCellFilter(atoms))\n"
     ]
    },
    {
     "name": "stdout",
     "output_type": "stream",
     "text": [
      "\u001B[32;1m\u001B[1;3m<tool-use>{\"tool_calls\":[{\"id\":\"pending\",\"type\":\"function\",\"function\":{\"name\":\"plot_equation_of_state\"},\"parameters\":{\"atom_dict\":{\"numbers\":[79],\"positions\":[[4.761270571021482e-17, -3.44317321286765e-17, -2.0729599738876008e-16]],\"cell\":[[7.040904860568557e-17, 2.028082809705617, 2.0280828097056176], [2.028082809705617, 1.0384771021574885e-16, 2.0280828097056176], [2.028082809705617, 2.028082809705618, 4.963320342464553e-17]],\"pbc\":[True, True, True]}}}]}]}\u001B[0m\n",
      "\n",
      "\u001B[1m> Finished chain.\u001B[0m\n"
     ]
    }
   ],
   "source": [
    "lst = list(agent_executor.stream({\"input\": \"Plot the equation of state of gold\"}))"
   ]
  },
  {
   "cell_type": "markdown",
   "id": "555d589b-8607-410f-8a37-12aefd2fec59",
   "metadata": {},
   "source": [
    "## Summary\n",
    "The important point in this example is, that the order of execution of the Python functions is not defined by the user. Instead the LLM automatically determines that `plot_equation_of_state()` needs an `AtomsDict()` object as input and that `get_equilibirum_lattice()` returns such a `AtomsDict()` object as an output, so it makes sense to call `get_equilibirum_lattice()` first and `plot_equation_of_state()` second. The same principles apply to LLM agents with a larger number of python functions. \n",
    "\n",
    "The limiting point at the moment is that the LLMs are web services, so all Python objects have to be converted to `JSON` to be communicated to the LLMs. This restricts the choice of Python objects and requires the development of specialized data classes to construct those interfaces between different Python functions. "
   ]
  },
  {
   "cell_type": "code",
   "execution_count": null,
   "id": "3bfcac8e-aa17-414e-a83d-fd766eefb460",
   "metadata": {},
   "outputs": [],
   "source": []
  }
 ],
 "metadata": {
  "kernelspec": {
   "display_name": "Python 3 (ipykernel)",
   "language": "python",
   "name": "python3"
  },
  "language_info": {
   "codemirror_mode": {
    "name": "ipython",
    "version": 3
   },
   "file_extension": ".py",
   "mimetype": "text/x-python",
   "name": "python",
   "nbconvert_exporter": "python",
   "pygments_lexer": "ipython3",
   "version": "3.12.5"
  }
 },
 "nbformat": 4,
 "nbformat_minor": 5
}
